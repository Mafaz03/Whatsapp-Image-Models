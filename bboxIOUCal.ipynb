{
 "cells": [
  {
   "cell_type": "code",
   "execution_count": 25,
   "metadata": {},
   "outputs": [],
   "source": [
    "from ultralytics import YOLO\n",
    "import matplotlib.pyplot as plt\n",
    "import torch\n",
    "from PIL import Image\n",
    "import torchvision.transforms as transforms\n",
    "import numpy as np\n",
    "from calculations import *\n",
    "from plot_helper import *\n",
    "import matplotlib.patches as patches\n",
    "import pandas as pd\n",
    "from tqdm import tqdm\n",
    "\n",
    "model = YOLO(\"models/WhatsappWindow_Models/v4.pt\")"
   ]
  },
  {
   "cell_type": "code",
   "execution_count": 2,
   "metadata": {},
   "outputs": [
    {
     "data": {
      "text/html": [
       "<div>\n",
       "<style scoped>\n",
       "    .dataframe tbody tr th:only-of-type {\n",
       "        vertical-align: middle;\n",
       "    }\n",
       "\n",
       "    .dataframe tbody tr th {\n",
       "        vertical-align: top;\n",
       "    }\n",
       "\n",
       "    .dataframe thead th {\n",
       "        text-align: right;\n",
       "    }\n",
       "</style>\n",
       "<table border=\"1\" class=\"dataframe\">\n",
       "  <thead>\n",
       "    <tr style=\"text-align: right;\">\n",
       "      <th></th>\n",
       "      <th>filename</th>\n",
       "      <th>class</th>\n",
       "      <th>xmin</th>\n",
       "      <th>ymin</th>\n",
       "      <th>xmax</th>\n",
       "      <th>ymax</th>\n",
       "    </tr>\n",
       "  </thead>\n",
       "  <tbody>\n",
       "    <tr>\n",
       "      <th>0</th>\n",
       "      <td>WhatsApp-Image-2024-06-14-at-21-12-06_jpeg.rf....</td>\n",
       "      <td>window</td>\n",
       "      <td>957</td>\n",
       "      <td>1</td>\n",
       "      <td>1920</td>\n",
       "      <td>1019</td>\n",
       "    </tr>\n",
       "    <tr>\n",
       "      <th>1</th>\n",
       "      <td>Screenshot-2024-06-15-at-5-41-16-PM_png.rf.232...</td>\n",
       "      <td>window</td>\n",
       "      <td>200</td>\n",
       "      <td>106</td>\n",
       "      <td>1165</td>\n",
       "      <td>971</td>\n",
       "    </tr>\n",
       "    <tr>\n",
       "      <th>2</th>\n",
       "      <td>WhatsApp-Image-2024-06-14-at-21-15-12_jpeg.rf....</td>\n",
       "      <td>window</td>\n",
       "      <td>12</td>\n",
       "      <td>1</td>\n",
       "      <td>1914</td>\n",
       "      <td>1078</td>\n",
       "    </tr>\n",
       "    <tr>\n",
       "      <th>3</th>\n",
       "      <td>5_png.rf.39c0027c1ba83d004457a08cbfcc91d7.jpg</td>\n",
       "      <td>window</td>\n",
       "      <td>763</td>\n",
       "      <td>24</td>\n",
       "      <td>1892</td>\n",
       "      <td>940</td>\n",
       "    </tr>\n",
       "    <tr>\n",
       "      <th>4</th>\n",
       "      <td>Screenshot-2024-06-14-at-6-32-33-PM_png.rf.002...</td>\n",
       "      <td>window</td>\n",
       "      <td>352</td>\n",
       "      <td>131</td>\n",
       "      <td>1594</td>\n",
       "      <td>948</td>\n",
       "    </tr>\n",
       "    <tr>\n",
       "      <th>5</th>\n",
       "      <td>10_png.rf.d3d13fb6113d7a34efabdf8e85a86e95.jpg</td>\n",
       "      <td>window</td>\n",
       "      <td>59</td>\n",
       "      <td>248</td>\n",
       "      <td>1163</td>\n",
       "      <td>967</td>\n",
       "    </tr>\n",
       "    <tr>\n",
       "      <th>6</th>\n",
       "      <td>Screenshot-2024-06-14-at-9-46-56-PM_png.rf.05d...</td>\n",
       "      <td>window</td>\n",
       "      <td>777</td>\n",
       "      <td>54</td>\n",
       "      <td>1544</td>\n",
       "      <td>896</td>\n",
       "    </tr>\n",
       "    <tr>\n",
       "      <th>7</th>\n",
       "      <td>WhatsApp-Image-2024-06-14-at-20-25-23_jpeg.rf....</td>\n",
       "      <td>window</td>\n",
       "      <td>327</td>\n",
       "      <td>112</td>\n",
       "      <td>1665</td>\n",
       "      <td>988</td>\n",
       "    </tr>\n",
       "    <tr>\n",
       "      <th>8</th>\n",
       "      <td>WhatsApp-Image-2024-06-14-at-20-20-32_jpeg.rf....</td>\n",
       "      <td>window</td>\n",
       "      <td>322</td>\n",
       "      <td>111</td>\n",
       "      <td>1670</td>\n",
       "      <td>921</td>\n",
       "    </tr>\n",
       "    <tr>\n",
       "      <th>9</th>\n",
       "      <td>WhatsApp-Image-2024-06-14-at-21-06-45_jpeg.rf....</td>\n",
       "      <td>window</td>\n",
       "      <td>63</td>\n",
       "      <td>196</td>\n",
       "      <td>1071</td>\n",
       "      <td>898</td>\n",
       "    </tr>\n",
       "    <tr>\n",
       "      <th>10</th>\n",
       "      <td>Screenshot-2024-06-14-at-9-47-45-PM-10-01-54-P...</td>\n",
       "      <td>window</td>\n",
       "      <td>205</td>\n",
       "      <td>124</td>\n",
       "      <td>1656</td>\n",
       "      <td>1002</td>\n",
       "    </tr>\n",
       "    <tr>\n",
       "      <th>11</th>\n",
       "      <td>ss-10-22-12-PM_jpg.rf.04b7ba9ef124087f83aa62a7...</td>\n",
       "      <td>window</td>\n",
       "      <td>407</td>\n",
       "      <td>271</td>\n",
       "      <td>1392</td>\n",
       "      <td>1029</td>\n",
       "    </tr>\n",
       "    <tr>\n",
       "      <th>12</th>\n",
       "      <td>WhatsApp-Image-2024-06-14-at-20-22-01_jpeg.rf....</td>\n",
       "      <td>window</td>\n",
       "      <td>327</td>\n",
       "      <td>118</td>\n",
       "      <td>1650</td>\n",
       "      <td>886</td>\n",
       "    </tr>\n",
       "    <tr>\n",
       "      <th>13</th>\n",
       "      <td>Screenshot-2024-06-14-at-6-31-54-PM_png.rf.f48...</td>\n",
       "      <td>window</td>\n",
       "      <td>377</td>\n",
       "      <td>158</td>\n",
       "      <td>1365</td>\n",
       "      <td>940</td>\n",
       "    </tr>\n",
       "    <tr>\n",
       "      <th>14</th>\n",
       "      <td>Screenshot-2024-06-14-at-9-46-04-PM-10-01-54-P...</td>\n",
       "      <td>window</td>\n",
       "      <td>279</td>\n",
       "      <td>105</td>\n",
       "      <td>1301</td>\n",
       "      <td>978</td>\n",
       "    </tr>\n",
       "    <tr>\n",
       "      <th>15</th>\n",
       "      <td>Screenshot-2024-06-15-at-5-42-09-PM_png.rf.e08...</td>\n",
       "      <td>window</td>\n",
       "      <td>339</td>\n",
       "      <td>45</td>\n",
       "      <td>1160</td>\n",
       "      <td>986</td>\n",
       "    </tr>\n",
       "    <tr>\n",
       "      <th>16</th>\n",
       "      <td>WhatsApp-Image-2024-06-14-at-20-31-01_jpeg.rf....</td>\n",
       "      <td>window</td>\n",
       "      <td>318</td>\n",
       "      <td>103</td>\n",
       "      <td>1668</td>\n",
       "      <td>999</td>\n",
       "    </tr>\n",
       "    <tr>\n",
       "      <th>17</th>\n",
       "      <td>Screenshot-2024-06-14-at-9-47-27-PM_png.rf.887...</td>\n",
       "      <td>window</td>\n",
       "      <td>369</td>\n",
       "      <td>101</td>\n",
       "      <td>1292</td>\n",
       "      <td>979</td>\n",
       "    </tr>\n",
       "    <tr>\n",
       "      <th>18</th>\n",
       "      <td>Screenshot-2024-06-15-at-5-42-25-PM_png.rf.f00...</td>\n",
       "      <td>window</td>\n",
       "      <td>126</td>\n",
       "      <td>34</td>\n",
       "      <td>1794</td>\n",
       "      <td>1036</td>\n",
       "    </tr>\n",
       "    <tr>\n",
       "      <th>19</th>\n",
       "      <td>WhatsApp-Image-2024-06-14-at-21-12-47_jpeg.rf....</td>\n",
       "      <td>window</td>\n",
       "      <td>6</td>\n",
       "      <td>1</td>\n",
       "      <td>954</td>\n",
       "      <td>1030</td>\n",
       "    </tr>\n",
       "    <tr>\n",
       "      <th>20</th>\n",
       "      <td>Screenshot-2024-06-15-at-5-42-31-PM_png.rf.9c6...</td>\n",
       "      <td>window</td>\n",
       "      <td>126</td>\n",
       "      <td>35</td>\n",
       "      <td>1794</td>\n",
       "      <td>1039</td>\n",
       "    </tr>\n",
       "    <tr>\n",
       "      <th>21</th>\n",
       "      <td>WhatsApp-Image-2024-06-14-at-20-41-55_jpeg.rf....</td>\n",
       "      <td>window</td>\n",
       "      <td>5</td>\n",
       "      <td>1</td>\n",
       "      <td>1920</td>\n",
       "      <td>1021</td>\n",
       "    </tr>\n",
       "    <tr>\n",
       "      <th>22</th>\n",
       "      <td>Screenshot-2024-06-14-at-9-47-33-PM-10-01-54-P...</td>\n",
       "      <td>window</td>\n",
       "      <td>202</td>\n",
       "      <td>164</td>\n",
       "      <td>1128</td>\n",
       "      <td>1044</td>\n",
       "    </tr>\n",
       "    <tr>\n",
       "      <th>23</th>\n",
       "      <td>Screenshot-2024-06-14-at-9-45-59-PM_png.rf.cac...</td>\n",
       "      <td>window</td>\n",
       "      <td>278</td>\n",
       "      <td>110</td>\n",
       "      <td>1157</td>\n",
       "      <td>913</td>\n",
       "    </tr>\n",
       "    <tr>\n",
       "      <th>24</th>\n",
       "      <td>WhatsApp-Image-2024-06-14-at-20-21-04_jpeg.rf....</td>\n",
       "      <td>window</td>\n",
       "      <td>322</td>\n",
       "      <td>115</td>\n",
       "      <td>1675</td>\n",
       "      <td>916</td>\n",
       "    </tr>\n",
       "    <tr>\n",
       "      <th>25</th>\n",
       "      <td>8_png.rf.cda884eccab0c773b3874ec6f519941e.jpg</td>\n",
       "      <td>window</td>\n",
       "      <td>748</td>\n",
       "      <td>5</td>\n",
       "      <td>1872</td>\n",
       "      <td>906</td>\n",
       "    </tr>\n",
       "  </tbody>\n",
       "</table>\n",
       "</div>"
      ],
      "text/plain": [
       "                                             filename   class  xmin  ymin  \\\n",
       "0   WhatsApp-Image-2024-06-14-at-21-12-06_jpeg.rf....  window   957     1   \n",
       "1   Screenshot-2024-06-15-at-5-41-16-PM_png.rf.232...  window   200   106   \n",
       "2   WhatsApp-Image-2024-06-14-at-21-15-12_jpeg.rf....  window    12     1   \n",
       "3       5_png.rf.39c0027c1ba83d004457a08cbfcc91d7.jpg  window   763    24   \n",
       "4   Screenshot-2024-06-14-at-6-32-33-PM_png.rf.002...  window   352   131   \n",
       "5      10_png.rf.d3d13fb6113d7a34efabdf8e85a86e95.jpg  window    59   248   \n",
       "6   Screenshot-2024-06-14-at-9-46-56-PM_png.rf.05d...  window   777    54   \n",
       "7   WhatsApp-Image-2024-06-14-at-20-25-23_jpeg.rf....  window   327   112   \n",
       "8   WhatsApp-Image-2024-06-14-at-20-20-32_jpeg.rf....  window   322   111   \n",
       "9   WhatsApp-Image-2024-06-14-at-21-06-45_jpeg.rf....  window    63   196   \n",
       "10  Screenshot-2024-06-14-at-9-47-45-PM-10-01-54-P...  window   205   124   \n",
       "11  ss-10-22-12-PM_jpg.rf.04b7ba9ef124087f83aa62a7...  window   407   271   \n",
       "12  WhatsApp-Image-2024-06-14-at-20-22-01_jpeg.rf....  window   327   118   \n",
       "13  Screenshot-2024-06-14-at-6-31-54-PM_png.rf.f48...  window   377   158   \n",
       "14  Screenshot-2024-06-14-at-9-46-04-PM-10-01-54-P...  window   279   105   \n",
       "15  Screenshot-2024-06-15-at-5-42-09-PM_png.rf.e08...  window   339    45   \n",
       "16  WhatsApp-Image-2024-06-14-at-20-31-01_jpeg.rf....  window   318   103   \n",
       "17  Screenshot-2024-06-14-at-9-47-27-PM_png.rf.887...  window   369   101   \n",
       "18  Screenshot-2024-06-15-at-5-42-25-PM_png.rf.f00...  window   126    34   \n",
       "19  WhatsApp-Image-2024-06-14-at-21-12-47_jpeg.rf....  window     6     1   \n",
       "20  Screenshot-2024-06-15-at-5-42-31-PM_png.rf.9c6...  window   126    35   \n",
       "21  WhatsApp-Image-2024-06-14-at-20-41-55_jpeg.rf....  window     5     1   \n",
       "22  Screenshot-2024-06-14-at-9-47-33-PM-10-01-54-P...  window   202   164   \n",
       "23  Screenshot-2024-06-14-at-9-45-59-PM_png.rf.cac...  window   278   110   \n",
       "24  WhatsApp-Image-2024-06-14-at-20-21-04_jpeg.rf....  window   322   115   \n",
       "25      8_png.rf.cda884eccab0c773b3874ec6f519941e.jpg  window   748     5   \n",
       "\n",
       "    xmax  ymax  \n",
       "0   1920  1019  \n",
       "1   1165   971  \n",
       "2   1914  1078  \n",
       "3   1892   940  \n",
       "4   1594   948  \n",
       "5   1163   967  \n",
       "6   1544   896  \n",
       "7   1665   988  \n",
       "8   1670   921  \n",
       "9   1071   898  \n",
       "10  1656  1002  \n",
       "11  1392  1029  \n",
       "12  1650   886  \n",
       "13  1365   940  \n",
       "14  1301   978  \n",
       "15  1160   986  \n",
       "16  1668   999  \n",
       "17  1292   979  \n",
       "18  1794  1036  \n",
       "19   954  1030  \n",
       "20  1794  1039  \n",
       "21  1920  1021  \n",
       "22  1128  1044  \n",
       "23  1157   913  \n",
       "24  1675   916  \n",
       "25  1872   906  "
      ]
     },
     "execution_count": 2,
     "metadata": {},
     "output_type": "execute_result"
    }
   ],
   "source": [
    "annotations_bbox_padding_test = pd.read_csv(\"WhatsappWindowDatasetPADDING/WhatsappWindowDatasetPADDING-Test/_annotations.csv\")\n",
    "annotations_bbox_padding_test = annotations_bbox_padding_test.drop(columns=['width','height'], axis=0)\n",
    "annotations_bbox_padding_test"
   ]
  },
  {
   "cell_type": "code",
   "execution_count": 3,
   "metadata": {},
   "outputs": [
    {
     "name": "stderr",
     "output_type": "stream",
     "text": [
      "  0%|          | 0/26 [00:00<?, ?it/s]"
     ]
    },
    {
     "name": "stdout",
     "output_type": "stream",
     "text": [
      "\n",
      "0: 576x1024 1 window, 1379.2ms\n",
      "Speed: 6.7ms preprocess, 1379.2ms inference, 0.8ms postprocess per image at shape (1, 3, 576, 1024)\n"
     ]
    },
    {
     "name": "stderr",
     "output_type": "stream",
     "text": [
      "  4%|▍         | 1/26 [00:01<00:42,  1.72s/it]"
     ]
    },
    {
     "name": "stdout",
     "output_type": "stream",
     "text": [
      "\n",
      "0: 576x1024 1 window, 1298.5ms\n",
      "Speed: 5.0ms preprocess, 1298.5ms inference, 0.6ms postprocess per image at shape (1, 3, 576, 1024)\n"
     ]
    },
    {
     "name": "stderr",
     "output_type": "stream",
     "text": [
      "  8%|▊         | 2/26 [00:03<00:35,  1.49s/it]"
     ]
    },
    {
     "name": "stdout",
     "output_type": "stream",
     "text": [
      "\n",
      "0: 576x1024 3 windows, 1294.4ms\n",
      "Speed: 4.9ms preprocess, 1294.4ms inference, 0.6ms postprocess per image at shape (1, 3, 576, 1024)\n"
     ]
    },
    {
     "name": "stderr",
     "output_type": "stream",
     "text": [
      " 12%|█▏        | 3/26 [00:04<00:32,  1.41s/it]"
     ]
    },
    {
     "name": "stdout",
     "output_type": "stream",
     "text": [
      "\n",
      "0: 576x1024 1 window, 1314.4ms\n",
      "Speed: 5.5ms preprocess, 1314.4ms inference, 0.7ms postprocess per image at shape (1, 3, 576, 1024)\n"
     ]
    },
    {
     "name": "stderr",
     "output_type": "stream",
     "text": [
      " 15%|█▌        | 4/26 [00:05<00:30,  1.39s/it]"
     ]
    },
    {
     "name": "stdout",
     "output_type": "stream",
     "text": [
      "\n",
      "0: 576x1024 1 window, 1296.6ms\n",
      "Speed: 5.0ms preprocess, 1296.6ms inference, 0.7ms postprocess per image at shape (1, 3, 576, 1024)\n"
     ]
    },
    {
     "name": "stderr",
     "output_type": "stream",
     "text": [
      " 19%|█▉        | 5/26 [00:07<00:28,  1.36s/it]"
     ]
    },
    {
     "name": "stdout",
     "output_type": "stream",
     "text": [
      "\n",
      "0: 576x1024 1 window, 1323.0ms\n",
      "Speed: 5.0ms preprocess, 1323.0ms inference, 0.7ms postprocess per image at shape (1, 3, 576, 1024)\n"
     ]
    },
    {
     "name": "stderr",
     "output_type": "stream",
     "text": [
      " 23%|██▎       | 6/26 [00:08<00:27,  1.36s/it]"
     ]
    },
    {
     "name": "stdout",
     "output_type": "stream",
     "text": [
      "\n",
      "0: 576x1024 1 window, 1355.7ms\n",
      "Speed: 5.7ms preprocess, 1355.7ms inference, 0.5ms postprocess per image at shape (1, 3, 576, 1024)\n"
     ]
    },
    {
     "name": "stderr",
     "output_type": "stream",
     "text": [
      " 27%|██▋       | 7/26 [00:09<00:25,  1.37s/it]"
     ]
    },
    {
     "name": "stdout",
     "output_type": "stream",
     "text": [
      "\n",
      "0: 576x1024 1 window, 1335.4ms\n",
      "Speed: 5.1ms preprocess, 1335.4ms inference, 1.0ms postprocess per image at shape (1, 3, 576, 1024)\n"
     ]
    },
    {
     "name": "stderr",
     "output_type": "stream",
     "text": [
      " 31%|███       | 8/26 [00:11<00:24,  1.37s/it]"
     ]
    },
    {
     "name": "stdout",
     "output_type": "stream",
     "text": [
      "\n",
      "0: 576x1024 2 windows, 1346.0ms\n",
      "Speed: 6.0ms preprocess, 1346.0ms inference, 1.0ms postprocess per image at shape (1, 3, 576, 1024)\n"
     ]
    },
    {
     "name": "stderr",
     "output_type": "stream",
     "text": [
      " 35%|███▍      | 9/26 [00:12<00:23,  1.37s/it]"
     ]
    },
    {
     "name": "stdout",
     "output_type": "stream",
     "text": [
      "\n",
      "0: 576x1024 1 window, 1293.6ms\n",
      "Speed: 5.2ms preprocess, 1293.6ms inference, 0.8ms postprocess per image at shape (1, 3, 576, 1024)\n"
     ]
    },
    {
     "name": "stderr",
     "output_type": "stream",
     "text": [
      " 38%|███▊      | 10/26 [00:13<00:21,  1.36s/it]"
     ]
    },
    {
     "name": "stdout",
     "output_type": "stream",
     "text": [
      "\n",
      "0: 576x1024 1 window, 1337.5ms\n",
      "Speed: 4.8ms preprocess, 1337.5ms inference, 0.7ms postprocess per image at shape (1, 3, 576, 1024)\n"
     ]
    },
    {
     "name": "stderr",
     "output_type": "stream",
     "text": [
      " 42%|████▏     | 11/26 [00:15<00:20,  1.36s/it]"
     ]
    },
    {
     "name": "stdout",
     "output_type": "stream",
     "text": [
      "\n",
      "0: 576x1024 1 window, 1337.6ms\n",
      "Speed: 5.1ms preprocess, 1337.6ms inference, 0.7ms postprocess per image at shape (1, 3, 576, 1024)\n"
     ]
    },
    {
     "name": "stderr",
     "output_type": "stream",
     "text": [
      " 46%|████▌     | 12/26 [00:16<00:19,  1.36s/it]"
     ]
    },
    {
     "name": "stdout",
     "output_type": "stream",
     "text": [
      "\n",
      "0: 576x1024 1 window, 1346.9ms\n",
      "Speed: 5.3ms preprocess, 1346.9ms inference, 0.8ms postprocess per image at shape (1, 3, 576, 1024)\n"
     ]
    },
    {
     "name": "stderr",
     "output_type": "stream",
     "text": [
      " 50%|█████     | 13/26 [00:17<00:17,  1.37s/it]"
     ]
    },
    {
     "name": "stdout",
     "output_type": "stream",
     "text": [
      "\n",
      "0: 576x1024 1 window, 1301.5ms\n",
      "Speed: 5.9ms preprocess, 1301.5ms inference, 0.6ms postprocess per image at shape (1, 3, 576, 1024)\n"
     ]
    },
    {
     "name": "stderr",
     "output_type": "stream",
     "text": [
      " 54%|█████▍    | 14/26 [00:19<00:16,  1.36s/it]"
     ]
    },
    {
     "name": "stdout",
     "output_type": "stream",
     "text": [
      "\n",
      "0: 576x1024 1 window, 1289.5ms\n",
      "Speed: 5.0ms preprocess, 1289.5ms inference, 0.5ms postprocess per image at shape (1, 3, 576, 1024)\n"
     ]
    },
    {
     "name": "stderr",
     "output_type": "stream",
     "text": [
      " 58%|█████▊    | 15/26 [00:20<00:14,  1.35s/it]"
     ]
    },
    {
     "name": "stdout",
     "output_type": "stream",
     "text": [
      "\n",
      "0: 576x1024 1 window, 1292.8ms\n",
      "Speed: 4.9ms preprocess, 1292.8ms inference, 0.7ms postprocess per image at shape (1, 3, 576, 1024)\n"
     ]
    },
    {
     "name": "stderr",
     "output_type": "stream",
     "text": [
      " 62%|██████▏   | 16/26 [00:21<00:13,  1.34s/it]"
     ]
    },
    {
     "name": "stdout",
     "output_type": "stream",
     "text": [
      "\n",
      "0: 576x1024 2 windows, 1308.7ms\n",
      "Speed: 5.7ms preprocess, 1308.7ms inference, 0.6ms postprocess per image at shape (1, 3, 576, 1024)\n"
     ]
    },
    {
     "name": "stderr",
     "output_type": "stream",
     "text": [
      " 65%|██████▌   | 17/26 [00:23<00:12,  1.34s/it]"
     ]
    },
    {
     "name": "stdout",
     "output_type": "stream",
     "text": [
      "\n",
      "0: 576x1024 1 window, 1313.5ms\n",
      "Speed: 5.2ms preprocess, 1313.5ms inference, 0.9ms postprocess per image at shape (1, 3, 576, 1024)\n"
     ]
    },
    {
     "name": "stderr",
     "output_type": "stream",
     "text": [
      " 69%|██████▉   | 18/26 [00:24<00:10,  1.34s/it]"
     ]
    },
    {
     "name": "stdout",
     "output_type": "stream",
     "text": [
      "\n",
      "0: 576x1024 1 window, 1315.4ms\n",
      "Speed: 5.7ms preprocess, 1315.4ms inference, 0.8ms postprocess per image at shape (1, 3, 576, 1024)\n"
     ]
    },
    {
     "name": "stderr",
     "output_type": "stream",
     "text": [
      " 73%|███████▎  | 19/26 [00:25<00:09,  1.34s/it]"
     ]
    },
    {
     "name": "stdout",
     "output_type": "stream",
     "text": [
      "\n",
      "0: 576x1024 2 windows, 1359.4ms\n",
      "Speed: 5.1ms preprocess, 1359.4ms inference, 0.7ms postprocess per image at shape (1, 3, 576, 1024)\n"
     ]
    },
    {
     "name": "stderr",
     "output_type": "stream",
     "text": [
      " 77%|███████▋  | 20/26 [00:27<00:08,  1.36s/it]"
     ]
    },
    {
     "name": "stdout",
     "output_type": "stream",
     "text": [
      "\n",
      "0: 576x1024 1 window, 1365.3ms\n",
      "Speed: 6.9ms preprocess, 1365.3ms inference, 0.8ms postprocess per image at shape (1, 3, 576, 1024)\n"
     ]
    },
    {
     "name": "stderr",
     "output_type": "stream",
     "text": [
      " 81%|████████  | 21/26 [00:28<00:06,  1.37s/it]"
     ]
    },
    {
     "name": "stdout",
     "output_type": "stream",
     "text": [
      "\n",
      "0: 576x1024 2 windows, 1378.7ms\n",
      "Speed: 4.8ms preprocess, 1378.7ms inference, 0.7ms postprocess per image at shape (1, 3, 576, 1024)\n"
     ]
    },
    {
     "name": "stderr",
     "output_type": "stream",
     "text": [
      " 85%|████████▍ | 22/26 [00:30<00:05,  1.38s/it]"
     ]
    },
    {
     "name": "stdout",
     "output_type": "stream",
     "text": [
      "\n",
      "0: 576x1024 1 window, 1331.0ms\n",
      "Speed: 5.2ms preprocess, 1331.0ms inference, 0.6ms postprocess per image at shape (1, 3, 576, 1024)\n"
     ]
    },
    {
     "name": "stderr",
     "output_type": "stream",
     "text": [
      " 88%|████████▊ | 23/26 [00:31<00:04,  1.38s/it]"
     ]
    },
    {
     "name": "stdout",
     "output_type": "stream",
     "text": [
      "\n",
      "0: 576x1024 1 window, 1332.2ms\n",
      "Speed: 5.1ms preprocess, 1332.2ms inference, 0.7ms postprocess per image at shape (1, 3, 576, 1024)\n"
     ]
    },
    {
     "name": "stderr",
     "output_type": "stream",
     "text": [
      " 92%|█████████▏| 24/26 [00:32<00:02,  1.37s/it]"
     ]
    },
    {
     "name": "stdout",
     "output_type": "stream",
     "text": [
      "\n",
      "0: 576x1024 1 window, 1299.2ms\n",
      "Speed: 5.0ms preprocess, 1299.2ms inference, 0.9ms postprocess per image at shape (1, 3, 576, 1024)\n"
     ]
    },
    {
     "name": "stderr",
     "output_type": "stream",
     "text": [
      " 96%|█████████▌| 25/26 [00:34<00:01,  1.36s/it]"
     ]
    },
    {
     "name": "stdout",
     "output_type": "stream",
     "text": [
      "\n",
      "0: 576x1024 1 window, 1280.5ms\n",
      "Speed: 5.3ms preprocess, 1280.5ms inference, 0.6ms postprocess per image at shape (1, 3, 576, 1024)\n"
     ]
    },
    {
     "name": "stderr",
     "output_type": "stream",
     "text": [
      "100%|██████████| 26/26 [00:35<00:00,  1.37s/it]\n"
     ]
    }
   ],
   "source": [
    "prediction_annotation_padding_test = []\n",
    "for i in tqdm(range(len(annotations_bbox_padding_test))):\n",
    "    predictions = []\n",
    "    filename = annotations_bbox_padding_test.iloc[i].filename\n",
    "    image_path = f\"WhatsappWindowDatasetPADDING/WhatsappWindowDatasetPADDING-Test/{filename}\"\n",
    "    im = plt.imread(image_path)\n",
    "    try:\n",
    "        b = model.predict(im)[0].boxes\n",
    "        predictions.append(filename)\n",
    "        predictions.append('window')\n",
    "        predictions.extend(list(map(int, b.xyxy[0].tolist())))\n",
    "    except: pass\n",
    "    prediction_annotation_padding_test.append(predictions)"
   ]
  },
  {
   "cell_type": "code",
   "execution_count": 4,
   "metadata": {},
   "outputs": [
    {
     "data": {
      "text/html": [
       "<div>\n",
       "<style scoped>\n",
       "    .dataframe tbody tr th:only-of-type {\n",
       "        vertical-align: middle;\n",
       "    }\n",
       "\n",
       "    .dataframe tbody tr th {\n",
       "        vertical-align: top;\n",
       "    }\n",
       "\n",
       "    .dataframe thead th {\n",
       "        text-align: right;\n",
       "    }\n",
       "</style>\n",
       "<table border=\"1\" class=\"dataframe\">\n",
       "  <thead>\n",
       "    <tr style=\"text-align: right;\">\n",
       "      <th></th>\n",
       "      <th>filename</th>\n",
       "      <th>class</th>\n",
       "      <th>xmin</th>\n",
       "      <th>ymin</th>\n",
       "      <th>xmax</th>\n",
       "      <th>ymax</th>\n",
       "    </tr>\n",
       "  </thead>\n",
       "  <tbody>\n",
       "    <tr>\n",
       "      <th>0</th>\n",
       "      <td>WhatsApp-Image-2024-06-14-at-21-12-06_jpeg.rf....</td>\n",
       "      <td>window</td>\n",
       "      <td>950</td>\n",
       "      <td>7</td>\n",
       "      <td>1920</td>\n",
       "      <td>1068</td>\n",
       "    </tr>\n",
       "    <tr>\n",
       "      <th>1</th>\n",
       "      <td>Screenshot-2024-06-15-at-5-41-16-PM_png.rf.232...</td>\n",
       "      <td>window</td>\n",
       "      <td>197</td>\n",
       "      <td>107</td>\n",
       "      <td>1167</td>\n",
       "      <td>977</td>\n",
       "    </tr>\n",
       "    <tr>\n",
       "      <th>2</th>\n",
       "      <td>WhatsApp-Image-2024-06-14-at-21-15-12_jpeg.rf....</td>\n",
       "      <td>window</td>\n",
       "      <td>494</td>\n",
       "      <td>0</td>\n",
       "      <td>1920</td>\n",
       "      <td>1047</td>\n",
       "    </tr>\n",
       "    <tr>\n",
       "      <th>3</th>\n",
       "      <td>5_png.rf.39c0027c1ba83d004457a08cbfcc91d7.jpg</td>\n",
       "      <td>window</td>\n",
       "      <td>753</td>\n",
       "      <td>25</td>\n",
       "      <td>1920</td>\n",
       "      <td>929</td>\n",
       "    </tr>\n",
       "    <tr>\n",
       "      <th>4</th>\n",
       "      <td>Screenshot-2024-06-14-at-6-32-33-PM_png.rf.002...</td>\n",
       "      <td>window</td>\n",
       "      <td>361</td>\n",
       "      <td>139</td>\n",
       "      <td>1043</td>\n",
       "      <td>1039</td>\n",
       "    </tr>\n",
       "    <tr>\n",
       "      <th>5</th>\n",
       "      <td>10_png.rf.d3d13fb6113d7a34efabdf8e85a86e95.jpg</td>\n",
       "      <td>window</td>\n",
       "      <td>44</td>\n",
       "      <td>242</td>\n",
       "      <td>1214</td>\n",
       "      <td>963</td>\n",
       "    </tr>\n",
       "    <tr>\n",
       "      <th>6</th>\n",
       "      <td>Screenshot-2024-06-14-at-9-46-56-PM_png.rf.05d...</td>\n",
       "      <td>window</td>\n",
       "      <td>780</td>\n",
       "      <td>50</td>\n",
       "      <td>1542</td>\n",
       "      <td>905</td>\n",
       "    </tr>\n",
       "    <tr>\n",
       "      <th>7</th>\n",
       "      <td>WhatsApp-Image-2024-06-14-at-20-25-23_jpeg.rf....</td>\n",
       "      <td>window</td>\n",
       "      <td>338</td>\n",
       "      <td>106</td>\n",
       "      <td>1768</td>\n",
       "      <td>1009</td>\n",
       "    </tr>\n",
       "    <tr>\n",
       "      <th>8</th>\n",
       "      <td>WhatsApp-Image-2024-06-14-at-20-20-32_jpeg.rf....</td>\n",
       "      <td>window</td>\n",
       "      <td>309</td>\n",
       "      <td>107</td>\n",
       "      <td>1724</td>\n",
       "      <td>941</td>\n",
       "    </tr>\n",
       "    <tr>\n",
       "      <th>9</th>\n",
       "      <td>WhatsApp-Image-2024-06-14-at-21-06-45_jpeg.rf....</td>\n",
       "      <td>window</td>\n",
       "      <td>47</td>\n",
       "      <td>190</td>\n",
       "      <td>1080</td>\n",
       "      <td>896</td>\n",
       "    </tr>\n",
       "    <tr>\n",
       "      <th>10</th>\n",
       "      <td>Screenshot-2024-06-14-at-9-47-45-PM-10-01-54-P...</td>\n",
       "      <td>window</td>\n",
       "      <td>168</td>\n",
       "      <td>120</td>\n",
       "      <td>1690</td>\n",
       "      <td>1005</td>\n",
       "    </tr>\n",
       "    <tr>\n",
       "      <th>11</th>\n",
       "      <td>ss-10-22-12-PM_jpg.rf.04b7ba9ef124087f83aa62a7...</td>\n",
       "      <td>window</td>\n",
       "      <td>399</td>\n",
       "      <td>267</td>\n",
       "      <td>1395</td>\n",
       "      <td>1029</td>\n",
       "    </tr>\n",
       "    <tr>\n",
       "      <th>12</th>\n",
       "      <td>WhatsApp-Image-2024-06-14-at-20-22-01_jpeg.rf....</td>\n",
       "      <td>window</td>\n",
       "      <td>312</td>\n",
       "      <td>105</td>\n",
       "      <td>1667</td>\n",
       "      <td>902</td>\n",
       "    </tr>\n",
       "    <tr>\n",
       "      <th>13</th>\n",
       "      <td>Screenshot-2024-06-14-at-6-31-54-PM_png.rf.f48...</td>\n",
       "      <td>window</td>\n",
       "      <td>381</td>\n",
       "      <td>153</td>\n",
       "      <td>993</td>\n",
       "      <td>916</td>\n",
       "    </tr>\n",
       "    <tr>\n",
       "      <th>14</th>\n",
       "      <td>Screenshot-2024-06-14-at-9-46-04-PM-10-01-54-P...</td>\n",
       "      <td>window</td>\n",
       "      <td>278</td>\n",
       "      <td>98</td>\n",
       "      <td>1300</td>\n",
       "      <td>962</td>\n",
       "    </tr>\n",
       "    <tr>\n",
       "      <th>15</th>\n",
       "      <td>Screenshot-2024-06-15-at-5-42-09-PM_png.rf.e08...</td>\n",
       "      <td>window</td>\n",
       "      <td>344</td>\n",
       "      <td>48</td>\n",
       "      <td>1143</td>\n",
       "      <td>982</td>\n",
       "    </tr>\n",
       "    <tr>\n",
       "      <th>16</th>\n",
       "      <td>WhatsApp-Image-2024-06-14-at-20-31-01_jpeg.rf....</td>\n",
       "      <td>window</td>\n",
       "      <td>315</td>\n",
       "      <td>107</td>\n",
       "      <td>1134</td>\n",
       "      <td>987</td>\n",
       "    </tr>\n",
       "    <tr>\n",
       "      <th>17</th>\n",
       "      <td>Screenshot-2024-06-14-at-9-47-27-PM_png.rf.887...</td>\n",
       "      <td>window</td>\n",
       "      <td>366</td>\n",
       "      <td>102</td>\n",
       "      <td>1291</td>\n",
       "      <td>978</td>\n",
       "    </tr>\n",
       "    <tr>\n",
       "      <th>18</th>\n",
       "      <td>Screenshot-2024-06-15-at-5-42-25-PM_png.rf.f00...</td>\n",
       "      <td>window</td>\n",
       "      <td>49</td>\n",
       "      <td>31</td>\n",
       "      <td>1708</td>\n",
       "      <td>1024</td>\n",
       "    </tr>\n",
       "    <tr>\n",
       "      <th>19</th>\n",
       "      <td>WhatsApp-Image-2024-06-14-at-21-12-47_jpeg.rf....</td>\n",
       "      <td>window</td>\n",
       "      <td>0</td>\n",
       "      <td>0</td>\n",
       "      <td>950</td>\n",
       "      <td>1027</td>\n",
       "    </tr>\n",
       "    <tr>\n",
       "      <th>20</th>\n",
       "      <td>Screenshot-2024-06-15-at-5-42-31-PM_png.rf.9c6...</td>\n",
       "      <td>window</td>\n",
       "      <td>61</td>\n",
       "      <td>32</td>\n",
       "      <td>1680</td>\n",
       "      <td>1028</td>\n",
       "    </tr>\n",
       "    <tr>\n",
       "      <th>21</th>\n",
       "      <td>WhatsApp-Image-2024-06-14-at-20-41-55_jpeg.rf....</td>\n",
       "      <td>window</td>\n",
       "      <td>0</td>\n",
       "      <td>4</td>\n",
       "      <td>1666</td>\n",
       "      <td>1022</td>\n",
       "    </tr>\n",
       "    <tr>\n",
       "      <th>22</th>\n",
       "      <td>Screenshot-2024-06-14-at-9-47-33-PM-10-01-54-P...</td>\n",
       "      <td>window</td>\n",
       "      <td>208</td>\n",
       "      <td>162</td>\n",
       "      <td>1120</td>\n",
       "      <td>1039</td>\n",
       "    </tr>\n",
       "    <tr>\n",
       "      <th>23</th>\n",
       "      <td>Screenshot-2024-06-14-at-9-45-59-PM_png.rf.cac...</td>\n",
       "      <td>window</td>\n",
       "      <td>279</td>\n",
       "      <td>100</td>\n",
       "      <td>1149</td>\n",
       "      <td>908</td>\n",
       "    </tr>\n",
       "    <tr>\n",
       "      <th>24</th>\n",
       "      <td>WhatsApp-Image-2024-06-14-at-20-21-04_jpeg.rf....</td>\n",
       "      <td>window</td>\n",
       "      <td>330</td>\n",
       "      <td>103</td>\n",
       "      <td>1685</td>\n",
       "      <td>906</td>\n",
       "    </tr>\n",
       "    <tr>\n",
       "      <th>25</th>\n",
       "      <td>8_png.rf.cda884eccab0c773b3874ec6f519941e.jpg</td>\n",
       "      <td>window</td>\n",
       "      <td>753</td>\n",
       "      <td>0</td>\n",
       "      <td>1890</td>\n",
       "      <td>904</td>\n",
       "    </tr>\n",
       "  </tbody>\n",
       "</table>\n",
       "</div>"
      ],
      "text/plain": [
       "                                             filename   class  xmin  ymin  \\\n",
       "0   WhatsApp-Image-2024-06-14-at-21-12-06_jpeg.rf....  window   950     7   \n",
       "1   Screenshot-2024-06-15-at-5-41-16-PM_png.rf.232...  window   197   107   \n",
       "2   WhatsApp-Image-2024-06-14-at-21-15-12_jpeg.rf....  window   494     0   \n",
       "3       5_png.rf.39c0027c1ba83d004457a08cbfcc91d7.jpg  window   753    25   \n",
       "4   Screenshot-2024-06-14-at-6-32-33-PM_png.rf.002...  window   361   139   \n",
       "5      10_png.rf.d3d13fb6113d7a34efabdf8e85a86e95.jpg  window    44   242   \n",
       "6   Screenshot-2024-06-14-at-9-46-56-PM_png.rf.05d...  window   780    50   \n",
       "7   WhatsApp-Image-2024-06-14-at-20-25-23_jpeg.rf....  window   338   106   \n",
       "8   WhatsApp-Image-2024-06-14-at-20-20-32_jpeg.rf....  window   309   107   \n",
       "9   WhatsApp-Image-2024-06-14-at-21-06-45_jpeg.rf....  window    47   190   \n",
       "10  Screenshot-2024-06-14-at-9-47-45-PM-10-01-54-P...  window   168   120   \n",
       "11  ss-10-22-12-PM_jpg.rf.04b7ba9ef124087f83aa62a7...  window   399   267   \n",
       "12  WhatsApp-Image-2024-06-14-at-20-22-01_jpeg.rf....  window   312   105   \n",
       "13  Screenshot-2024-06-14-at-6-31-54-PM_png.rf.f48...  window   381   153   \n",
       "14  Screenshot-2024-06-14-at-9-46-04-PM-10-01-54-P...  window   278    98   \n",
       "15  Screenshot-2024-06-15-at-5-42-09-PM_png.rf.e08...  window   344    48   \n",
       "16  WhatsApp-Image-2024-06-14-at-20-31-01_jpeg.rf....  window   315   107   \n",
       "17  Screenshot-2024-06-14-at-9-47-27-PM_png.rf.887...  window   366   102   \n",
       "18  Screenshot-2024-06-15-at-5-42-25-PM_png.rf.f00...  window    49    31   \n",
       "19  WhatsApp-Image-2024-06-14-at-21-12-47_jpeg.rf....  window     0     0   \n",
       "20  Screenshot-2024-06-15-at-5-42-31-PM_png.rf.9c6...  window    61    32   \n",
       "21  WhatsApp-Image-2024-06-14-at-20-41-55_jpeg.rf....  window     0     4   \n",
       "22  Screenshot-2024-06-14-at-9-47-33-PM-10-01-54-P...  window   208   162   \n",
       "23  Screenshot-2024-06-14-at-9-45-59-PM_png.rf.cac...  window   279   100   \n",
       "24  WhatsApp-Image-2024-06-14-at-20-21-04_jpeg.rf....  window   330   103   \n",
       "25      8_png.rf.cda884eccab0c773b3874ec6f519941e.jpg  window   753     0   \n",
       "\n",
       "    xmax  ymax  \n",
       "0   1920  1068  \n",
       "1   1167   977  \n",
       "2   1920  1047  \n",
       "3   1920   929  \n",
       "4   1043  1039  \n",
       "5   1214   963  \n",
       "6   1542   905  \n",
       "7   1768  1009  \n",
       "8   1724   941  \n",
       "9   1080   896  \n",
       "10  1690  1005  \n",
       "11  1395  1029  \n",
       "12  1667   902  \n",
       "13   993   916  \n",
       "14  1300   962  \n",
       "15  1143   982  \n",
       "16  1134   987  \n",
       "17  1291   978  \n",
       "18  1708  1024  \n",
       "19   950  1027  \n",
       "20  1680  1028  \n",
       "21  1666  1022  \n",
       "22  1120  1039  \n",
       "23  1149   908  \n",
       "24  1685   906  \n",
       "25  1890   904  "
      ]
     },
     "execution_count": 4,
     "metadata": {},
     "output_type": "execute_result"
    }
   ],
   "source": [
    "df = pd.DataFrame(prediction_annotation_padding_test).rename(columns={0:\"filename\", 1:\"class\", 2:\"xmin\", 3:\"ymin\", 4:\"xmax\", 5:\"ymax\"})\n",
    "df"
   ]
  },
  {
   "cell_type": "code",
   "execution_count": 5,
   "metadata": {},
   "outputs": [],
   "source": [
    "df.to_csv(\"IOUcalc/WindowModel/YOLOv9/PADDING/Test/Prediction.csv\")\n",
    "annotations_bbox_padding_test.to_csv(\"IOUcalc/WindowModel/YOLOv9/PADDING/Test/GroundTruth.csv\")"
   ]
  },
  {
   "cell_type": "code",
   "execution_count": null,
   "metadata": {},
   "outputs": [],
   "source": []
  },
  {
   "cell_type": "code",
   "execution_count": 6,
   "metadata": {},
   "outputs": [
    {
     "data": {
      "text/html": [
       "<div>\n",
       "<style scoped>\n",
       "    .dataframe tbody tr th:only-of-type {\n",
       "        vertical-align: middle;\n",
       "    }\n",
       "\n",
       "    .dataframe tbody tr th {\n",
       "        vertical-align: top;\n",
       "    }\n",
       "\n",
       "    .dataframe thead th {\n",
       "        text-align: right;\n",
       "    }\n",
       "</style>\n",
       "<table border=\"1\" class=\"dataframe\">\n",
       "  <thead>\n",
       "    <tr style=\"text-align: right;\">\n",
       "      <th></th>\n",
       "      <th>filename</th>\n",
       "      <th>class</th>\n",
       "      <th>xmin</th>\n",
       "      <th>ymin</th>\n",
       "      <th>xmax</th>\n",
       "      <th>ymax</th>\n",
       "    </tr>\n",
       "  </thead>\n",
       "  <tbody>\n",
       "    <tr>\n",
       "      <th>0</th>\n",
       "      <td>WhatsApp-Image-2024-06-14-at-20-25-53_jpeg.rf....</td>\n",
       "      <td>window</td>\n",
       "      <td>309</td>\n",
       "      <td>112</td>\n",
       "      <td>1668</td>\n",
       "      <td>958</td>\n",
       "    </tr>\n",
       "    <tr>\n",
       "      <th>1</th>\n",
       "      <td>WhatsApp-Image-2024-06-14-at-20-25-53_jpeg.rf....</td>\n",
       "      <td>window</td>\n",
       "      <td>303</td>\n",
       "      <td>115</td>\n",
       "      <td>1671</td>\n",
       "      <td>985</td>\n",
       "    </tr>\n",
       "    <tr>\n",
       "      <th>2</th>\n",
       "      <td>WhatsApp-Image-2024-06-14-at-21-03-54_jpeg.rf....</td>\n",
       "      <td>window</td>\n",
       "      <td>57</td>\n",
       "      <td>49</td>\n",
       "      <td>1833</td>\n",
       "      <td>907</td>\n",
       "    </tr>\n",
       "    <tr>\n",
       "      <th>3</th>\n",
       "      <td>17_png.rf.1f31466d7c560e4f14e765b157176da7.jpg</td>\n",
       "      <td>window</td>\n",
       "      <td>545</td>\n",
       "      <td>121</td>\n",
       "      <td>1675</td>\n",
       "      <td>829</td>\n",
       "    </tr>\n",
       "    <tr>\n",
       "      <th>4</th>\n",
       "      <td>12_png.rf.09ed9ec551dcf6fefc3a62c5464e61dd.jpg</td>\n",
       "      <td>window</td>\n",
       "      <td>21</td>\n",
       "      <td>288</td>\n",
       "      <td>1151</td>\n",
       "      <td>1009</td>\n",
       "    </tr>\n",
       "    <tr>\n",
       "      <th>...</th>\n",
       "      <td>...</td>\n",
       "      <td>...</td>\n",
       "      <td>...</td>\n",
       "      <td>...</td>\n",
       "      <td>...</td>\n",
       "      <td>...</td>\n",
       "    </tr>\n",
       "    <tr>\n",
       "      <th>179</th>\n",
       "      <td>Screenshot-2024-06-14-at-9-47-18-PM-10-01-54-P...</td>\n",
       "      <td>window</td>\n",
       "      <td>241</td>\n",
       "      <td>334</td>\n",
       "      <td>1171</td>\n",
       "      <td>1005</td>\n",
       "    </tr>\n",
       "    <tr>\n",
       "      <th>180</th>\n",
       "      <td>17_png.rf.f016d751e9e9a774acdad9f550e60960.jpg</td>\n",
       "      <td>window</td>\n",
       "      <td>545</td>\n",
       "      <td>121</td>\n",
       "      <td>1675</td>\n",
       "      <td>829</td>\n",
       "    </tr>\n",
       "    <tr>\n",
       "      <th>181</th>\n",
       "      <td>Screenshot-2024-06-14-at-6-32-54-PM_png.rf.ed8...</td>\n",
       "      <td>window</td>\n",
       "      <td>714</td>\n",
       "      <td>191</td>\n",
       "      <td>1587</td>\n",
       "      <td>986</td>\n",
       "    </tr>\n",
       "    <tr>\n",
       "      <th>182</th>\n",
       "      <td>Screenshot-2024-06-14-at-6-32-59-PM_png.rf.f41...</td>\n",
       "      <td>window</td>\n",
       "      <td>180</td>\n",
       "      <td>106</td>\n",
       "      <td>1059</td>\n",
       "      <td>914</td>\n",
       "    </tr>\n",
       "    <tr>\n",
       "      <th>183</th>\n",
       "      <td>6_png.rf.f62c366b6d8c9b73c0572d503090b294.jpg</td>\n",
       "      <td>window</td>\n",
       "      <td>762</td>\n",
       "      <td>31</td>\n",
       "      <td>1900</td>\n",
       "      <td>919</td>\n",
       "    </tr>\n",
       "  </tbody>\n",
       "</table>\n",
       "<p>184 rows × 6 columns</p>\n",
       "</div>"
      ],
      "text/plain": [
       "                                              filename   class  xmin  ymin  \\\n",
       "0    WhatsApp-Image-2024-06-14-at-20-25-53_jpeg.rf....  window   309   112   \n",
       "1    WhatsApp-Image-2024-06-14-at-20-25-53_jpeg.rf....  window   303   115   \n",
       "2    WhatsApp-Image-2024-06-14-at-21-03-54_jpeg.rf....  window    57    49   \n",
       "3       17_png.rf.1f31466d7c560e4f14e765b157176da7.jpg  window   545   121   \n",
       "4       12_png.rf.09ed9ec551dcf6fefc3a62c5464e61dd.jpg  window    21   288   \n",
       "..                                                 ...     ...   ...   ...   \n",
       "179  Screenshot-2024-06-14-at-9-47-18-PM-10-01-54-P...  window   241   334   \n",
       "180     17_png.rf.f016d751e9e9a774acdad9f550e60960.jpg  window   545   121   \n",
       "181  Screenshot-2024-06-14-at-6-32-54-PM_png.rf.ed8...  window   714   191   \n",
       "182  Screenshot-2024-06-14-at-6-32-59-PM_png.rf.f41...  window   180   106   \n",
       "183      6_png.rf.f62c366b6d8c9b73c0572d503090b294.jpg  window   762    31   \n",
       "\n",
       "     xmax  ymax  \n",
       "0    1668   958  \n",
       "1    1671   985  \n",
       "2    1833   907  \n",
       "3    1675   829  \n",
       "4    1151  1009  \n",
       "..    ...   ...  \n",
       "179  1171  1005  \n",
       "180  1675   829  \n",
       "181  1587   986  \n",
       "182  1059   914  \n",
       "183  1900   919  \n",
       "\n",
       "[184 rows x 6 columns]"
      ]
     },
     "execution_count": 6,
     "metadata": {},
     "output_type": "execute_result"
    }
   ],
   "source": [
    "annotations_bbox_padding_train = pd.read_csv(\"WhatsappWindowDatasetPADDING/WhatsappWindowDatasetPADDING-Train/_annotations.csv\")\n",
    "annotations_bbox_padding_train = annotations_bbox_padding_train.drop(columns=['width','height'], axis=0)\n",
    "annotations_bbox_padding_train"
   ]
  },
  {
   "cell_type": "code",
   "execution_count": 7,
   "metadata": {},
   "outputs": [
    {
     "name": "stderr",
     "output_type": "stream",
     "text": [
      "  0%|          | 0/184 [00:00<?, ?it/s]"
     ]
    },
    {
     "name": "stdout",
     "output_type": "stream",
     "text": [
      "\n",
      "0: 576x1024 1 window, 1331.2ms\n",
      "Speed: 5.0ms preprocess, 1331.2ms inference, 0.9ms postprocess per image at shape (1, 3, 576, 1024)\n"
     ]
    },
    {
     "name": "stderr",
     "output_type": "stream",
     "text": [
      "  1%|          | 1/184 [00:01<04:08,  1.36s/it]"
     ]
    },
    {
     "name": "stdout",
     "output_type": "stream",
     "text": [
      "\n",
      "0: 576x1024 1 window, 1286.9ms\n",
      "Speed: 5.4ms preprocess, 1286.9ms inference, 0.7ms postprocess per image at shape (1, 3, 576, 1024)\n"
     ]
    },
    {
     "name": "stderr",
     "output_type": "stream",
     "text": [
      "  1%|          | 2/184 [00:02<04:02,  1.33s/it]"
     ]
    },
    {
     "name": "stdout",
     "output_type": "stream",
     "text": [
      "\n",
      "0: 576x1024 2 windows, 1780.3ms\n",
      "Speed: 5.2ms preprocess, 1780.3ms inference, 13.4ms postprocess per image at shape (1, 3, 576, 1024)\n"
     ]
    },
    {
     "name": "stderr",
     "output_type": "stream",
     "text": [
      "  2%|▏         | 3/184 [00:04<04:43,  1.56s/it]"
     ]
    },
    {
     "name": "stdout",
     "output_type": "stream",
     "text": [
      "\n",
      "0: 576x1024 1 window, 1974.9ms\n",
      "Speed: 23.3ms preprocess, 1974.9ms inference, 0.8ms postprocess per image at shape (1, 3, 576, 1024)\n"
     ]
    },
    {
     "name": "stderr",
     "output_type": "stream",
     "text": [
      "  2%|▏         | 4/184 [00:06<05:18,  1.77s/it]"
     ]
    },
    {
     "name": "stdout",
     "output_type": "stream",
     "text": [
      "\n",
      "0: 576x1024 1 window, 1312.3ms\n",
      "Speed: 5.8ms preprocess, 1312.3ms inference, 0.8ms postprocess per image at shape (1, 3, 576, 1024)\n"
     ]
    },
    {
     "name": "stderr",
     "output_type": "stream",
     "text": [
      "  3%|▎         | 5/184 [00:07<04:49,  1.62s/it]"
     ]
    },
    {
     "name": "stdout",
     "output_type": "stream",
     "text": [
      "\n",
      "0: 576x1024 1 window, 1371.1ms\n",
      "Speed: 5.1ms preprocess, 1371.1ms inference, 0.6ms postprocess per image at shape (1, 3, 576, 1024)\n"
     ]
    },
    {
     "name": "stderr",
     "output_type": "stream",
     "text": [
      "  3%|▎         | 6/184 [00:09<04:34,  1.54s/it]"
     ]
    },
    {
     "name": "stdout",
     "output_type": "stream",
     "text": [
      "\n",
      "0: 576x1024 1 window, 1332.7ms\n",
      "Speed: 5.3ms preprocess, 1332.7ms inference, 0.8ms postprocess per image at shape (1, 3, 576, 1024)\n"
     ]
    },
    {
     "name": "stderr",
     "output_type": "stream",
     "text": [
      "  4%|▍         | 7/184 [00:10<04:22,  1.48s/it]"
     ]
    },
    {
     "name": "stdout",
     "output_type": "stream",
     "text": [
      "\n",
      "0: 576x1024 1 window, 1350.8ms\n",
      "Speed: 5.6ms preprocess, 1350.8ms inference, 0.8ms postprocess per image at shape (1, 3, 576, 1024)\n"
     ]
    },
    {
     "name": "stderr",
     "output_type": "stream",
     "text": [
      "  4%|▍         | 8/184 [00:12<04:15,  1.45s/it]"
     ]
    },
    {
     "name": "stdout",
     "output_type": "stream",
     "text": [
      "\n",
      "0: 576x1024 1 window, 1336.9ms\n",
      "Speed: 4.9ms preprocess, 1336.9ms inference, 0.8ms postprocess per image at shape (1, 3, 576, 1024)\n"
     ]
    },
    {
     "name": "stderr",
     "output_type": "stream",
     "text": [
      "  5%|▍         | 9/184 [00:13<04:09,  1.42s/it]"
     ]
    },
    {
     "name": "stdout",
     "output_type": "stream",
     "text": [
      "\n",
      "0: 576x1024 2 windows, 1288.0ms\n",
      "Speed: 5.1ms preprocess, 1288.0ms inference, 0.8ms postprocess per image at shape (1, 3, 576, 1024)\n"
     ]
    },
    {
     "name": "stderr",
     "output_type": "stream",
     "text": [
      "  5%|▌         | 10/184 [00:14<04:02,  1.39s/it]"
     ]
    },
    {
     "name": "stdout",
     "output_type": "stream",
     "text": [
      "\n",
      "0: 576x1024 1 window, 1281.8ms\n",
      "Speed: 5.1ms preprocess, 1281.8ms inference, 0.7ms postprocess per image at shape (1, 3, 576, 1024)\n"
     ]
    },
    {
     "name": "stderr",
     "output_type": "stream",
     "text": [
      "  6%|▌         | 11/184 [00:16<03:56,  1.37s/it]"
     ]
    },
    {
     "name": "stdout",
     "output_type": "stream",
     "text": [
      "\n",
      "0: 576x1024 1 window, 1276.5ms\n",
      "Speed: 5.2ms preprocess, 1276.5ms inference, 0.7ms postprocess per image at shape (1, 3, 576, 1024)\n"
     ]
    },
    {
     "name": "stderr",
     "output_type": "stream",
     "text": [
      "  7%|▋         | 12/184 [00:17<03:51,  1.35s/it]"
     ]
    },
    {
     "name": "stdout",
     "output_type": "stream",
     "text": [
      "\n",
      "0: 576x1024 1 window, 1274.1ms\n",
      "Speed: 4.8ms preprocess, 1274.1ms inference, 0.7ms postprocess per image at shape (1, 3, 576, 1024)\n"
     ]
    },
    {
     "name": "stderr",
     "output_type": "stream",
     "text": [
      "  7%|▋         | 13/184 [00:18<03:48,  1.33s/it]"
     ]
    },
    {
     "name": "stdout",
     "output_type": "stream",
     "text": [
      "\n",
      "0: 576x1024 2 windows, 1289.3ms\n",
      "Speed: 4.7ms preprocess, 1289.3ms inference, 0.6ms postprocess per image at shape (1, 3, 576, 1024)\n"
     ]
    },
    {
     "name": "stderr",
     "output_type": "stream",
     "text": [
      "  8%|▊         | 14/184 [00:20<03:46,  1.33s/it]"
     ]
    },
    {
     "name": "stdout",
     "output_type": "stream",
     "text": [
      "\n",
      "0: 576x1024 1 window, 1310.8ms\n",
      "Speed: 5.0ms preprocess, 1310.8ms inference, 0.6ms postprocess per image at shape (1, 3, 576, 1024)\n"
     ]
    },
    {
     "name": "stderr",
     "output_type": "stream",
     "text": [
      "  8%|▊         | 15/184 [00:21<03:45,  1.33s/it]"
     ]
    },
    {
     "name": "stdout",
     "output_type": "stream",
     "text": [
      "\n",
      "0: 576x1024 1 window, 1384.9ms\n",
      "Speed: 5.0ms preprocess, 1384.9ms inference, 0.7ms postprocess per image at shape (1, 3, 576, 1024)\n"
     ]
    },
    {
     "name": "stderr",
     "output_type": "stream",
     "text": [
      "  9%|▊         | 16/184 [00:22<03:47,  1.36s/it]"
     ]
    },
    {
     "name": "stdout",
     "output_type": "stream",
     "text": [
      "\n",
      "0: 576x1024 1 window, 1350.2ms\n",
      "Speed: 5.2ms preprocess, 1350.2ms inference, 0.7ms postprocess per image at shape (1, 3, 576, 1024)\n"
     ]
    },
    {
     "name": "stderr",
     "output_type": "stream",
     "text": [
      "  9%|▉         | 17/184 [00:24<03:47,  1.36s/it]"
     ]
    },
    {
     "name": "stdout",
     "output_type": "stream",
     "text": [
      "\n",
      "0: 576x1024 1 window, 1343.9ms\n",
      "Speed: 5.3ms preprocess, 1343.9ms inference, 0.7ms postprocess per image at shape (1, 3, 576, 1024)\n"
     ]
    },
    {
     "name": "stderr",
     "output_type": "stream",
     "text": [
      " 10%|▉         | 18/184 [00:25<03:46,  1.37s/it]"
     ]
    },
    {
     "name": "stdout",
     "output_type": "stream",
     "text": [
      "\n",
      "0: 576x1024 1 window, 1363.2ms\n",
      "Speed: 5.9ms preprocess, 1363.2ms inference, 1.0ms postprocess per image at shape (1, 3, 576, 1024)\n"
     ]
    },
    {
     "name": "stderr",
     "output_type": "stream",
     "text": [
      " 10%|█         | 19/184 [00:26<03:46,  1.38s/it]"
     ]
    },
    {
     "name": "stdout",
     "output_type": "stream",
     "text": [
      "\n",
      "0: 576x1024 1 window, 1310.0ms\n",
      "Speed: 7.0ms preprocess, 1310.0ms inference, 0.9ms postprocess per image at shape (1, 3, 576, 1024)\n"
     ]
    },
    {
     "name": "stderr",
     "output_type": "stream",
     "text": [
      " 11%|█         | 20/184 [00:28<03:44,  1.37s/it]"
     ]
    },
    {
     "name": "stdout",
     "output_type": "stream",
     "text": [
      "\n",
      "0: 576x1024 1 window, 1296.7ms\n",
      "Speed: 5.0ms preprocess, 1296.7ms inference, 0.7ms postprocess per image at shape (1, 3, 576, 1024)\n"
     ]
    },
    {
     "name": "stderr",
     "output_type": "stream",
     "text": [
      " 11%|█▏        | 21/184 [00:29<03:40,  1.35s/it]"
     ]
    },
    {
     "name": "stdout",
     "output_type": "stream",
     "text": [
      "\n",
      "0: 576x1024 2 windows, 1282.4ms\n",
      "Speed: 5.1ms preprocess, 1282.4ms inference, 0.7ms postprocess per image at shape (1, 3, 576, 1024)\n"
     ]
    },
    {
     "name": "stderr",
     "output_type": "stream",
     "text": [
      " 12%|█▏        | 22/184 [00:30<03:37,  1.34s/it]"
     ]
    },
    {
     "name": "stdout",
     "output_type": "stream",
     "text": [
      "\n",
      "0: 576x1024 1 window, 1290.6ms\n",
      "Speed: 4.8ms preprocess, 1290.6ms inference, 0.6ms postprocess per image at shape (1, 3, 576, 1024)\n"
     ]
    },
    {
     "name": "stderr",
     "output_type": "stream",
     "text": [
      " 12%|█▎        | 23/184 [00:32<03:34,  1.33s/it]"
     ]
    },
    {
     "name": "stdout",
     "output_type": "stream",
     "text": [
      "\n",
      "0: 576x1024 1 window, 1374.3ms\n",
      "Speed: 5.0ms preprocess, 1374.3ms inference, 0.8ms postprocess per image at shape (1, 3, 576, 1024)\n"
     ]
    },
    {
     "name": "stderr",
     "output_type": "stream",
     "text": [
      " 13%|█▎        | 24/184 [00:33<03:36,  1.35s/it]"
     ]
    },
    {
     "name": "stdout",
     "output_type": "stream",
     "text": [
      "\n",
      "0: 576x1024 1 window, 1334.1ms\n",
      "Speed: 5.5ms preprocess, 1334.1ms inference, 0.6ms postprocess per image at shape (1, 3, 576, 1024)\n"
     ]
    },
    {
     "name": "stderr",
     "output_type": "stream",
     "text": [
      " 14%|█▎        | 25/184 [00:34<03:35,  1.36s/it]"
     ]
    },
    {
     "name": "stdout",
     "output_type": "stream",
     "text": [
      "\n",
      "0: 576x1024 1 window, 1331.3ms\n",
      "Speed: 5.2ms preprocess, 1331.3ms inference, 0.7ms postprocess per image at shape (1, 3, 576, 1024)\n"
     ]
    },
    {
     "name": "stderr",
     "output_type": "stream",
     "text": [
      " 14%|█▍        | 26/184 [00:36<03:34,  1.36s/it]"
     ]
    },
    {
     "name": "stdout",
     "output_type": "stream",
     "text": [
      "\n",
      "0: 576x1024 2 windows, 1290.4ms\n",
      "Speed: 5.4ms preprocess, 1290.4ms inference, 0.6ms postprocess per image at shape (1, 3, 576, 1024)\n"
     ]
    },
    {
     "name": "stderr",
     "output_type": "stream",
     "text": [
      " 15%|█▍        | 27/184 [00:37<03:31,  1.35s/it]"
     ]
    },
    {
     "name": "stdout",
     "output_type": "stream",
     "text": [
      "\n",
      "0: 576x1024 2 windows, 1280.3ms\n",
      "Speed: 5.0ms preprocess, 1280.3ms inference, 0.6ms postprocess per image at shape (1, 3, 576, 1024)\n"
     ]
    },
    {
     "name": "stderr",
     "output_type": "stream",
     "text": [
      " 15%|█▌        | 28/184 [00:38<03:28,  1.33s/it]"
     ]
    },
    {
     "name": "stdout",
     "output_type": "stream",
     "text": [
      "\n",
      "0: 576x1024 2 windows, 1320.8ms\n",
      "Speed: 5.9ms preprocess, 1320.8ms inference, 0.7ms postprocess per image at shape (1, 3, 576, 1024)\n"
     ]
    },
    {
     "name": "stderr",
     "output_type": "stream",
     "text": [
      " 16%|█▌        | 29/184 [00:40<03:27,  1.34s/it]"
     ]
    },
    {
     "name": "stdout",
     "output_type": "stream",
     "text": [
      "\n",
      "0: 576x1024 1 window, 1305.6ms\n",
      "Speed: 4.8ms preprocess, 1305.6ms inference, 0.6ms postprocess per image at shape (1, 3, 576, 1024)\n"
     ]
    },
    {
     "name": "stderr",
     "output_type": "stream",
     "text": [
      " 16%|█▋        | 30/184 [00:41<03:26,  1.34s/it]"
     ]
    },
    {
     "name": "stdout",
     "output_type": "stream",
     "text": [
      "\n",
      "0: 576x1024 1 window, 1331.2ms\n",
      "Speed: 5.1ms preprocess, 1331.2ms inference, 0.8ms postprocess per image at shape (1, 3, 576, 1024)\n"
     ]
    },
    {
     "name": "stderr",
     "output_type": "stream",
     "text": [
      " 17%|█▋        | 31/184 [00:43<03:25,  1.35s/it]"
     ]
    },
    {
     "name": "stdout",
     "output_type": "stream",
     "text": [
      "\n",
      "0: 576x1024 1 window, 1358.0ms\n",
      "Speed: 5.5ms preprocess, 1358.0ms inference, 0.7ms postprocess per image at shape (1, 3, 576, 1024)\n"
     ]
    },
    {
     "name": "stderr",
     "output_type": "stream",
     "text": [
      " 17%|█▋        | 32/184 [00:44<03:26,  1.36s/it]"
     ]
    },
    {
     "name": "stdout",
     "output_type": "stream",
     "text": [
      "\n",
      "0: 576x1024 2 windows, 1299.5ms\n",
      "Speed: 4.9ms preprocess, 1299.5ms inference, 0.7ms postprocess per image at shape (1, 3, 576, 1024)\n"
     ]
    },
    {
     "name": "stderr",
     "output_type": "stream",
     "text": [
      " 18%|█▊        | 33/184 [00:45<03:23,  1.35s/it]"
     ]
    },
    {
     "name": "stdout",
     "output_type": "stream",
     "text": [
      "\n",
      "0: 576x1024 1 window, 1317.9ms\n",
      "Speed: 5.0ms preprocess, 1317.9ms inference, 0.6ms postprocess per image at shape (1, 3, 576, 1024)\n"
     ]
    },
    {
     "name": "stderr",
     "output_type": "stream",
     "text": [
      " 18%|█▊        | 34/184 [00:47<03:22,  1.35s/it]"
     ]
    },
    {
     "name": "stdout",
     "output_type": "stream",
     "text": [
      "\n",
      "0: 576x1024 2 windows, 1334.1ms\n",
      "Speed: 5.4ms preprocess, 1334.1ms inference, 0.7ms postprocess per image at shape (1, 3, 576, 1024)\n"
     ]
    },
    {
     "name": "stderr",
     "output_type": "stream",
     "text": [
      " 19%|█▉        | 35/184 [00:48<03:21,  1.35s/it]"
     ]
    },
    {
     "name": "stdout",
     "output_type": "stream",
     "text": [
      "\n",
      "0: 576x1024 1 window, 1287.1ms\n",
      "Speed: 5.6ms preprocess, 1287.1ms inference, 0.8ms postprocess per image at shape (1, 3, 576, 1024)\n"
     ]
    },
    {
     "name": "stderr",
     "output_type": "stream",
     "text": [
      " 20%|█▉        | 36/184 [00:49<03:18,  1.34s/it]"
     ]
    },
    {
     "name": "stdout",
     "output_type": "stream",
     "text": [
      "\n",
      "0: 576x1024 1 window, 1303.4ms\n",
      "Speed: 5.1ms preprocess, 1303.4ms inference, 0.6ms postprocess per image at shape (1, 3, 576, 1024)\n"
     ]
    },
    {
     "name": "stderr",
     "output_type": "stream",
     "text": [
      " 20%|██        | 37/184 [00:51<03:16,  1.34s/it]"
     ]
    },
    {
     "name": "stdout",
     "output_type": "stream",
     "text": [
      "\n",
      "0: 576x1024 1 window, 1339.6ms\n",
      "Speed: 4.8ms preprocess, 1339.6ms inference, 0.6ms postprocess per image at shape (1, 3, 576, 1024)\n"
     ]
    },
    {
     "name": "stderr",
     "output_type": "stream",
     "text": [
      " 21%|██        | 38/184 [00:52<03:16,  1.35s/it]"
     ]
    },
    {
     "name": "stdout",
     "output_type": "stream",
     "text": [
      "\n",
      "0: 576x1024 1 window, 1351.4ms\n",
      "Speed: 5.2ms preprocess, 1351.4ms inference, 0.7ms postprocess per image at shape (1, 3, 576, 1024)\n"
     ]
    },
    {
     "name": "stderr",
     "output_type": "stream",
     "text": [
      " 21%|██        | 39/184 [00:53<03:16,  1.36s/it]"
     ]
    },
    {
     "name": "stdout",
     "output_type": "stream",
     "text": [
      "\n",
      "0: 576x1024 1 window, 1389.4ms\n",
      "Speed: 5.0ms preprocess, 1389.4ms inference, 0.9ms postprocess per image at shape (1, 3, 576, 1024)\n"
     ]
    },
    {
     "name": "stderr",
     "output_type": "stream",
     "text": [
      " 22%|██▏       | 40/184 [00:55<03:18,  1.38s/it]"
     ]
    },
    {
     "name": "stdout",
     "output_type": "stream",
     "text": [
      "\n",
      "0: 576x1024 1 window, 1360.1ms\n",
      "Speed: 6.4ms preprocess, 1360.1ms inference, 0.7ms postprocess per image at shape (1, 3, 576, 1024)\n"
     ]
    },
    {
     "name": "stderr",
     "output_type": "stream",
     "text": [
      " 22%|██▏       | 41/184 [00:56<03:17,  1.38s/it]"
     ]
    },
    {
     "name": "stdout",
     "output_type": "stream",
     "text": [
      "\n",
      "0: 576x1024 1 window, 1443.1ms\n",
      "Speed: 5.1ms preprocess, 1443.1ms inference, 0.9ms postprocess per image at shape (1, 3, 576, 1024)\n"
     ]
    },
    {
     "name": "stderr",
     "output_type": "stream",
     "text": [
      " 23%|██▎       | 42/184 [00:58<03:19,  1.41s/it]"
     ]
    },
    {
     "name": "stdout",
     "output_type": "stream",
     "text": [
      "\n",
      "0: 576x1024 1 window, 1323.6ms\n",
      "Speed: 5.1ms preprocess, 1323.6ms inference, 0.9ms postprocess per image at shape (1, 3, 576, 1024)\n"
     ]
    },
    {
     "name": "stderr",
     "output_type": "stream",
     "text": [
      " 23%|██▎       | 43/184 [00:59<03:16,  1.39s/it]"
     ]
    },
    {
     "name": "stdout",
     "output_type": "stream",
     "text": [
      "\n",
      "0: 576x1024 1 window, 1319.7ms\n",
      "Speed: 5.1ms preprocess, 1319.7ms inference, 0.7ms postprocess per image at shape (1, 3, 576, 1024)\n"
     ]
    },
    {
     "name": "stderr",
     "output_type": "stream",
     "text": [
      " 24%|██▍       | 44/184 [01:00<03:13,  1.38s/it]"
     ]
    },
    {
     "name": "stdout",
     "output_type": "stream",
     "text": [
      "\n",
      "0: 576x1024 2 windows, 1339.8ms\n",
      "Speed: 5.3ms preprocess, 1339.8ms inference, 0.8ms postprocess per image at shape (1, 3, 576, 1024)\n"
     ]
    },
    {
     "name": "stderr",
     "output_type": "stream",
     "text": [
      " 24%|██▍       | 45/184 [01:02<03:11,  1.38s/it]"
     ]
    },
    {
     "name": "stdout",
     "output_type": "stream",
     "text": [
      "\n",
      "0: 576x1024 1 window, 1335.1ms\n",
      "Speed: 5.2ms preprocess, 1335.1ms inference, 0.9ms postprocess per image at shape (1, 3, 576, 1024)\n"
     ]
    },
    {
     "name": "stderr",
     "output_type": "stream",
     "text": [
      " 25%|██▌       | 46/184 [01:03<03:09,  1.37s/it]"
     ]
    },
    {
     "name": "stdout",
     "output_type": "stream",
     "text": [
      "\n",
      "0: 576x1024 1 window, 1319.3ms\n",
      "Speed: 5.9ms preprocess, 1319.3ms inference, 1.0ms postprocess per image at shape (1, 3, 576, 1024)\n"
     ]
    },
    {
     "name": "stderr",
     "output_type": "stream",
     "text": [
      " 26%|██▌       | 47/184 [01:04<03:07,  1.37s/it]"
     ]
    },
    {
     "name": "stdout",
     "output_type": "stream",
     "text": [
      "\n",
      "0: 576x1024 1 window, 1301.2ms\n",
      "Speed: 7.1ms preprocess, 1301.2ms inference, 1.0ms postprocess per image at shape (1, 3, 576, 1024)\n"
     ]
    },
    {
     "name": "stderr",
     "output_type": "stream",
     "text": [
      " 26%|██▌       | 48/184 [01:06<03:06,  1.37s/it]"
     ]
    },
    {
     "name": "stdout",
     "output_type": "stream",
     "text": [
      "\n",
      "0: 576x1024 1 window, 1281.6ms\n",
      "Speed: 5.5ms preprocess, 1281.6ms inference, 0.6ms postprocess per image at shape (1, 3, 576, 1024)\n"
     ]
    },
    {
     "name": "stderr",
     "output_type": "stream",
     "text": [
      " 27%|██▋       | 49/184 [01:07<03:02,  1.35s/it]"
     ]
    },
    {
     "name": "stdout",
     "output_type": "stream",
     "text": [
      "\n",
      "0: 576x1024 1 window, 1282.5ms\n",
      "Speed: 4.9ms preprocess, 1282.5ms inference, 0.6ms postprocess per image at shape (1, 3, 576, 1024)\n"
     ]
    },
    {
     "name": "stderr",
     "output_type": "stream",
     "text": [
      " 27%|██▋       | 50/184 [01:08<02:59,  1.34s/it]"
     ]
    },
    {
     "name": "stdout",
     "output_type": "stream",
     "text": [
      "\n",
      "0: 576x1024 1 window, 1409.5ms\n",
      "Speed: 5.3ms preprocess, 1409.5ms inference, 0.9ms postprocess per image at shape (1, 3, 576, 1024)\n"
     ]
    },
    {
     "name": "stderr",
     "output_type": "stream",
     "text": [
      " 28%|██▊       | 51/184 [01:10<03:02,  1.37s/it]"
     ]
    },
    {
     "name": "stdout",
     "output_type": "stream",
     "text": [
      "\n",
      "0: 576x1024 1 window, 1380.3ms\n",
      "Speed: 5.3ms preprocess, 1380.3ms inference, 0.8ms postprocess per image at shape (1, 3, 576, 1024)\n"
     ]
    },
    {
     "name": "stderr",
     "output_type": "stream",
     "text": [
      " 28%|██▊       | 52/184 [01:11<03:02,  1.38s/it]"
     ]
    },
    {
     "name": "stdout",
     "output_type": "stream",
     "text": [
      "\n",
      "0: 576x1024 1 window, 1326.6ms\n",
      "Speed: 5.3ms preprocess, 1326.6ms inference, 0.6ms postprocess per image at shape (1, 3, 576, 1024)\n"
     ]
    },
    {
     "name": "stderr",
     "output_type": "stream",
     "text": [
      " 29%|██▉       | 53/184 [01:13<02:59,  1.37s/it]"
     ]
    },
    {
     "name": "stdout",
     "output_type": "stream",
     "text": [
      "\n",
      "0: 576x1024 1 window, 1324.4ms\n",
      "Speed: 5.4ms preprocess, 1324.4ms inference, 1.1ms postprocess per image at shape (1, 3, 576, 1024)\n"
     ]
    },
    {
     "name": "stderr",
     "output_type": "stream",
     "text": [
      " 29%|██▉       | 54/184 [01:14<02:57,  1.37s/it]"
     ]
    },
    {
     "name": "stdout",
     "output_type": "stream",
     "text": [
      "\n",
      "0: 576x1024 1 window, 1440.2ms\n",
      "Speed: 5.4ms preprocess, 1440.2ms inference, 0.8ms postprocess per image at shape (1, 3, 576, 1024)\n"
     ]
    },
    {
     "name": "stderr",
     "output_type": "stream",
     "text": [
      " 30%|██▉       | 55/184 [01:15<03:00,  1.40s/it]"
     ]
    },
    {
     "name": "stdout",
     "output_type": "stream",
     "text": [
      "\n",
      "0: 576x1024 2 windows, 1326.0ms\n",
      "Speed: 5.4ms preprocess, 1326.0ms inference, 1.1ms postprocess per image at shape (1, 3, 576, 1024)\n"
     ]
    },
    {
     "name": "stderr",
     "output_type": "stream",
     "text": [
      " 30%|███       | 56/184 [01:17<02:57,  1.39s/it]"
     ]
    },
    {
     "name": "stdout",
     "output_type": "stream",
     "text": [
      "\n",
      "0: 576x1024 1 window, 1334.6ms\n",
      "Speed: 5.1ms preprocess, 1334.6ms inference, 1.0ms postprocess per image at shape (1, 3, 576, 1024)\n"
     ]
    },
    {
     "name": "stderr",
     "output_type": "stream",
     "text": [
      " 31%|███       | 57/184 [01:18<02:55,  1.38s/it]"
     ]
    },
    {
     "name": "stdout",
     "output_type": "stream",
     "text": [
      "\n",
      "0: 576x1024 2 windows, 1347.3ms\n",
      "Speed: 5.9ms preprocess, 1347.3ms inference, 1.0ms postprocess per image at shape (1, 3, 576, 1024)\n"
     ]
    },
    {
     "name": "stderr",
     "output_type": "stream",
     "text": [
      " 32%|███▏      | 58/184 [01:20<02:53,  1.38s/it]"
     ]
    },
    {
     "name": "stdout",
     "output_type": "stream",
     "text": [
      "\n",
      "0: 576x1024 1 window, 1424.4ms\n",
      "Speed: 5.0ms preprocess, 1424.4ms inference, 0.9ms postprocess per image at shape (1, 3, 576, 1024)\n"
     ]
    },
    {
     "name": "stderr",
     "output_type": "stream",
     "text": [
      " 32%|███▏      | 59/184 [01:21<02:55,  1.40s/it]"
     ]
    },
    {
     "name": "stdout",
     "output_type": "stream",
     "text": [
      "\n",
      "0: 576x1024 1 window, 1378.5ms\n",
      "Speed: 5.3ms preprocess, 1378.5ms inference, 0.6ms postprocess per image at shape (1, 3, 576, 1024)\n"
     ]
    },
    {
     "name": "stderr",
     "output_type": "stream",
     "text": [
      " 33%|███▎      | 60/184 [01:22<02:54,  1.40s/it]"
     ]
    },
    {
     "name": "stdout",
     "output_type": "stream",
     "text": [
      "\n",
      "0: 576x1024 1 window, 1336.2ms\n",
      "Speed: 4.9ms preprocess, 1336.2ms inference, 0.8ms postprocess per image at shape (1, 3, 576, 1024)\n"
     ]
    },
    {
     "name": "stderr",
     "output_type": "stream",
     "text": [
      " 33%|███▎      | 61/184 [01:24<02:51,  1.39s/it]"
     ]
    },
    {
     "name": "stdout",
     "output_type": "stream",
     "text": [
      "\n",
      "0: 576x1024 2 windows, 1457.7ms\n",
      "Speed: 5.1ms preprocess, 1457.7ms inference, 0.8ms postprocess per image at shape (1, 3, 576, 1024)\n"
     ]
    },
    {
     "name": "stderr",
     "output_type": "stream",
     "text": [
      " 34%|███▎      | 62/184 [01:25<02:53,  1.42s/it]"
     ]
    },
    {
     "name": "stdout",
     "output_type": "stream",
     "text": [
      "\n",
      "0: 576x1024 1 window, 1350.3ms\n",
      "Speed: 5.8ms preprocess, 1350.3ms inference, 1.1ms postprocess per image at shape (1, 3, 576, 1024)\n"
     ]
    },
    {
     "name": "stderr",
     "output_type": "stream",
     "text": [
      " 34%|███▍      | 63/184 [01:27<02:50,  1.41s/it]"
     ]
    },
    {
     "name": "stdout",
     "output_type": "stream",
     "text": [
      "\n",
      "0: 576x1024 1 window, 1372.3ms\n",
      "Speed: 5.4ms preprocess, 1372.3ms inference, 0.8ms postprocess per image at shape (1, 3, 576, 1024)\n"
     ]
    },
    {
     "name": "stderr",
     "output_type": "stream",
     "text": [
      " 35%|███▍      | 64/184 [01:28<02:49,  1.41s/it]"
     ]
    },
    {
     "name": "stdout",
     "output_type": "stream",
     "text": [
      "\n",
      "0: 576x1024 1 window, 1389.7ms\n",
      "Speed: 5.4ms preprocess, 1389.7ms inference, 0.7ms postprocess per image at shape (1, 3, 576, 1024)\n"
     ]
    },
    {
     "name": "stderr",
     "output_type": "stream",
     "text": [
      " 35%|███▌      | 65/184 [01:29<02:48,  1.41s/it]"
     ]
    },
    {
     "name": "stdout",
     "output_type": "stream",
     "text": [
      "\n",
      "0: 576x1024 1 window, 1334.9ms\n",
      "Speed: 5.3ms preprocess, 1334.9ms inference, 1.0ms postprocess per image at shape (1, 3, 576, 1024)\n"
     ]
    },
    {
     "name": "stderr",
     "output_type": "stream",
     "text": [
      " 36%|███▌      | 66/184 [01:31<02:44,  1.40s/it]"
     ]
    },
    {
     "name": "stdout",
     "output_type": "stream",
     "text": [
      "\n",
      "0: 576x1024 1 window, 1396.9ms\n",
      "Speed: 5.5ms preprocess, 1396.9ms inference, 1.0ms postprocess per image at shape (1, 3, 576, 1024)\n"
     ]
    },
    {
     "name": "stderr",
     "output_type": "stream",
     "text": [
      " 36%|███▋      | 67/184 [01:32<02:44,  1.41s/it]"
     ]
    },
    {
     "name": "stdout",
     "output_type": "stream",
     "text": [
      "\n",
      "0: 576x1024 1 window, 1425.8ms\n",
      "Speed: 5.3ms preprocess, 1425.8ms inference, 0.7ms postprocess per image at shape (1, 3, 576, 1024)\n"
     ]
    },
    {
     "name": "stderr",
     "output_type": "stream",
     "text": [
      " 37%|███▋      | 68/184 [01:34<02:44,  1.42s/it]"
     ]
    },
    {
     "name": "stdout",
     "output_type": "stream",
     "text": [
      "\n",
      "0: 576x1024 1 window, 1338.5ms\n",
      "Speed: 5.3ms preprocess, 1338.5ms inference, 0.7ms postprocess per image at shape (1, 3, 576, 1024)\n"
     ]
    },
    {
     "name": "stderr",
     "output_type": "stream",
     "text": [
      " 38%|███▊      | 69/184 [01:35<02:41,  1.41s/it]"
     ]
    },
    {
     "name": "stdout",
     "output_type": "stream",
     "text": [
      "\n",
      "0: 576x1024 1 window, 1328.2ms\n",
      "Speed: 5.2ms preprocess, 1328.2ms inference, 0.7ms postprocess per image at shape (1, 3, 576, 1024)\n"
     ]
    },
    {
     "name": "stderr",
     "output_type": "stream",
     "text": [
      " 38%|███▊      | 70/184 [01:36<02:38,  1.39s/it]"
     ]
    },
    {
     "name": "stdout",
     "output_type": "stream",
     "text": [
      "\n",
      "0: 576x1024 2 windows, 1307.0ms\n",
      "Speed: 5.2ms preprocess, 1307.0ms inference, 0.9ms postprocess per image at shape (1, 3, 576, 1024)\n"
     ]
    },
    {
     "name": "stderr",
     "output_type": "stream",
     "text": [
      " 39%|███▊      | 71/184 [01:38<02:35,  1.37s/it]"
     ]
    },
    {
     "name": "stdout",
     "output_type": "stream",
     "text": [
      "\n",
      "0: 576x1024 1 window, 1349.7ms\n",
      "Speed: 5.0ms preprocess, 1349.7ms inference, 0.6ms postprocess per image at shape (1, 3, 576, 1024)\n"
     ]
    },
    {
     "name": "stderr",
     "output_type": "stream",
     "text": [
      " 39%|███▉      | 72/184 [01:39<02:34,  1.38s/it]"
     ]
    },
    {
     "name": "stdout",
     "output_type": "stream",
     "text": [
      "\n",
      "0: 576x1024 1 window, 1329.4ms\n",
      "Speed: 5.4ms preprocess, 1329.4ms inference, 0.8ms postprocess per image at shape (1, 3, 576, 1024)\n"
     ]
    },
    {
     "name": "stderr",
     "output_type": "stream",
     "text": [
      " 40%|███▉      | 73/184 [01:41<02:32,  1.37s/it]"
     ]
    },
    {
     "name": "stdout",
     "output_type": "stream",
     "text": [
      "\n",
      "0: 576x1024 1 window, 1318.5ms\n",
      "Speed: 5.8ms preprocess, 1318.5ms inference, 1.3ms postprocess per image at shape (1, 3, 576, 1024)\n"
     ]
    },
    {
     "name": "stderr",
     "output_type": "stream",
     "text": [
      " 40%|████      | 74/184 [01:42<02:30,  1.36s/it]"
     ]
    },
    {
     "name": "stdout",
     "output_type": "stream",
     "text": [
      "\n",
      "0: 576x1024 1 window, 1309.3ms\n",
      "Speed: 5.2ms preprocess, 1309.3ms inference, 0.6ms postprocess per image at shape (1, 3, 576, 1024)\n"
     ]
    },
    {
     "name": "stderr",
     "output_type": "stream",
     "text": [
      " 41%|████      | 75/184 [01:43<02:27,  1.36s/it]"
     ]
    },
    {
     "name": "stdout",
     "output_type": "stream",
     "text": [
      "\n",
      "0: 576x1024 1 window, 1349.4ms\n",
      "Speed: 4.9ms preprocess, 1349.4ms inference, 0.8ms postprocess per image at shape (1, 3, 576, 1024)\n"
     ]
    },
    {
     "name": "stderr",
     "output_type": "stream",
     "text": [
      " 41%|████▏     | 76/184 [01:45<02:27,  1.36s/it]"
     ]
    },
    {
     "name": "stdout",
     "output_type": "stream",
     "text": [
      "\n",
      "0: 576x1024 1 window, 1422.7ms\n",
      "Speed: 5.3ms preprocess, 1422.7ms inference, 0.7ms postprocess per image at shape (1, 3, 576, 1024)\n"
     ]
    },
    {
     "name": "stderr",
     "output_type": "stream",
     "text": [
      " 42%|████▏     | 77/184 [01:46<02:28,  1.39s/it]"
     ]
    },
    {
     "name": "stdout",
     "output_type": "stream",
     "text": [
      "\n",
      "0: 576x1024 1 window, 1402.2ms\n",
      "Speed: 5.2ms preprocess, 1402.2ms inference, 1.2ms postprocess per image at shape (1, 3, 576, 1024)\n"
     ]
    },
    {
     "name": "stderr",
     "output_type": "stream",
     "text": [
      " 42%|████▏     | 78/184 [01:47<02:28,  1.40s/it]"
     ]
    },
    {
     "name": "stdout",
     "output_type": "stream",
     "text": [
      "\n",
      "0: 576x1024 2 windows, 1373.8ms\n",
      "Speed: 6.2ms preprocess, 1373.8ms inference, 1.2ms postprocess per image at shape (1, 3, 576, 1024)\n"
     ]
    },
    {
     "name": "stderr",
     "output_type": "stream",
     "text": [
      " 43%|████▎     | 79/184 [01:49<02:27,  1.40s/it]"
     ]
    },
    {
     "name": "stdout",
     "output_type": "stream",
     "text": [
      "\n",
      "0: 576x1024 1 window, 1462.0ms\n",
      "Speed: 4.9ms preprocess, 1462.0ms inference, 0.9ms postprocess per image at shape (1, 3, 576, 1024)\n"
     ]
    },
    {
     "name": "stderr",
     "output_type": "stream",
     "text": [
      " 43%|████▎     | 80/184 [01:50<02:28,  1.43s/it]"
     ]
    },
    {
     "name": "stdout",
     "output_type": "stream",
     "text": [
      "\n",
      "0: 576x1024 1 window, 1328.6ms\n",
      "Speed: 5.2ms preprocess, 1328.6ms inference, 0.8ms postprocess per image at shape (1, 3, 576, 1024)\n"
     ]
    },
    {
     "name": "stderr",
     "output_type": "stream",
     "text": [
      " 44%|████▍     | 81/184 [01:52<02:25,  1.41s/it]"
     ]
    },
    {
     "name": "stdout",
     "output_type": "stream",
     "text": [
      "\n",
      "0: 576x1024 1 window, 1323.5ms\n",
      "Speed: 5.1ms preprocess, 1323.5ms inference, 1.2ms postprocess per image at shape (1, 3, 576, 1024)\n"
     ]
    },
    {
     "name": "stderr",
     "output_type": "stream",
     "text": [
      " 45%|████▍     | 82/184 [01:53<02:22,  1.39s/it]"
     ]
    },
    {
     "name": "stdout",
     "output_type": "stream",
     "text": [
      "\n",
      "0: 576x1024 1 window, 1355.0ms\n",
      "Speed: 6.0ms preprocess, 1355.0ms inference, 1.1ms postprocess per image at shape (1, 3, 576, 1024)\n"
     ]
    },
    {
     "name": "stderr",
     "output_type": "stream",
     "text": [
      " 45%|████▌     | 83/184 [01:54<02:20,  1.39s/it]"
     ]
    },
    {
     "name": "stdout",
     "output_type": "stream",
     "text": [
      "\n",
      "0: 576x1024 1 window, 1325.7ms\n",
      "Speed: 5.8ms preprocess, 1325.7ms inference, 0.7ms postprocess per image at shape (1, 3, 576, 1024)\n"
     ]
    },
    {
     "name": "stderr",
     "output_type": "stream",
     "text": [
      " 46%|████▌     | 84/184 [01:56<02:18,  1.38s/it]"
     ]
    },
    {
     "name": "stdout",
     "output_type": "stream",
     "text": [
      "\n",
      "0: 576x1024 1 window, 1322.0ms\n",
      "Speed: 5.3ms preprocess, 1322.0ms inference, 0.5ms postprocess per image at shape (1, 3, 576, 1024)\n"
     ]
    },
    {
     "name": "stderr",
     "output_type": "stream",
     "text": [
      " 46%|████▌     | 85/184 [01:57<02:15,  1.37s/it]"
     ]
    },
    {
     "name": "stdout",
     "output_type": "stream",
     "text": [
      "\n",
      "0: 576x1024 1 window, 1425.9ms\n",
      "Speed: 5.7ms preprocess, 1425.9ms inference, 2.4ms postprocess per image at shape (1, 3, 576, 1024)\n"
     ]
    },
    {
     "name": "stderr",
     "output_type": "stream",
     "text": [
      " 47%|████▋     | 86/184 [01:59<02:17,  1.40s/it]"
     ]
    },
    {
     "name": "stdout",
     "output_type": "stream",
     "text": [
      "\n",
      "0: 576x1024 1 window, 1728.5ms\n",
      "Speed: 6.9ms preprocess, 1728.5ms inference, 1.3ms postprocess per image at shape (1, 3, 576, 1024)\n"
     ]
    },
    {
     "name": "stderr",
     "output_type": "stream",
     "text": [
      " 47%|████▋     | 87/184 [02:00<02:28,  1.54s/it]"
     ]
    },
    {
     "name": "stdout",
     "output_type": "stream",
     "text": [
      "\n",
      "0: 576x1024 1 window, 1280.9ms\n",
      "Speed: 5.9ms preprocess, 1280.9ms inference, 1.1ms postprocess per image at shape (1, 3, 576, 1024)\n"
     ]
    },
    {
     "name": "stderr",
     "output_type": "stream",
     "text": [
      " 48%|████▊     | 88/184 [02:02<02:20,  1.47s/it]"
     ]
    },
    {
     "name": "stdout",
     "output_type": "stream",
     "text": [
      "\n",
      "0: 576x1024 1 window, 1303.6ms\n",
      "Speed: 5.4ms preprocess, 1303.6ms inference, 1.0ms postprocess per image at shape (1, 3, 576, 1024)\n"
     ]
    },
    {
     "name": "stderr",
     "output_type": "stream",
     "text": [
      " 48%|████▊     | 89/184 [02:03<02:15,  1.43s/it]"
     ]
    },
    {
     "name": "stdout",
     "output_type": "stream",
     "text": [
      "\n",
      "0: 576x1024 1 window, 1280.3ms\n",
      "Speed: 5.3ms preprocess, 1280.3ms inference, 0.6ms postprocess per image at shape (1, 3, 576, 1024)\n"
     ]
    },
    {
     "name": "stderr",
     "output_type": "stream",
     "text": [
      " 49%|████▉     | 90/184 [02:04<02:10,  1.39s/it]"
     ]
    },
    {
     "name": "stdout",
     "output_type": "stream",
     "text": [
      "\n",
      "0: 576x1024 1 window, 1268.4ms\n",
      "Speed: 5.1ms preprocess, 1268.4ms inference, 0.8ms postprocess per image at shape (1, 3, 576, 1024)\n"
     ]
    },
    {
     "name": "stderr",
     "output_type": "stream",
     "text": [
      " 49%|████▉     | 91/184 [02:06<02:06,  1.36s/it]"
     ]
    },
    {
     "name": "stdout",
     "output_type": "stream",
     "text": [
      "\n",
      "0: 576x1024 2 windows, 1308.4ms\n",
      "Speed: 4.9ms preprocess, 1308.4ms inference, 0.6ms postprocess per image at shape (1, 3, 576, 1024)\n"
     ]
    },
    {
     "name": "stderr",
     "output_type": "stream",
     "text": [
      " 50%|█████     | 92/184 [02:07<02:04,  1.36s/it]"
     ]
    },
    {
     "name": "stdout",
     "output_type": "stream",
     "text": [
      "\n",
      "0: 576x1024 1 window, 1338.4ms\n",
      "Speed: 5.0ms preprocess, 1338.4ms inference, 0.7ms postprocess per image at shape (1, 3, 576, 1024)\n"
     ]
    },
    {
     "name": "stderr",
     "output_type": "stream",
     "text": [
      " 51%|█████     | 93/184 [02:08<02:03,  1.36s/it]"
     ]
    },
    {
     "name": "stdout",
     "output_type": "stream",
     "text": [
      "\n",
      "0: 576x1024 2 windows, 1269.0ms\n",
      "Speed: 5.0ms preprocess, 1269.0ms inference, 0.8ms postprocess per image at shape (1, 3, 576, 1024)\n"
     ]
    },
    {
     "name": "stderr",
     "output_type": "stream",
     "text": [
      " 51%|█████     | 94/184 [02:10<02:00,  1.34s/it]"
     ]
    },
    {
     "name": "stdout",
     "output_type": "stream",
     "text": [
      "\n",
      "0: 576x1024 1 window, 1261.5ms\n",
      "Speed: 5.1ms preprocess, 1261.5ms inference, 0.7ms postprocess per image at shape (1, 3, 576, 1024)\n"
     ]
    },
    {
     "name": "stderr",
     "output_type": "stream",
     "text": [
      " 52%|█████▏    | 95/184 [02:11<01:58,  1.33s/it]"
     ]
    },
    {
     "name": "stdout",
     "output_type": "stream",
     "text": [
      "\n",
      "0: 576x1024 1 window, 1266.4ms\n",
      "Speed: 6.0ms preprocess, 1266.4ms inference, 1.1ms postprocess per image at shape (1, 3, 576, 1024)\n"
     ]
    },
    {
     "name": "stderr",
     "output_type": "stream",
     "text": [
      " 52%|█████▏    | 96/184 [02:12<01:55,  1.32s/it]"
     ]
    },
    {
     "name": "stdout",
     "output_type": "stream",
     "text": [
      "\n",
      "0: 576x1024 1 window, 1263.3ms\n",
      "Speed: 4.9ms preprocess, 1263.3ms inference, 0.7ms postprocess per image at shape (1, 3, 576, 1024)\n"
     ]
    },
    {
     "name": "stderr",
     "output_type": "stream",
     "text": [
      " 53%|█████▎    | 97/184 [02:14<01:54,  1.31s/it]"
     ]
    },
    {
     "name": "stdout",
     "output_type": "stream",
     "text": [
      "\n",
      "0: 576x1024 1 window, 1298.4ms\n",
      "Speed: 5.3ms preprocess, 1298.4ms inference, 0.7ms postprocess per image at shape (1, 3, 576, 1024)\n"
     ]
    },
    {
     "name": "stderr",
     "output_type": "stream",
     "text": [
      " 53%|█████▎    | 98/184 [02:15<01:53,  1.32s/it]"
     ]
    },
    {
     "name": "stdout",
     "output_type": "stream",
     "text": [
      "\n",
      "0: 576x1024 1 window, 1462.8ms\n",
      "Speed: 5.0ms preprocess, 1462.8ms inference, 0.9ms postprocess per image at shape (1, 3, 576, 1024)\n"
     ]
    },
    {
     "name": "stderr",
     "output_type": "stream",
     "text": [
      " 54%|█████▍    | 99/184 [02:16<01:56,  1.37s/it]"
     ]
    },
    {
     "name": "stdout",
     "output_type": "stream",
     "text": [
      "\n",
      "0: 576x1024 1 window, 1395.9ms\n",
      "Speed: 7.3ms preprocess, 1395.9ms inference, 1.1ms postprocess per image at shape (1, 3, 576, 1024)\n"
     ]
    },
    {
     "name": "stderr",
     "output_type": "stream",
     "text": [
      " 54%|█████▍    | 100/184 [02:18<01:56,  1.39s/it]"
     ]
    },
    {
     "name": "stdout",
     "output_type": "stream",
     "text": [
      "\n",
      "0: 576x1024 1 window, 1386.2ms\n",
      "Speed: 6.2ms preprocess, 1386.2ms inference, 1.0ms postprocess per image at shape (1, 3, 576, 1024)\n"
     ]
    },
    {
     "name": "stderr",
     "output_type": "stream",
     "text": [
      " 55%|█████▍    | 101/184 [02:19<01:55,  1.40s/it]"
     ]
    },
    {
     "name": "stdout",
     "output_type": "stream",
     "text": [
      "\n",
      "0: 576x1024 1 window, 1350.0ms\n",
      "Speed: 5.8ms preprocess, 1350.0ms inference, 0.7ms postprocess per image at shape (1, 3, 576, 1024)\n"
     ]
    },
    {
     "name": "stderr",
     "output_type": "stream",
     "text": [
      " 55%|█████▌    | 102/184 [02:21<01:54,  1.39s/it]"
     ]
    },
    {
     "name": "stdout",
     "output_type": "stream",
     "text": [
      "\n",
      "0: 576x1024 1 window, 1433.3ms\n",
      "Speed: 6.7ms preprocess, 1433.3ms inference, 0.6ms postprocess per image at shape (1, 3, 576, 1024)\n"
     ]
    },
    {
     "name": "stderr",
     "output_type": "stream",
     "text": [
      " 56%|█████▌    | 103/184 [02:22<01:54,  1.41s/it]"
     ]
    },
    {
     "name": "stdout",
     "output_type": "stream",
     "text": [
      "\n",
      "0: 576x1024 1 window, 1417.5ms\n",
      "Speed: 6.0ms preprocess, 1417.5ms inference, 1.1ms postprocess per image at shape (1, 3, 576, 1024)\n"
     ]
    },
    {
     "name": "stderr",
     "output_type": "stream",
     "text": [
      " 57%|█████▋    | 104/184 [02:24<01:54,  1.43s/it]"
     ]
    },
    {
     "name": "stdout",
     "output_type": "stream",
     "text": [
      "\n",
      "0: 576x1024 1 window, 1343.2ms\n",
      "Speed: 6.0ms preprocess, 1343.2ms inference, 0.6ms postprocess per image at shape (1, 3, 576, 1024)\n"
     ]
    },
    {
     "name": "stderr",
     "output_type": "stream",
     "text": [
      " 57%|█████▋    | 105/184 [02:25<01:51,  1.41s/it]"
     ]
    },
    {
     "name": "stdout",
     "output_type": "stream",
     "text": [
      "\n",
      "0: 576x1024 1 window, 1320.8ms\n",
      "Speed: 5.8ms preprocess, 1320.8ms inference, 1.0ms postprocess per image at shape (1, 3, 576, 1024)\n"
     ]
    },
    {
     "name": "stderr",
     "output_type": "stream",
     "text": [
      " 58%|█████▊    | 106/184 [02:26<01:48,  1.39s/it]"
     ]
    },
    {
     "name": "stdout",
     "output_type": "stream",
     "text": [
      "\n",
      "0: 576x1024 2 windows, 1353.5ms\n",
      "Speed: 6.2ms preprocess, 1353.5ms inference, 0.9ms postprocess per image at shape (1, 3, 576, 1024)\n"
     ]
    },
    {
     "name": "stderr",
     "output_type": "stream",
     "text": [
      " 58%|█████▊    | 107/184 [02:28<01:47,  1.39s/it]"
     ]
    },
    {
     "name": "stdout",
     "output_type": "stream",
     "text": [
      "\n",
      "0: 576x1024 1 window, 1332.2ms\n",
      "Speed: 6.5ms preprocess, 1332.2ms inference, 0.9ms postprocess per image at shape (1, 3, 576, 1024)\n"
     ]
    },
    {
     "name": "stderr",
     "output_type": "stream",
     "text": [
      " 59%|█████▊    | 108/184 [02:29<01:45,  1.38s/it]"
     ]
    },
    {
     "name": "stdout",
     "output_type": "stream",
     "text": [
      "\n",
      "0: 576x1024 1 window, 1338.2ms\n",
      "Speed: 5.9ms preprocess, 1338.2ms inference, 0.6ms postprocess per image at shape (1, 3, 576, 1024)\n"
     ]
    },
    {
     "name": "stderr",
     "output_type": "stream",
     "text": [
      " 59%|█████▉    | 109/184 [02:30<01:43,  1.38s/it]"
     ]
    },
    {
     "name": "stdout",
     "output_type": "stream",
     "text": [
      "\n",
      "0: 576x1024 2 windows, 1400.1ms\n",
      "Speed: 6.0ms preprocess, 1400.1ms inference, 0.8ms postprocess per image at shape (1, 3, 576, 1024)\n"
     ]
    },
    {
     "name": "stderr",
     "output_type": "stream",
     "text": [
      " 60%|█████▉    | 110/184 [02:32<01:43,  1.40s/it]"
     ]
    },
    {
     "name": "stdout",
     "output_type": "stream",
     "text": [
      "\n",
      "0: 576x1024 1 window, 1368.2ms\n",
      "Speed: 5.5ms preprocess, 1368.2ms inference, 0.6ms postprocess per image at shape (1, 3, 576, 1024)\n"
     ]
    },
    {
     "name": "stderr",
     "output_type": "stream",
     "text": [
      " 60%|██████    | 111/184 [02:33<01:41,  1.40s/it]"
     ]
    },
    {
     "name": "stdout",
     "output_type": "stream",
     "text": [
      "\n",
      "0: 576x1024 1 window, 1345.8ms\n",
      "Speed: 5.1ms preprocess, 1345.8ms inference, 0.6ms postprocess per image at shape (1, 3, 576, 1024)\n"
     ]
    },
    {
     "name": "stderr",
     "output_type": "stream",
     "text": [
      " 61%|██████    | 112/184 [02:35<01:40,  1.39s/it]"
     ]
    },
    {
     "name": "stdout",
     "output_type": "stream",
     "text": [
      "\n",
      "0: 576x1024 1 window, 1390.5ms\n",
      "Speed: 6.6ms preprocess, 1390.5ms inference, 0.7ms postprocess per image at shape (1, 3, 576, 1024)\n"
     ]
    },
    {
     "name": "stderr",
     "output_type": "stream",
     "text": [
      " 61%|██████▏   | 113/184 [02:36<01:39,  1.40s/it]"
     ]
    },
    {
     "name": "stdout",
     "output_type": "stream",
     "text": [
      "\n",
      "0: 576x1024 1 window, 1336.3ms\n",
      "Speed: 5.2ms preprocess, 1336.3ms inference, 0.6ms postprocess per image at shape (1, 3, 576, 1024)\n"
     ]
    },
    {
     "name": "stderr",
     "output_type": "stream",
     "text": [
      " 62%|██████▏   | 114/184 [02:37<01:37,  1.39s/it]"
     ]
    },
    {
     "name": "stdout",
     "output_type": "stream",
     "text": [
      "\n",
      "0: 576x1024 1 window, 1339.3ms\n",
      "Speed: 5.5ms preprocess, 1339.3ms inference, 0.8ms postprocess per image at shape (1, 3, 576, 1024)\n"
     ]
    },
    {
     "name": "stderr",
     "output_type": "stream",
     "text": [
      " 62%|██████▎   | 115/184 [02:39<01:35,  1.39s/it]"
     ]
    },
    {
     "name": "stdout",
     "output_type": "stream",
     "text": [
      "\n",
      "0: 576x1024 1 window, 1327.6ms\n",
      "Speed: 6.8ms preprocess, 1327.6ms inference, 0.7ms postprocess per image at shape (1, 3, 576, 1024)\n"
     ]
    },
    {
     "name": "stderr",
     "output_type": "stream",
     "text": [
      " 63%|██████▎   | 116/184 [02:40<01:34,  1.39s/it]"
     ]
    },
    {
     "name": "stdout",
     "output_type": "stream",
     "text": [
      "\n",
      "0: 576x1024 1 window, 1320.6ms\n",
      "Speed: 6.2ms preprocess, 1320.6ms inference, 0.8ms postprocess per image at shape (1, 3, 576, 1024)\n"
     ]
    },
    {
     "name": "stderr",
     "output_type": "stream",
     "text": [
      " 64%|██████▎   | 117/184 [02:42<01:32,  1.38s/it]"
     ]
    },
    {
     "name": "stdout",
     "output_type": "stream",
     "text": [
      "\n",
      "0: 576x1024 1 window, 1401.0ms\n",
      "Speed: 7.4ms preprocess, 1401.0ms inference, 0.8ms postprocess per image at shape (1, 3, 576, 1024)\n"
     ]
    },
    {
     "name": "stderr",
     "output_type": "stream",
     "text": [
      " 64%|██████▍   | 118/184 [02:43<01:32,  1.40s/it]"
     ]
    },
    {
     "name": "stdout",
     "output_type": "stream",
     "text": [
      "\n",
      "0: 576x1024 1 window, 1300.4ms\n",
      "Speed: 4.8ms preprocess, 1300.4ms inference, 0.8ms postprocess per image at shape (1, 3, 576, 1024)\n"
     ]
    },
    {
     "name": "stderr",
     "output_type": "stream",
     "text": [
      " 65%|██████▍   | 119/184 [02:44<01:29,  1.38s/it]"
     ]
    },
    {
     "name": "stdout",
     "output_type": "stream",
     "text": [
      "\n",
      "0: 576x1024 2 windows, 1260.3ms\n",
      "Speed: 5.4ms preprocess, 1260.3ms inference, 0.7ms postprocess per image at shape (1, 3, 576, 1024)\n"
     ]
    },
    {
     "name": "stderr",
     "output_type": "stream",
     "text": [
      " 65%|██████▌   | 120/184 [02:46<01:26,  1.35s/it]"
     ]
    },
    {
     "name": "stdout",
     "output_type": "stream",
     "text": [
      "\n",
      "0: 576x1024 1 window, 1314.6ms\n",
      "Speed: 5.2ms preprocess, 1314.6ms inference, 1.1ms postprocess per image at shape (1, 3, 576, 1024)\n"
     ]
    },
    {
     "name": "stderr",
     "output_type": "stream",
     "text": [
      " 66%|██████▌   | 121/184 [02:47<01:24,  1.35s/it]"
     ]
    },
    {
     "name": "stdout",
     "output_type": "stream",
     "text": [
      "\n",
      "0: 576x1024 1 window, 1280.6ms\n",
      "Speed: 5.2ms preprocess, 1280.6ms inference, 0.7ms postprocess per image at shape (1, 3, 576, 1024)\n"
     ]
    },
    {
     "name": "stderr",
     "output_type": "stream",
     "text": [
      " 66%|██████▋   | 122/184 [02:48<01:22,  1.34s/it]"
     ]
    },
    {
     "name": "stdout",
     "output_type": "stream",
     "text": [
      "\n",
      "0: 576x1024 1 window, 1267.9ms\n",
      "Speed: 5.0ms preprocess, 1267.9ms inference, 1.0ms postprocess per image at shape (1, 3, 576, 1024)\n"
     ]
    },
    {
     "name": "stderr",
     "output_type": "stream",
     "text": [
      " 67%|██████▋   | 123/184 [02:50<01:20,  1.33s/it]"
     ]
    },
    {
     "name": "stdout",
     "output_type": "stream",
     "text": [
      "\n",
      "0: 576x1024 1 window, 1310.5ms\n",
      "Speed: 5.0ms preprocess, 1310.5ms inference, 0.7ms postprocess per image at shape (1, 3, 576, 1024)\n"
     ]
    },
    {
     "name": "stderr",
     "output_type": "stream",
     "text": [
      " 67%|██████▋   | 124/184 [02:51<01:19,  1.33s/it]"
     ]
    },
    {
     "name": "stdout",
     "output_type": "stream",
     "text": [
      "\n",
      "0: 576x1024 2 windows, 1263.8ms\n",
      "Speed: 4.8ms preprocess, 1263.8ms inference, 0.9ms postprocess per image at shape (1, 3, 576, 1024)\n"
     ]
    },
    {
     "name": "stderr",
     "output_type": "stream",
     "text": [
      " 68%|██████▊   | 125/184 [02:52<01:17,  1.32s/it]"
     ]
    },
    {
     "name": "stdout",
     "output_type": "stream",
     "text": [
      "\n",
      "0: 576x1024 1 window, 1270.5ms\n",
      "Speed: 5.3ms preprocess, 1270.5ms inference, 0.5ms postprocess per image at shape (1, 3, 576, 1024)\n"
     ]
    },
    {
     "name": "stderr",
     "output_type": "stream",
     "text": [
      " 68%|██████▊   | 126/184 [02:54<01:16,  1.31s/it]"
     ]
    },
    {
     "name": "stdout",
     "output_type": "stream",
     "text": [
      "\n",
      "0: 576x1024 1 window, 1265.2ms\n",
      "Speed: 5.6ms preprocess, 1265.2ms inference, 0.5ms postprocess per image at shape (1, 3, 576, 1024)\n"
     ]
    },
    {
     "name": "stderr",
     "output_type": "stream",
     "text": [
      " 69%|██████▉   | 127/184 [02:55<01:14,  1.31s/it]"
     ]
    },
    {
     "name": "stdout",
     "output_type": "stream",
     "text": [
      "\n",
      "0: 576x1024 2 windows, 1274.3ms\n",
      "Speed: 4.8ms preprocess, 1274.3ms inference, 0.7ms postprocess per image at shape (1, 3, 576, 1024)\n"
     ]
    },
    {
     "name": "stderr",
     "output_type": "stream",
     "text": [
      " 70%|██████▉   | 128/184 [02:56<01:13,  1.31s/it]"
     ]
    },
    {
     "name": "stdout",
     "output_type": "stream",
     "text": [
      "\n",
      "0: 576x1024 1 window, 1300.6ms\n",
      "Speed: 5.4ms preprocess, 1300.6ms inference, 0.7ms postprocess per image at shape (1, 3, 576, 1024)\n"
     ]
    },
    {
     "name": "stderr",
     "output_type": "stream",
     "text": [
      " 70%|███████   | 129/184 [02:57<01:12,  1.31s/it]"
     ]
    },
    {
     "name": "stdout",
     "output_type": "stream",
     "text": [
      "\n",
      "0: 576x1024 2 windows, 1258.8ms\n",
      "Speed: 4.9ms preprocess, 1258.8ms inference, 0.7ms postprocess per image at shape (1, 3, 576, 1024)\n"
     ]
    },
    {
     "name": "stderr",
     "output_type": "stream",
     "text": [
      " 71%|███████   | 130/184 [02:59<01:10,  1.31s/it]"
     ]
    },
    {
     "name": "stdout",
     "output_type": "stream",
     "text": [
      "\n",
      "0: 576x1024 2 windows, 1269.5ms\n",
      "Speed: 5.5ms preprocess, 1269.5ms inference, 0.5ms postprocess per image at shape (1, 3, 576, 1024)\n"
     ]
    },
    {
     "name": "stderr",
     "output_type": "stream",
     "text": [
      " 71%|███████   | 131/184 [03:00<01:09,  1.30s/it]"
     ]
    },
    {
     "name": "stdout",
     "output_type": "stream",
     "text": [
      "\n",
      "0: 576x1024 1 window, 1268.2ms\n",
      "Speed: 5.1ms preprocess, 1268.2ms inference, 0.6ms postprocess per image at shape (1, 3, 576, 1024)\n"
     ]
    },
    {
     "name": "stderr",
     "output_type": "stream",
     "text": [
      " 72%|███████▏  | 132/184 [03:01<01:07,  1.30s/it]"
     ]
    },
    {
     "name": "stdout",
     "output_type": "stream",
     "text": [
      "\n",
      "0: 576x1024 1 window, 1266.4ms\n",
      "Speed: 5.0ms preprocess, 1266.4ms inference, 1.5ms postprocess per image at shape (1, 3, 576, 1024)\n"
     ]
    },
    {
     "name": "stderr",
     "output_type": "stream",
     "text": [
      " 72%|███████▏  | 133/184 [03:03<01:06,  1.30s/it]"
     ]
    },
    {
     "name": "stdout",
     "output_type": "stream",
     "text": [
      "\n",
      "0: 576x1024 2 windows, 1276.1ms\n",
      "Speed: 5.4ms preprocess, 1276.1ms inference, 1.1ms postprocess per image at shape (1, 3, 576, 1024)\n"
     ]
    },
    {
     "name": "stderr",
     "output_type": "stream",
     "text": [
      " 73%|███████▎  | 134/184 [03:04<01:05,  1.30s/it]"
     ]
    },
    {
     "name": "stdout",
     "output_type": "stream",
     "text": [
      "\n",
      "0: 576x1024 1 window, 1274.0ms\n",
      "Speed: 6.1ms preprocess, 1274.0ms inference, 1.2ms postprocess per image at shape (1, 3, 576, 1024)\n"
     ]
    },
    {
     "name": "stderr",
     "output_type": "stream",
     "text": [
      " 73%|███████▎  | 135/184 [03:05<01:04,  1.31s/it]"
     ]
    },
    {
     "name": "stdout",
     "output_type": "stream",
     "text": [
      "\n",
      "0: 576x1024 2 windows, 1271.8ms\n",
      "Speed: 5.2ms preprocess, 1271.8ms inference, 0.7ms postprocess per image at shape (1, 3, 576, 1024)\n"
     ]
    },
    {
     "name": "stderr",
     "output_type": "stream",
     "text": [
      " 74%|███████▍  | 136/184 [03:07<01:02,  1.31s/it]"
     ]
    },
    {
     "name": "stdout",
     "output_type": "stream",
     "text": [
      "\n",
      "0: 576x1024 2 windows, 1269.5ms\n",
      "Speed: 5.0ms preprocess, 1269.5ms inference, 0.7ms postprocess per image at shape (1, 3, 576, 1024)\n"
     ]
    },
    {
     "name": "stderr",
     "output_type": "stream",
     "text": [
      " 74%|███████▍  | 137/184 [03:08<01:01,  1.30s/it]"
     ]
    },
    {
     "name": "stdout",
     "output_type": "stream",
     "text": [
      "\n",
      "0: 576x1024 1 window, 1261.4ms\n",
      "Speed: 5.0ms preprocess, 1261.4ms inference, 1.0ms postprocess per image at shape (1, 3, 576, 1024)\n"
     ]
    },
    {
     "name": "stderr",
     "output_type": "stream",
     "text": [
      " 75%|███████▌  | 138/184 [03:09<00:59,  1.30s/it]"
     ]
    },
    {
     "name": "stdout",
     "output_type": "stream",
     "text": [
      "\n",
      "0: 576x1024 1 window, 1252.8ms\n",
      "Speed: 5.1ms preprocess, 1252.8ms inference, 0.8ms postprocess per image at shape (1, 3, 576, 1024)\n"
     ]
    },
    {
     "name": "stderr",
     "output_type": "stream",
     "text": [
      " 76%|███████▌  | 139/184 [03:10<00:58,  1.30s/it]"
     ]
    },
    {
     "name": "stdout",
     "output_type": "stream",
     "text": [
      "\n",
      "0: 576x1024 2 windows, 1293.5ms\n",
      "Speed: 4.9ms preprocess, 1293.5ms inference, 0.5ms postprocess per image at shape (1, 3, 576, 1024)\n"
     ]
    },
    {
     "name": "stderr",
     "output_type": "stream",
     "text": [
      " 76%|███████▌  | 140/184 [03:12<00:57,  1.30s/it]"
     ]
    },
    {
     "name": "stdout",
     "output_type": "stream",
     "text": [
      "\n",
      "0: 576x1024 1 window, 1262.2ms\n",
      "Speed: 4.8ms preprocess, 1262.2ms inference, 1.2ms postprocess per image at shape (1, 3, 576, 1024)\n"
     ]
    },
    {
     "name": "stderr",
     "output_type": "stream",
     "text": [
      " 77%|███████▋  | 141/184 [03:13<00:55,  1.30s/it]"
     ]
    },
    {
     "name": "stdout",
     "output_type": "stream",
     "text": [
      "\n",
      "0: 576x1024 1 window, 1259.9ms\n",
      "Speed: 5.2ms preprocess, 1259.9ms inference, 0.8ms postprocess per image at shape (1, 3, 576, 1024)\n"
     ]
    },
    {
     "name": "stderr",
     "output_type": "stream",
     "text": [
      " 77%|███████▋  | 142/184 [03:14<00:54,  1.30s/it]"
     ]
    },
    {
     "name": "stdout",
     "output_type": "stream",
     "text": [
      "\n",
      "0: 576x1024 1 window, 1268.1ms\n",
      "Speed: 4.7ms preprocess, 1268.1ms inference, 0.6ms postprocess per image at shape (1, 3, 576, 1024)\n"
     ]
    },
    {
     "name": "stderr",
     "output_type": "stream",
     "text": [
      " 78%|███████▊  | 143/184 [03:16<00:53,  1.30s/it]"
     ]
    },
    {
     "name": "stdout",
     "output_type": "stream",
     "text": [
      "\n",
      "0: 576x1024 1 window, 1255.8ms\n",
      "Speed: 5.2ms preprocess, 1255.8ms inference, 0.6ms postprocess per image at shape (1, 3, 576, 1024)\n"
     ]
    },
    {
     "name": "stderr",
     "output_type": "stream",
     "text": [
      " 78%|███████▊  | 144/184 [03:17<00:51,  1.29s/it]"
     ]
    },
    {
     "name": "stdout",
     "output_type": "stream",
     "text": [
      "\n",
      "0: 576x1024 1 window, 1258.6ms\n",
      "Speed: 8.5ms preprocess, 1258.6ms inference, 0.6ms postprocess per image at shape (1, 3, 576, 1024)\n"
     ]
    },
    {
     "name": "stderr",
     "output_type": "stream",
     "text": [
      " 79%|███████▉  | 145/184 [03:18<00:50,  1.30s/it]"
     ]
    },
    {
     "name": "stdout",
     "output_type": "stream",
     "text": [
      "\n",
      "0: 576x1024 1 window, 1260.7ms\n",
      "Speed: 4.9ms preprocess, 1260.7ms inference, 1.3ms postprocess per image at shape (1, 3, 576, 1024)\n"
     ]
    },
    {
     "name": "stderr",
     "output_type": "stream",
     "text": [
      " 79%|███████▉  | 146/184 [03:20<00:49,  1.30s/it]"
     ]
    },
    {
     "name": "stdout",
     "output_type": "stream",
     "text": [
      "\n",
      "0: 576x1024 2 windows, 1268.0ms\n",
      "Speed: 5.4ms preprocess, 1268.0ms inference, 1.5ms postprocess per image at shape (1, 3, 576, 1024)\n"
     ]
    },
    {
     "name": "stderr",
     "output_type": "stream",
     "text": [
      " 80%|███████▉  | 147/184 [03:21<00:48,  1.30s/it]"
     ]
    },
    {
     "name": "stdout",
     "output_type": "stream",
     "text": [
      "\n",
      "0: 576x1024 1 window, 1257.3ms\n",
      "Speed: 6.1ms preprocess, 1257.3ms inference, 0.7ms postprocess per image at shape (1, 3, 576, 1024)\n"
     ]
    },
    {
     "name": "stderr",
     "output_type": "stream",
     "text": [
      " 80%|████████  | 148/184 [03:22<00:46,  1.30s/it]"
     ]
    },
    {
     "name": "stdout",
     "output_type": "stream",
     "text": [
      "\n",
      "0: 576x1024 1 window, 1257.1ms\n",
      "Speed: 5.3ms preprocess, 1257.1ms inference, 1.3ms postprocess per image at shape (1, 3, 576, 1024)\n"
     ]
    },
    {
     "name": "stderr",
     "output_type": "stream",
     "text": [
      " 81%|████████  | 149/184 [03:23<00:45,  1.29s/it]"
     ]
    },
    {
     "name": "stdout",
     "output_type": "stream",
     "text": [
      "\n",
      "0: 576x1024 1 window, 1298.5ms\n",
      "Speed: 6.1ms preprocess, 1298.5ms inference, 0.7ms postprocess per image at shape (1, 3, 576, 1024)\n"
     ]
    },
    {
     "name": "stderr",
     "output_type": "stream",
     "text": [
      " 82%|████████▏ | 150/184 [03:25<00:44,  1.30s/it]"
     ]
    },
    {
     "name": "stdout",
     "output_type": "stream",
     "text": [
      "\n",
      "0: 576x1024 1 window, 1256.4ms\n",
      "Speed: 5.6ms preprocess, 1256.4ms inference, 0.7ms postprocess per image at shape (1, 3, 576, 1024)\n"
     ]
    },
    {
     "name": "stderr",
     "output_type": "stream",
     "text": [
      " 82%|████████▏ | 151/184 [03:26<00:42,  1.30s/it]"
     ]
    },
    {
     "name": "stdout",
     "output_type": "stream",
     "text": [
      "\n",
      "0: 576x1024 1 window, 1248.9ms\n",
      "Speed: 5.0ms preprocess, 1248.9ms inference, 0.7ms postprocess per image at shape (1, 3, 576, 1024)\n"
     ]
    },
    {
     "name": "stderr",
     "output_type": "stream",
     "text": [
      " 83%|████████▎ | 152/184 [03:27<00:41,  1.29s/it]"
     ]
    },
    {
     "name": "stdout",
     "output_type": "stream",
     "text": [
      "\n",
      "0: 576x1024 1 window, 1260.8ms\n",
      "Speed: 5.4ms preprocess, 1260.8ms inference, 0.8ms postprocess per image at shape (1, 3, 576, 1024)\n"
     ]
    },
    {
     "name": "stderr",
     "output_type": "stream",
     "text": [
      " 83%|████████▎ | 153/184 [03:29<00:40,  1.29s/it]"
     ]
    },
    {
     "name": "stdout",
     "output_type": "stream",
     "text": [
      "\n",
      "0: 576x1024 1 window, 1255.0ms\n",
      "Speed: 5.3ms preprocess, 1255.0ms inference, 0.7ms postprocess per image at shape (1, 3, 576, 1024)\n"
     ]
    },
    {
     "name": "stderr",
     "output_type": "stream",
     "text": [
      " 84%|████████▎ | 154/184 [03:30<00:38,  1.29s/it]"
     ]
    },
    {
     "name": "stdout",
     "output_type": "stream",
     "text": [
      "\n",
      "0: 576x1024 2 windows, 1252.1ms\n",
      "Speed: 8.8ms preprocess, 1252.1ms inference, 1.1ms postprocess per image at shape (1, 3, 576, 1024)\n"
     ]
    },
    {
     "name": "stderr",
     "output_type": "stream",
     "text": [
      " 84%|████████▍ | 155/184 [03:31<00:37,  1.30s/it]"
     ]
    },
    {
     "name": "stdout",
     "output_type": "stream",
     "text": [
      "\n",
      "0: 576x1024 1 window, 1258.7ms\n",
      "Speed: 4.9ms preprocess, 1258.7ms inference, 1.2ms postprocess per image at shape (1, 3, 576, 1024)\n"
     ]
    },
    {
     "name": "stderr",
     "output_type": "stream",
     "text": [
      " 85%|████████▍ | 156/184 [03:33<00:36,  1.30s/it]"
     ]
    },
    {
     "name": "stdout",
     "output_type": "stream",
     "text": [
      "\n",
      "0: 576x1024 1 window, 1261.1ms\n",
      "Speed: 5.2ms preprocess, 1261.1ms inference, 0.7ms postprocess per image at shape (1, 3, 576, 1024)\n"
     ]
    },
    {
     "name": "stderr",
     "output_type": "stream",
     "text": [
      " 85%|████████▌ | 157/184 [03:34<00:34,  1.29s/it]"
     ]
    },
    {
     "name": "stdout",
     "output_type": "stream",
     "text": [
      "\n",
      "0: 576x1024 2 windows, 1269.0ms\n",
      "Speed: 5.2ms preprocess, 1269.0ms inference, 1.5ms postprocess per image at shape (1, 3, 576, 1024)\n"
     ]
    },
    {
     "name": "stderr",
     "output_type": "stream",
     "text": [
      " 86%|████████▌ | 158/184 [03:35<00:33,  1.30s/it]"
     ]
    },
    {
     "name": "stdout",
     "output_type": "stream",
     "text": [
      "\n",
      "0: 576x1024 1 window, 1262.7ms\n",
      "Speed: 5.2ms preprocess, 1262.7ms inference, 0.8ms postprocess per image at shape (1, 3, 576, 1024)\n"
     ]
    },
    {
     "name": "stderr",
     "output_type": "stream",
     "text": [
      " 86%|████████▋ | 159/184 [03:36<00:32,  1.29s/it]"
     ]
    },
    {
     "name": "stdout",
     "output_type": "stream",
     "text": [
      "\n",
      "0: 576x1024 2 windows, 1263.5ms\n",
      "Speed: 5.1ms preprocess, 1263.5ms inference, 0.9ms postprocess per image at shape (1, 3, 576, 1024)\n"
     ]
    },
    {
     "name": "stderr",
     "output_type": "stream",
     "text": [
      " 87%|████████▋ | 160/184 [03:38<00:31,  1.30s/it]"
     ]
    },
    {
     "name": "stdout",
     "output_type": "stream",
     "text": [
      "\n",
      "0: 576x1024 1 window, 1262.9ms\n",
      "Speed: 5.1ms preprocess, 1262.9ms inference, 0.5ms postprocess per image at shape (1, 3, 576, 1024)\n"
     ]
    },
    {
     "name": "stderr",
     "output_type": "stream",
     "text": [
      " 88%|████████▊ | 161/184 [03:39<00:29,  1.30s/it]"
     ]
    },
    {
     "name": "stdout",
     "output_type": "stream",
     "text": [
      "\n",
      "0: 576x1024 1 window, 1251.6ms\n",
      "Speed: 5.5ms preprocess, 1251.6ms inference, 0.7ms postprocess per image at shape (1, 3, 576, 1024)\n"
     ]
    },
    {
     "name": "stderr",
     "output_type": "stream",
     "text": [
      " 88%|████████▊ | 162/184 [03:40<00:28,  1.29s/it]"
     ]
    },
    {
     "name": "stdout",
     "output_type": "stream",
     "text": [
      "\n",
      "0: 576x1024 1 window, 1238.9ms\n",
      "Speed: 4.9ms preprocess, 1238.9ms inference, 0.7ms postprocess per image at shape (1, 3, 576, 1024)\n"
     ]
    },
    {
     "name": "stderr",
     "output_type": "stream",
     "text": [
      " 89%|████████▊ | 163/184 [03:42<00:27,  1.29s/it]"
     ]
    },
    {
     "name": "stdout",
     "output_type": "stream",
     "text": [
      "\n",
      "0: 576x1024 1 window, 1297.2ms\n",
      "Speed: 5.4ms preprocess, 1297.2ms inference, 0.5ms postprocess per image at shape (1, 3, 576, 1024)\n"
     ]
    },
    {
     "name": "stderr",
     "output_type": "stream",
     "text": [
      " 89%|████████▉ | 164/184 [03:43<00:25,  1.30s/it]"
     ]
    },
    {
     "name": "stdout",
     "output_type": "stream",
     "text": [
      "\n",
      "0: 576x1024 1 window, 1263.1ms\n",
      "Speed: 5.0ms preprocess, 1263.1ms inference, 0.8ms postprocess per image at shape (1, 3, 576, 1024)\n"
     ]
    },
    {
     "name": "stderr",
     "output_type": "stream",
     "text": [
      " 90%|████████▉ | 165/184 [03:44<00:24,  1.30s/it]"
     ]
    },
    {
     "name": "stdout",
     "output_type": "stream",
     "text": [
      "\n",
      "0: 576x1024 1 window, 1258.0ms\n",
      "Speed: 5.1ms preprocess, 1258.0ms inference, 0.7ms postprocess per image at shape (1, 3, 576, 1024)\n"
     ]
    },
    {
     "name": "stderr",
     "output_type": "stream",
     "text": [
      " 90%|█████████ | 166/184 [03:45<00:23,  1.29s/it]"
     ]
    },
    {
     "name": "stdout",
     "output_type": "stream",
     "text": [
      "\n",
      "0: 576x1024 1 window, 1253.6ms\n",
      "Speed: 5.3ms preprocess, 1253.6ms inference, 0.7ms postprocess per image at shape (1, 3, 576, 1024)\n"
     ]
    },
    {
     "name": "stderr",
     "output_type": "stream",
     "text": [
      " 91%|█████████ | 167/184 [03:47<00:21,  1.29s/it]"
     ]
    },
    {
     "name": "stdout",
     "output_type": "stream",
     "text": [
      "\n",
      "0: 576x1024 1 window, 1264.9ms\n",
      "Speed: 5.0ms preprocess, 1264.9ms inference, 0.8ms postprocess per image at shape (1, 3, 576, 1024)\n"
     ]
    },
    {
     "name": "stderr",
     "output_type": "stream",
     "text": [
      " 91%|█████████▏| 168/184 [03:48<00:20,  1.29s/it]"
     ]
    },
    {
     "name": "stdout",
     "output_type": "stream",
     "text": [
      "\n",
      "0: 576x1024 2 windows, 1249.0ms\n",
      "Speed: 5.8ms preprocess, 1249.0ms inference, 0.7ms postprocess per image at shape (1, 3, 576, 1024)\n"
     ]
    },
    {
     "name": "stderr",
     "output_type": "stream",
     "text": [
      " 92%|█████████▏| 169/184 [03:49<00:19,  1.29s/it]"
     ]
    },
    {
     "name": "stdout",
     "output_type": "stream",
     "text": [
      "\n",
      "0: 576x1024 1 window, 1256.2ms\n",
      "Speed: 8.4ms preprocess, 1256.2ms inference, 0.8ms postprocess per image at shape (1, 3, 576, 1024)\n"
     ]
    },
    {
     "name": "stderr",
     "output_type": "stream",
     "text": [
      " 92%|█████████▏| 170/184 [03:51<00:18,  1.30s/it]"
     ]
    },
    {
     "name": "stdout",
     "output_type": "stream",
     "text": [
      "\n",
      "0: 576x1024 1 window, 1281.1ms\n",
      "Speed: 5.2ms preprocess, 1281.1ms inference, 0.6ms postprocess per image at shape (1, 3, 576, 1024)\n"
     ]
    },
    {
     "name": "stderr",
     "output_type": "stream",
     "text": [
      " 93%|█████████▎| 171/184 [03:52<00:16,  1.30s/it]"
     ]
    },
    {
     "name": "stdout",
     "output_type": "stream",
     "text": [
      "\n",
      "0: 576x1024 1 window, 1290.3ms\n",
      "Speed: 5.5ms preprocess, 1290.3ms inference, 1.4ms postprocess per image at shape (1, 3, 576, 1024)\n"
     ]
    },
    {
     "name": "stderr",
     "output_type": "stream",
     "text": [
      " 93%|█████████▎| 172/184 [03:53<00:15,  1.31s/it]"
     ]
    },
    {
     "name": "stdout",
     "output_type": "stream",
     "text": [
      "\n",
      "0: 576x1024 1 window, 1346.1ms\n",
      "Speed: 5.6ms preprocess, 1346.1ms inference, 0.9ms postprocess per image at shape (1, 3, 576, 1024)\n"
     ]
    },
    {
     "name": "stderr",
     "output_type": "stream",
     "text": [
      " 94%|█████████▍| 173/184 [03:55<00:14,  1.33s/it]"
     ]
    },
    {
     "name": "stdout",
     "output_type": "stream",
     "text": [
      "\n",
      "0: 576x1024 1 window, 1254.2ms\n",
      "Speed: 6.1ms preprocess, 1254.2ms inference, 0.5ms postprocess per image at shape (1, 3, 576, 1024)\n"
     ]
    },
    {
     "name": "stderr",
     "output_type": "stream",
     "text": [
      " 95%|█████████▍| 174/184 [03:56<00:13,  1.31s/it]"
     ]
    },
    {
     "name": "stdout",
     "output_type": "stream",
     "text": [
      "\n",
      "0: 576x1024 1 window, 1250.4ms\n",
      "Speed: 5.3ms preprocess, 1250.4ms inference, 0.8ms postprocess per image at shape (1, 3, 576, 1024)\n"
     ]
    },
    {
     "name": "stderr",
     "output_type": "stream",
     "text": [
      " 95%|█████████▌| 175/184 [03:57<00:11,  1.30s/it]"
     ]
    },
    {
     "name": "stdout",
     "output_type": "stream",
     "text": [
      "\n",
      "0: 576x1024 1 window, 1267.0ms\n",
      "Speed: 5.4ms preprocess, 1267.0ms inference, 0.5ms postprocess per image at shape (1, 3, 576, 1024)\n"
     ]
    },
    {
     "name": "stderr",
     "output_type": "stream",
     "text": [
      " 96%|█████████▌| 176/184 [03:59<00:10,  1.30s/it]"
     ]
    },
    {
     "name": "stdout",
     "output_type": "stream",
     "text": [
      "\n",
      "0: 576x1024 1 window, 1250.0ms\n",
      "Speed: 5.1ms preprocess, 1250.0ms inference, 1.4ms postprocess per image at shape (1, 3, 576, 1024)\n"
     ]
    },
    {
     "name": "stderr",
     "output_type": "stream",
     "text": [
      " 96%|█████████▌| 177/184 [04:00<00:09,  1.30s/it]"
     ]
    },
    {
     "name": "stdout",
     "output_type": "stream",
     "text": [
      "\n",
      "0: 576x1024 1 window, 1257.6ms\n",
      "Speed: 7.0ms preprocess, 1257.6ms inference, 0.6ms postprocess per image at shape (1, 3, 576, 1024)\n"
     ]
    },
    {
     "name": "stderr",
     "output_type": "stream",
     "text": [
      " 97%|█████████▋| 178/184 [04:01<00:07,  1.30s/it]"
     ]
    },
    {
     "name": "stdout",
     "output_type": "stream",
     "text": [
      "\n",
      "0: 576x1024 1 window, 1257.9ms\n",
      "Speed: 4.9ms preprocess, 1257.9ms inference, 0.8ms postprocess per image at shape (1, 3, 576, 1024)\n"
     ]
    },
    {
     "name": "stderr",
     "output_type": "stream",
     "text": [
      " 97%|█████████▋| 179/184 [04:02<00:06,  1.30s/it]"
     ]
    },
    {
     "name": "stdout",
     "output_type": "stream",
     "text": [
      "\n",
      "0: 576x1024 1 window, 1258.5ms\n",
      "Speed: 4.8ms preprocess, 1258.5ms inference, 1.2ms postprocess per image at shape (1, 3, 576, 1024)\n"
     ]
    },
    {
     "name": "stderr",
     "output_type": "stream",
     "text": [
      " 98%|█████████▊| 180/184 [04:04<00:05,  1.29s/it]"
     ]
    },
    {
     "name": "stdout",
     "output_type": "stream",
     "text": [
      "\n",
      "0: 576x1024 1 window, 1260.1ms\n",
      "Speed: 5.2ms preprocess, 1260.1ms inference, 0.9ms postprocess per image at shape (1, 3, 576, 1024)\n"
     ]
    },
    {
     "name": "stderr",
     "output_type": "stream",
     "text": [
      " 98%|█████████▊| 181/184 [04:05<00:03,  1.29s/it]"
     ]
    },
    {
     "name": "stdout",
     "output_type": "stream",
     "text": [
      "\n",
      "0: 576x1024 1 window, 1278.6ms\n",
      "Speed: 5.6ms preprocess, 1278.6ms inference, 0.9ms postprocess per image at shape (1, 3, 576, 1024)\n"
     ]
    },
    {
     "name": "stderr",
     "output_type": "stream",
     "text": [
      " 99%|█████████▉| 182/184 [04:06<00:02,  1.30s/it]"
     ]
    },
    {
     "name": "stdout",
     "output_type": "stream",
     "text": [
      "\n",
      "0: 576x1024 1 window, 1258.0ms\n",
      "Speed: 4.8ms preprocess, 1258.0ms inference, 0.9ms postprocess per image at shape (1, 3, 576, 1024)\n"
     ]
    },
    {
     "name": "stderr",
     "output_type": "stream",
     "text": [
      " 99%|█████████▉| 183/184 [04:08<00:01,  1.30s/it]"
     ]
    },
    {
     "name": "stdout",
     "output_type": "stream",
     "text": [
      "\n",
      "0: 576x1024 1 window, 1259.1ms\n",
      "Speed: 5.0ms preprocess, 1259.1ms inference, 0.5ms postprocess per image at shape (1, 3, 576, 1024)\n"
     ]
    },
    {
     "name": "stderr",
     "output_type": "stream",
     "text": [
      "100%|██████████| 184/184 [04:09<00:00,  1.36s/it]\n"
     ]
    }
   ],
   "source": [
    "prediction_annotation_padding_train = []\n",
    "for i in tqdm(range(len(annotations_bbox_padding_train))):\n",
    "    predictions = []\n",
    "    filename = annotations_bbox_padding_train.iloc[i].filename\n",
    "    image_path = f\"WhatsappWindowDatasetPADDING/WhatsappWindowDatasetPADDING-Train/{filename}\"\n",
    "    im = plt.imread(image_path)\n",
    "    try:\n",
    "        b = model.predict(im)[0].boxes\n",
    "        predictions.append(filename)\n",
    "        predictions.append('window')\n",
    "        predictions.extend(list(map(int, b.xyxy[0].tolist())))\n",
    "    except: pass\n",
    "    prediction_annotation_padding_train.append(predictions)"
   ]
  },
  {
   "cell_type": "code",
   "execution_count": 8,
   "metadata": {},
   "outputs": [
    {
     "data": {
      "text/html": [
       "<div>\n",
       "<style scoped>\n",
       "    .dataframe tbody tr th:only-of-type {\n",
       "        vertical-align: middle;\n",
       "    }\n",
       "\n",
       "    .dataframe tbody tr th {\n",
       "        vertical-align: top;\n",
       "    }\n",
       "\n",
       "    .dataframe thead th {\n",
       "        text-align: right;\n",
       "    }\n",
       "</style>\n",
       "<table border=\"1\" class=\"dataframe\">\n",
       "  <thead>\n",
       "    <tr style=\"text-align: right;\">\n",
       "      <th></th>\n",
       "      <th>filename</th>\n",
       "      <th>class</th>\n",
       "      <th>xmin</th>\n",
       "      <th>ymin</th>\n",
       "      <th>xmax</th>\n",
       "      <th>ymax</th>\n",
       "    </tr>\n",
       "  </thead>\n",
       "  <tbody>\n",
       "    <tr>\n",
       "      <th>0</th>\n",
       "      <td>WhatsApp-Image-2024-06-14-at-20-25-53_jpeg.rf....</td>\n",
       "      <td>window</td>\n",
       "      <td>330</td>\n",
       "      <td>101</td>\n",
       "      <td>1679</td>\n",
       "      <td>988</td>\n",
       "    </tr>\n",
       "    <tr>\n",
       "      <th>1</th>\n",
       "      <td>WhatsApp-Image-2024-06-14-at-20-25-53_jpeg.rf....</td>\n",
       "      <td>window</td>\n",
       "      <td>330</td>\n",
       "      <td>101</td>\n",
       "      <td>1679</td>\n",
       "      <td>988</td>\n",
       "    </tr>\n",
       "    <tr>\n",
       "      <th>2</th>\n",
       "      <td>WhatsApp-Image-2024-06-14-at-21-03-54_jpeg.rf....</td>\n",
       "      <td>window</td>\n",
       "      <td>35</td>\n",
       "      <td>49</td>\n",
       "      <td>1580</td>\n",
       "      <td>896</td>\n",
       "    </tr>\n",
       "    <tr>\n",
       "      <th>3</th>\n",
       "      <td>17_png.rf.1f31466d7c560e4f14e765b157176da7.jpg</td>\n",
       "      <td>window</td>\n",
       "      <td>542</td>\n",
       "      <td>121</td>\n",
       "      <td>1677</td>\n",
       "      <td>829</td>\n",
       "    </tr>\n",
       "    <tr>\n",
       "      <th>4</th>\n",
       "      <td>12_png.rf.09ed9ec551dcf6fefc3a62c5464e61dd.jpg</td>\n",
       "      <td>window</td>\n",
       "      <td>26</td>\n",
       "      <td>289</td>\n",
       "      <td>1150</td>\n",
       "      <td>993</td>\n",
       "    </tr>\n",
       "    <tr>\n",
       "      <th>...</th>\n",
       "      <td>...</td>\n",
       "      <td>...</td>\n",
       "      <td>...</td>\n",
       "      <td>...</td>\n",
       "      <td>...</td>\n",
       "      <td>...</td>\n",
       "    </tr>\n",
       "    <tr>\n",
       "      <th>179</th>\n",
       "      <td>Screenshot-2024-06-14-at-9-47-18-PM-10-01-54-P...</td>\n",
       "      <td>window</td>\n",
       "      <td>245</td>\n",
       "      <td>335</td>\n",
       "      <td>1165</td>\n",
       "      <td>995</td>\n",
       "    </tr>\n",
       "    <tr>\n",
       "      <th>180</th>\n",
       "      <td>17_png.rf.f016d751e9e9a774acdad9f550e60960.jpg</td>\n",
       "      <td>window</td>\n",
       "      <td>539</td>\n",
       "      <td>120</td>\n",
       "      <td>1691</td>\n",
       "      <td>828</td>\n",
       "    </tr>\n",
       "    <tr>\n",
       "      <th>181</th>\n",
       "      <td>Screenshot-2024-06-14-at-6-32-54-PM_png.rf.ed8...</td>\n",
       "      <td>window</td>\n",
       "      <td>715</td>\n",
       "      <td>184</td>\n",
       "      <td>1587</td>\n",
       "      <td>995</td>\n",
       "    </tr>\n",
       "    <tr>\n",
       "      <th>182</th>\n",
       "      <td>Screenshot-2024-06-14-at-6-32-59-PM_png.rf.f41...</td>\n",
       "      <td>window</td>\n",
       "      <td>181</td>\n",
       "      <td>105</td>\n",
       "      <td>833</td>\n",
       "      <td>899</td>\n",
       "    </tr>\n",
       "    <tr>\n",
       "      <th>183</th>\n",
       "      <td>6_png.rf.f62c366b6d8c9b73c0572d503090b294.jpg</td>\n",
       "      <td>window</td>\n",
       "      <td>759</td>\n",
       "      <td>27</td>\n",
       "      <td>1920</td>\n",
       "      <td>925</td>\n",
       "    </tr>\n",
       "  </tbody>\n",
       "</table>\n",
       "<p>184 rows × 6 columns</p>\n",
       "</div>"
      ],
      "text/plain": [
       "                                              filename   class  xmin  ymin  \\\n",
       "0    WhatsApp-Image-2024-06-14-at-20-25-53_jpeg.rf....  window   330   101   \n",
       "1    WhatsApp-Image-2024-06-14-at-20-25-53_jpeg.rf....  window   330   101   \n",
       "2    WhatsApp-Image-2024-06-14-at-21-03-54_jpeg.rf....  window    35    49   \n",
       "3       17_png.rf.1f31466d7c560e4f14e765b157176da7.jpg  window   542   121   \n",
       "4       12_png.rf.09ed9ec551dcf6fefc3a62c5464e61dd.jpg  window    26   289   \n",
       "..                                                 ...     ...   ...   ...   \n",
       "179  Screenshot-2024-06-14-at-9-47-18-PM-10-01-54-P...  window   245   335   \n",
       "180     17_png.rf.f016d751e9e9a774acdad9f550e60960.jpg  window   539   120   \n",
       "181  Screenshot-2024-06-14-at-6-32-54-PM_png.rf.ed8...  window   715   184   \n",
       "182  Screenshot-2024-06-14-at-6-32-59-PM_png.rf.f41...  window   181   105   \n",
       "183      6_png.rf.f62c366b6d8c9b73c0572d503090b294.jpg  window   759    27   \n",
       "\n",
       "     xmax  ymax  \n",
       "0    1679   988  \n",
       "1    1679   988  \n",
       "2    1580   896  \n",
       "3    1677   829  \n",
       "4    1150   993  \n",
       "..    ...   ...  \n",
       "179  1165   995  \n",
       "180  1691   828  \n",
       "181  1587   995  \n",
       "182   833   899  \n",
       "183  1920   925  \n",
       "\n",
       "[184 rows x 6 columns]"
      ]
     },
     "execution_count": 8,
     "metadata": {},
     "output_type": "execute_result"
    }
   ],
   "source": [
    "df = pd.DataFrame(prediction_annotation_padding_train).rename(columns={0:\"filename\", 1:\"class\", 2:\"xmin\", 3:\"ymin\", 4:\"xmax\", 5:\"ymax\"})\n",
    "df"
   ]
  },
  {
   "cell_type": "code",
   "execution_count": 9,
   "metadata": {},
   "outputs": [],
   "source": [
    "df.to_csv(\"IOUcalc/WindowModel/YOLOv9/PADDING/Train/Prediction.csv\")\n",
    "annotations_bbox_padding_train.to_csv(\"IOUcalc/WindowModel/YOLOv9/PADDING/Train/GroundTruth.csv\")"
   ]
  },
  {
   "cell_type": "code",
   "execution_count": null,
   "metadata": {},
   "outputs": [],
   "source": []
  },
  {
   "cell_type": "code",
   "execution_count": 10,
   "metadata": {},
   "outputs": [
    {
     "data": {
      "text/html": [
       "<div>\n",
       "<style scoped>\n",
       "    .dataframe tbody tr th:only-of-type {\n",
       "        vertical-align: middle;\n",
       "    }\n",
       "\n",
       "    .dataframe tbody tr th {\n",
       "        vertical-align: top;\n",
       "    }\n",
       "\n",
       "    .dataframe thead th {\n",
       "        text-align: right;\n",
       "    }\n",
       "</style>\n",
       "<table border=\"1\" class=\"dataframe\">\n",
       "  <thead>\n",
       "    <tr style=\"text-align: right;\">\n",
       "      <th></th>\n",
       "      <th>filename</th>\n",
       "      <th>class</th>\n",
       "      <th>xmin</th>\n",
       "      <th>ymin</th>\n",
       "      <th>xmax</th>\n",
       "      <th>ymax</th>\n",
       "    </tr>\n",
       "  </thead>\n",
       "  <tbody>\n",
       "    <tr>\n",
       "      <th>0</th>\n",
       "      <td>WhatsApp-Image-2024-06-14-at-20-21-04_jpeg.rf....</td>\n",
       "      <td>window</td>\n",
       "      <td>214</td>\n",
       "      <td>76</td>\n",
       "      <td>1116</td>\n",
       "      <td>610</td>\n",
       "    </tr>\n",
       "    <tr>\n",
       "      <th>1</th>\n",
       "      <td>Screenshot-2024-06-15-at-5-42-31-PM_png.rf.abc...</td>\n",
       "      <td>window</td>\n",
       "      <td>0</td>\n",
       "      <td>43</td>\n",
       "      <td>2048</td>\n",
       "      <td>1276</td>\n",
       "    </tr>\n",
       "    <tr>\n",
       "      <th>2</th>\n",
       "      <td>WhatsApp-Image-2024-06-14-at-20-41-55_jpeg.rf....</td>\n",
       "      <td>window</td>\n",
       "      <td>3</td>\n",
       "      <td>0</td>\n",
       "      <td>1280</td>\n",
       "      <td>680</td>\n",
       "    </tr>\n",
       "    <tr>\n",
       "      <th>3</th>\n",
       "      <td>8_png.rf.1c83f06a7ab340228660dca86eda5eb4.jpg</td>\n",
       "      <td>window</td>\n",
       "      <td>532</td>\n",
       "      <td>3</td>\n",
       "      <td>1332</td>\n",
       "      <td>644</td>\n",
       "    </tr>\n",
       "    <tr>\n",
       "      <th>4</th>\n",
       "      <td>Screenshot-2024-06-15-at-5-42-25-PM_png.rf.3b7...</td>\n",
       "      <td>window</td>\n",
       "      <td>0</td>\n",
       "      <td>42</td>\n",
       "      <td>2048</td>\n",
       "      <td>1272</td>\n",
       "    </tr>\n",
       "    <tr>\n",
       "      <th>5</th>\n",
       "      <td>Screenshot-2024-06-14-at-9-47-33-PM-10-01-54-P...</td>\n",
       "      <td>window</td>\n",
       "      <td>94</td>\n",
       "      <td>201</td>\n",
       "      <td>1231</td>\n",
       "      <td>1281</td>\n",
       "    </tr>\n",
       "    <tr>\n",
       "      <th>6</th>\n",
       "      <td>WhatsApp-Image-2024-06-14-at-21-12-47_jpeg.rf....</td>\n",
       "      <td>window</td>\n",
       "      <td>4</td>\n",
       "      <td>0</td>\n",
       "      <td>636</td>\n",
       "      <td>686</td>\n",
       "    </tr>\n",
       "    <tr>\n",
       "      <th>7</th>\n",
       "      <td>Screenshot-2024-06-14-at-9-45-59-PM_png.rf.0c4...</td>\n",
       "      <td>window</td>\n",
       "      <td>187</td>\n",
       "      <td>134</td>\n",
       "      <td>1266</td>\n",
       "      <td>1120</td>\n",
       "    </tr>\n",
       "    <tr>\n",
       "      <th>8</th>\n",
       "      <td>5_png.rf.31ae2142e9038f3a9d6b5a98a669a918.jpg</td>\n",
       "      <td>window</td>\n",
       "      <td>542</td>\n",
       "      <td>17</td>\n",
       "      <td>1346</td>\n",
       "      <td>669</td>\n",
       "    </tr>\n",
       "    <tr>\n",
       "      <th>9</th>\n",
       "      <td>WhatsApp-Image-2024-06-14-at-21-12-06_jpeg.rf....</td>\n",
       "      <td>window</td>\n",
       "      <td>638</td>\n",
       "      <td>0</td>\n",
       "      <td>1280</td>\n",
       "      <td>679</td>\n",
       "    </tr>\n",
       "    <tr>\n",
       "      <th>10</th>\n",
       "      <td>Screenshot-2024-06-15-at-5-42-09-PM_png.rf.545...</td>\n",
       "      <td>window</td>\n",
       "      <td>261</td>\n",
       "      <td>55</td>\n",
       "      <td>1270</td>\n",
       "      <td>1210</td>\n",
       "    </tr>\n",
       "    <tr>\n",
       "      <th>11</th>\n",
       "      <td>WhatsApp-Image-2024-06-14-at-21-06-45_jpeg.rf....</td>\n",
       "      <td>window</td>\n",
       "      <td>42</td>\n",
       "      <td>130</td>\n",
       "      <td>714</td>\n",
       "      <td>598</td>\n",
       "    </tr>\n",
       "    <tr>\n",
       "      <th>12</th>\n",
       "      <td>WhatsApp-Image-2024-06-14-at-20-20-32_jpeg.rf....</td>\n",
       "      <td>window</td>\n",
       "      <td>214</td>\n",
       "      <td>73</td>\n",
       "      <td>1113</td>\n",
       "      <td>613</td>\n",
       "    </tr>\n",
       "    <tr>\n",
       "      <th>13</th>\n",
       "      <td>Screenshot-2024-06-14-at-6-31-54-PM_png.rf.2cc...</td>\n",
       "      <td>window</td>\n",
       "      <td>308</td>\n",
       "      <td>194</td>\n",
       "      <td>1521</td>\n",
       "      <td>1154</td>\n",
       "    </tr>\n",
       "    <tr>\n",
       "      <th>14</th>\n",
       "      <td>Screenshot-2024-06-15-at-5-41-16-PM_png.rf.ad4...</td>\n",
       "      <td>window</td>\n",
       "      <td>91</td>\n",
       "      <td>129</td>\n",
       "      <td>1276</td>\n",
       "      <td>1191</td>\n",
       "    </tr>\n",
       "    <tr>\n",
       "      <th>15</th>\n",
       "      <td>WhatsApp-Image-2024-06-14-at-20-25-23_jpeg.rf....</td>\n",
       "      <td>window</td>\n",
       "      <td>218</td>\n",
       "      <td>74</td>\n",
       "      <td>1110</td>\n",
       "      <td>658</td>\n",
       "    </tr>\n",
       "    <tr>\n",
       "      <th>16</th>\n",
       "      <td>WhatsApp-Image-2024-06-14-at-20-31-01_jpeg.rf....</td>\n",
       "      <td>window</td>\n",
       "      <td>212</td>\n",
       "      <td>68</td>\n",
       "      <td>1112</td>\n",
       "      <td>666</td>\n",
       "    </tr>\n",
       "    <tr>\n",
       "      <th>17</th>\n",
       "      <td>WhatsApp-Image-2024-06-14-at-20-22-01_jpeg.rf....</td>\n",
       "      <td>window</td>\n",
       "      <td>218</td>\n",
       "      <td>78</td>\n",
       "      <td>1100</td>\n",
       "      <td>590</td>\n",
       "    </tr>\n",
       "    <tr>\n",
       "      <th>18</th>\n",
       "      <td>Screenshot-2024-06-14-at-9-47-27-PM_png.rf.751...</td>\n",
       "      <td>window</td>\n",
       "      <td>298</td>\n",
       "      <td>125</td>\n",
       "      <td>1431</td>\n",
       "      <td>1202</td>\n",
       "    </tr>\n",
       "    <tr>\n",
       "      <th>19</th>\n",
       "      <td>Screenshot-2024-06-14-at-6-32-33-PM_png.rf.022...</td>\n",
       "      <td>window</td>\n",
       "      <td>278</td>\n",
       "      <td>160</td>\n",
       "      <td>1803</td>\n",
       "      <td>1164</td>\n",
       "    </tr>\n",
       "    <tr>\n",
       "      <th>20</th>\n",
       "      <td>WhatsApp-Image-2024-06-14-at-21-15-12_jpeg.rf....</td>\n",
       "      <td>window</td>\n",
       "      <td>8</td>\n",
       "      <td>0</td>\n",
       "      <td>1276</td>\n",
       "      <td>718</td>\n",
       "    </tr>\n",
       "    <tr>\n",
       "      <th>21</th>\n",
       "      <td>Screenshot-2024-06-14-at-9-47-45-PM-10-01-54-P...</td>\n",
       "      <td>window</td>\n",
       "      <td>97</td>\n",
       "      <td>154</td>\n",
       "      <td>1878</td>\n",
       "      <td>1231</td>\n",
       "    </tr>\n",
       "    <tr>\n",
       "      <th>22</th>\n",
       "      <td>10_png.rf.cf2143b6d14afd93e8a04b223f9a42e9.jpg</td>\n",
       "      <td>window</td>\n",
       "      <td>42</td>\n",
       "      <td>176</td>\n",
       "      <td>828</td>\n",
       "      <td>688</td>\n",
       "    </tr>\n",
       "    <tr>\n",
       "      <th>23</th>\n",
       "      <td>ss-10-22-12-PM_jpg.rf.e528e1180fcca4f185d62a29...</td>\n",
       "      <td>window</td>\n",
       "      <td>345</td>\n",
       "      <td>333</td>\n",
       "      <td>1554</td>\n",
       "      <td>1264</td>\n",
       "    </tr>\n",
       "    <tr>\n",
       "      <th>24</th>\n",
       "      <td>Screenshot-2024-06-14-at-9-46-04-PM-10-01-54-P...</td>\n",
       "      <td>window</td>\n",
       "      <td>188</td>\n",
       "      <td>129</td>\n",
       "      <td>1443</td>\n",
       "      <td>1200</td>\n",
       "    </tr>\n",
       "    <tr>\n",
       "      <th>25</th>\n",
       "      <td>Screenshot-2024-06-14-at-9-46-56-PM_png.rf.ce2...</td>\n",
       "      <td>window</td>\n",
       "      <td>799</td>\n",
       "      <td>67</td>\n",
       "      <td>1741</td>\n",
       "      <td>1100</td>\n",
       "    </tr>\n",
       "  </tbody>\n",
       "</table>\n",
       "</div>"
      ],
      "text/plain": [
       "                                             filename   class  xmin  ymin  \\\n",
       "0   WhatsApp-Image-2024-06-14-at-20-21-04_jpeg.rf....  window   214    76   \n",
       "1   Screenshot-2024-06-15-at-5-42-31-PM_png.rf.abc...  window     0    43   \n",
       "2   WhatsApp-Image-2024-06-14-at-20-41-55_jpeg.rf....  window     3     0   \n",
       "3       8_png.rf.1c83f06a7ab340228660dca86eda5eb4.jpg  window   532     3   \n",
       "4   Screenshot-2024-06-15-at-5-42-25-PM_png.rf.3b7...  window     0    42   \n",
       "5   Screenshot-2024-06-14-at-9-47-33-PM-10-01-54-P...  window    94   201   \n",
       "6   WhatsApp-Image-2024-06-14-at-21-12-47_jpeg.rf....  window     4     0   \n",
       "7   Screenshot-2024-06-14-at-9-45-59-PM_png.rf.0c4...  window   187   134   \n",
       "8       5_png.rf.31ae2142e9038f3a9d6b5a98a669a918.jpg  window   542    17   \n",
       "9   WhatsApp-Image-2024-06-14-at-21-12-06_jpeg.rf....  window   638     0   \n",
       "10  Screenshot-2024-06-15-at-5-42-09-PM_png.rf.545...  window   261    55   \n",
       "11  WhatsApp-Image-2024-06-14-at-21-06-45_jpeg.rf....  window    42   130   \n",
       "12  WhatsApp-Image-2024-06-14-at-20-20-32_jpeg.rf....  window   214    73   \n",
       "13  Screenshot-2024-06-14-at-6-31-54-PM_png.rf.2cc...  window   308   194   \n",
       "14  Screenshot-2024-06-15-at-5-41-16-PM_png.rf.ad4...  window    91   129   \n",
       "15  WhatsApp-Image-2024-06-14-at-20-25-23_jpeg.rf....  window   218    74   \n",
       "16  WhatsApp-Image-2024-06-14-at-20-31-01_jpeg.rf....  window   212    68   \n",
       "17  WhatsApp-Image-2024-06-14-at-20-22-01_jpeg.rf....  window   218    78   \n",
       "18  Screenshot-2024-06-14-at-9-47-27-PM_png.rf.751...  window   298   125   \n",
       "19  Screenshot-2024-06-14-at-6-32-33-PM_png.rf.022...  window   278   160   \n",
       "20  WhatsApp-Image-2024-06-14-at-21-15-12_jpeg.rf....  window     8     0   \n",
       "21  Screenshot-2024-06-14-at-9-47-45-PM-10-01-54-P...  window    97   154   \n",
       "22     10_png.rf.cf2143b6d14afd93e8a04b223f9a42e9.jpg  window    42   176   \n",
       "23  ss-10-22-12-PM_jpg.rf.e528e1180fcca4f185d62a29...  window   345   333   \n",
       "24  Screenshot-2024-06-14-at-9-46-04-PM-10-01-54-P...  window   188   129   \n",
       "25  Screenshot-2024-06-14-at-9-46-56-PM_png.rf.ce2...  window   799    67   \n",
       "\n",
       "    xmax  ymax  \n",
       "0   1116   610  \n",
       "1   2048  1276  \n",
       "2   1280   680  \n",
       "3   1332   644  \n",
       "4   2048  1272  \n",
       "5   1231  1281  \n",
       "6    636   686  \n",
       "7   1266  1120  \n",
       "8   1346   669  \n",
       "9   1280   679  \n",
       "10  1270  1210  \n",
       "11   714   598  \n",
       "12  1113   613  \n",
       "13  1521  1154  \n",
       "14  1276  1191  \n",
       "15  1110   658  \n",
       "16  1112   666  \n",
       "17  1100   590  \n",
       "18  1431  1202  \n",
       "19  1803  1164  \n",
       "20  1276   718  \n",
       "21  1878  1231  \n",
       "22   828   688  \n",
       "23  1554  1264  \n",
       "24  1443  1200  \n",
       "25  1741  1100  "
      ]
     },
     "execution_count": 10,
     "metadata": {},
     "output_type": "execute_result"
    }
   ],
   "source": [
    "annotations_bbox_test = pd.read_csv(\"WhatsappWindowDataset/WhatsappWindowDataset-Test/_annotations.csv\")\n",
    "annotations_bbox_test = annotations_bbox_test.drop(columns=['width','height'], axis=0)\n",
    "annotations_bbox_test"
   ]
  },
  {
   "cell_type": "code",
   "execution_count": 11,
   "metadata": {},
   "outputs": [
    {
     "name": "stderr",
     "output_type": "stream",
     "text": [
      "  0%|          | 0/26 [00:00<?, ?it/s]"
     ]
    },
    {
     "name": "stdout",
     "output_type": "stream",
     "text": [
      "\n",
      "0: 576x1024 1 window, 1248.1ms\n",
      "Speed: 4.6ms preprocess, 1248.1ms inference, 0.7ms postprocess per image at shape (1, 3, 576, 1024)\n"
     ]
    },
    {
     "name": "stderr",
     "output_type": "stream",
     "text": [
      "  4%|▍         | 1/26 [00:01<00:31,  1.26s/it]"
     ]
    },
    {
     "name": "stdout",
     "output_type": "stream",
     "text": [
      "\n",
      "0: 672x1024 1 window, 1448.2ms\n",
      "Speed: 5.9ms preprocess, 1448.2ms inference, 0.5ms postprocess per image at shape (1, 3, 672, 1024)\n"
     ]
    },
    {
     "name": "stderr",
     "output_type": "stream",
     "text": [
      "  8%|▊         | 2/26 [00:02<00:33,  1.39s/it]"
     ]
    },
    {
     "name": "stdout",
     "output_type": "stream",
     "text": [
      "\n",
      "0: 576x1024 1 window, 1266.2ms\n",
      "Speed: 4.5ms preprocess, 1266.2ms inference, 0.9ms postprocess per image at shape (1, 3, 576, 1024)\n"
     ]
    },
    {
     "name": "stderr",
     "output_type": "stream",
     "text": [
      " 12%|█▏        | 3/26 [00:04<00:30,  1.34s/it]"
     ]
    },
    {
     "name": "stdout",
     "output_type": "stream",
     "text": [
      "\n",
      "0: 576x1024 1 window, 1250.2ms\n",
      "Speed: 5.5ms preprocess, 1250.2ms inference, 0.7ms postprocess per image at shape (1, 3, 576, 1024)\n"
     ]
    },
    {
     "name": "stderr",
     "output_type": "stream",
     "text": [
      " 15%|█▌        | 4/26 [00:05<00:28,  1.31s/it]"
     ]
    },
    {
     "name": "stdout",
     "output_type": "stream",
     "text": [
      "\n",
      "0: 672x1024 2 windows, 1413.6ms\n",
      "Speed: 6.0ms preprocess, 1413.6ms inference, 0.6ms postprocess per image at shape (1, 3, 672, 1024)\n"
     ]
    },
    {
     "name": "stderr",
     "output_type": "stream",
     "text": [
      " 19%|█▉        | 5/26 [00:06<00:28,  1.36s/it]"
     ]
    },
    {
     "name": "stdout",
     "output_type": "stream",
     "text": [
      "\n",
      "0: 672x1024 1 window, 1459.2ms\n",
      "Speed: 6.0ms preprocess, 1459.2ms inference, 0.7ms postprocess per image at shape (1, 3, 672, 1024)\n"
     ]
    },
    {
     "name": "stderr",
     "output_type": "stream",
     "text": [
      " 23%|██▎       | 6/26 [00:08<00:28,  1.41s/it]"
     ]
    },
    {
     "name": "stdout",
     "output_type": "stream",
     "text": [
      "\n",
      "0: 576x1024 3 windows, 1288.2ms\n",
      "Speed: 4.4ms preprocess, 1288.2ms inference, 0.8ms postprocess per image at shape (1, 3, 576, 1024)\n"
     ]
    },
    {
     "name": "stderr",
     "output_type": "stream",
     "text": [
      " 27%|██▋       | 7/26 [00:09<00:26,  1.37s/it]"
     ]
    },
    {
     "name": "stdout",
     "output_type": "stream",
     "text": [
      "\n",
      "0: 672x1024 1 window, 1448.4ms\n",
      "Speed: 6.2ms preprocess, 1448.4ms inference, 0.7ms postprocess per image at shape (1, 3, 672, 1024)\n"
     ]
    },
    {
     "name": "stderr",
     "output_type": "stream",
     "text": [
      " 31%|███       | 8/26 [00:11<00:25,  1.41s/it]"
     ]
    },
    {
     "name": "stdout",
     "output_type": "stream",
     "text": [
      "\n",
      "0: 576x1024 1 window, 1259.3ms\n",
      "Speed: 4.7ms preprocess, 1259.3ms inference, 0.7ms postprocess per image at shape (1, 3, 576, 1024)\n"
     ]
    },
    {
     "name": "stderr",
     "output_type": "stream",
     "text": [
      " 35%|███▍      | 9/26 [00:12<00:23,  1.37s/it]"
     ]
    },
    {
     "name": "stdout",
     "output_type": "stream",
     "text": [
      "\n",
      "0: 576x1024 1 window, 1250.1ms\n",
      "Speed: 4.3ms preprocess, 1250.1ms inference, 0.8ms postprocess per image at shape (1, 3, 576, 1024)\n"
     ]
    },
    {
     "name": "stderr",
     "output_type": "stream",
     "text": [
      " 38%|███▊      | 10/26 [00:13<00:21,  1.34s/it]"
     ]
    },
    {
     "name": "stdout",
     "output_type": "stream",
     "text": [
      "\n",
      "0: 672x1024 1 window, 1430.9ms\n",
      "Speed: 6.6ms preprocess, 1430.9ms inference, 0.7ms postprocess per image at shape (1, 3, 672, 1024)\n"
     ]
    },
    {
     "name": "stderr",
     "output_type": "stream",
     "text": [
      " 42%|████▏     | 11/26 [00:15<00:20,  1.38s/it]"
     ]
    },
    {
     "name": "stdout",
     "output_type": "stream",
     "text": [
      "\n",
      "0: 576x1024 1 window, 1259.5ms\n",
      "Speed: 4.9ms preprocess, 1259.5ms inference, 0.8ms postprocess per image at shape (1, 3, 576, 1024)\n"
     ]
    },
    {
     "name": "stderr",
     "output_type": "stream",
     "text": [
      " 46%|████▌     | 12/26 [00:16<00:18,  1.35s/it]"
     ]
    },
    {
     "name": "stdout",
     "output_type": "stream",
     "text": [
      "\n",
      "0: 576x1024 1 window, 1255.3ms\n",
      "Speed: 4.8ms preprocess, 1255.3ms inference, 0.7ms postprocess per image at shape (1, 3, 576, 1024)\n"
     ]
    },
    {
     "name": "stderr",
     "output_type": "stream",
     "text": [
      " 50%|█████     | 13/26 [00:17<00:17,  1.33s/it]"
     ]
    },
    {
     "name": "stdout",
     "output_type": "stream",
     "text": [
      "\n",
      "0: 672x1024 1 window, 1435.9ms\n",
      "Speed: 5.8ms preprocess, 1435.9ms inference, 0.6ms postprocess per image at shape (1, 3, 672, 1024)\n"
     ]
    },
    {
     "name": "stderr",
     "output_type": "stream",
     "text": [
      " 54%|█████▍    | 14/26 [00:19<00:16,  1.37s/it]"
     ]
    },
    {
     "name": "stdout",
     "output_type": "stream",
     "text": [
      "\n",
      "0: 672x1024 1 window, 1421.1ms\n",
      "Speed: 6.1ms preprocess, 1421.1ms inference, 0.7ms postprocess per image at shape (1, 3, 672, 1024)\n"
     ]
    },
    {
     "name": "stderr",
     "output_type": "stream",
     "text": [
      " 58%|█████▊    | 15/26 [00:20<00:15,  1.40s/it]"
     ]
    },
    {
     "name": "stdout",
     "output_type": "stream",
     "text": [
      "\n",
      "0: 576x1024 2 windows, 1257.8ms\n",
      "Speed: 4.9ms preprocess, 1257.8ms inference, 0.9ms postprocess per image at shape (1, 3, 576, 1024)\n"
     ]
    },
    {
     "name": "stderr",
     "output_type": "stream",
     "text": [
      " 62%|██████▏   | 16/26 [00:21<00:13,  1.36s/it]"
     ]
    },
    {
     "name": "stdout",
     "output_type": "stream",
     "text": [
      "\n",
      "0: 576x1024 2 windows, 1292.6ms\n",
      "Speed: 4.5ms preprocess, 1292.6ms inference, 0.7ms postprocess per image at shape (1, 3, 576, 1024)\n"
     ]
    },
    {
     "name": "stderr",
     "output_type": "stream",
     "text": [
      " 65%|██████▌   | 17/26 [00:23<00:12,  1.35s/it]"
     ]
    },
    {
     "name": "stdout",
     "output_type": "stream",
     "text": [
      "\n",
      "0: 576x1024 1 window, 1288.8ms\n",
      "Speed: 5.2ms preprocess, 1288.8ms inference, 0.7ms postprocess per image at shape (1, 3, 576, 1024)\n"
     ]
    },
    {
     "name": "stderr",
     "output_type": "stream",
     "text": [
      " 69%|██████▉   | 18/26 [00:24<00:10,  1.33s/it]"
     ]
    },
    {
     "name": "stdout",
     "output_type": "stream",
     "text": [
      "\n",
      "0: 672x1024 1 window, 1430.5ms\n",
      "Speed: 6.0ms preprocess, 1430.5ms inference, 0.7ms postprocess per image at shape (1, 3, 672, 1024)\n"
     ]
    },
    {
     "name": "stderr",
     "output_type": "stream",
     "text": [
      " 73%|███████▎  | 19/26 [00:25<00:09,  1.37s/it]"
     ]
    },
    {
     "name": "stdout",
     "output_type": "stream",
     "text": [
      "\n",
      "0: 672x1024 2 windows, 1429.1ms\n",
      "Speed: 5.8ms preprocess, 1429.1ms inference, 0.6ms postprocess per image at shape (1, 3, 672, 1024)\n"
     ]
    },
    {
     "name": "stderr",
     "output_type": "stream",
     "text": [
      " 77%|███████▋  | 20/26 [00:27<00:08,  1.40s/it]"
     ]
    },
    {
     "name": "stdout",
     "output_type": "stream",
     "text": [
      "\n",
      "0: 576x1024 3 windows, 1247.3ms\n",
      "Speed: 3.9ms preprocess, 1247.3ms inference, 0.7ms postprocess per image at shape (1, 3, 576, 1024)\n"
     ]
    },
    {
     "name": "stderr",
     "output_type": "stream",
     "text": [
      " 81%|████████  | 21/26 [00:28<00:06,  1.36s/it]"
     ]
    },
    {
     "name": "stdout",
     "output_type": "stream",
     "text": [
      "\n",
      "0: 672x1024 1 window, 1436.4ms\n",
      "Speed: 6.4ms preprocess, 1436.4ms inference, 0.6ms postprocess per image at shape (1, 3, 672, 1024)\n"
     ]
    },
    {
     "name": "stderr",
     "output_type": "stream",
     "text": [
      " 85%|████████▍ | 22/26 [00:30<00:05,  1.39s/it]"
     ]
    },
    {
     "name": "stdout",
     "output_type": "stream",
     "text": [
      "\n",
      "0: 576x1024 1 window, 1258.2ms\n",
      "Speed: 5.1ms preprocess, 1258.2ms inference, 0.8ms postprocess per image at shape (1, 3, 576, 1024)\n"
     ]
    },
    {
     "name": "stderr",
     "output_type": "stream",
     "text": [
      " 88%|████████▊ | 23/26 [00:31<00:04,  1.36s/it]"
     ]
    },
    {
     "name": "stdout",
     "output_type": "stream",
     "text": [
      "\n",
      "0: 672x1024 1 window, 1454.0ms\n",
      "Speed: 5.9ms preprocess, 1454.0ms inference, 0.5ms postprocess per image at shape (1, 3, 672, 1024)\n"
     ]
    },
    {
     "name": "stderr",
     "output_type": "stream",
     "text": [
      " 92%|█████████▏| 24/26 [00:32<00:02,  1.40s/it]"
     ]
    },
    {
     "name": "stdout",
     "output_type": "stream",
     "text": [
      "\n",
      "0: 672x1024 1 window, 1436.5ms\n",
      "Speed: 5.7ms preprocess, 1436.5ms inference, 0.8ms postprocess per image at shape (1, 3, 672, 1024)\n"
     ]
    },
    {
     "name": "stderr",
     "output_type": "stream",
     "text": [
      " 96%|█████████▌| 25/26 [00:34<00:01,  1.42s/it]"
     ]
    },
    {
     "name": "stdout",
     "output_type": "stream",
     "text": [
      "\n",
      "0: 672x1024 1 window, 1428.2ms\n",
      "Speed: 6.5ms preprocess, 1428.2ms inference, 1.2ms postprocess per image at shape (1, 3, 672, 1024)\n"
     ]
    },
    {
     "name": "stderr",
     "output_type": "stream",
     "text": [
      "100%|██████████| 26/26 [00:35<00:00,  1.38s/it]\n"
     ]
    }
   ],
   "source": [
    "prediction_annotation_test = []\n",
    "for i in tqdm(range(len(annotations_bbox_test))):\n",
    "    predictions = []\n",
    "    filename = annotations_bbox_test.iloc[i].filename\n",
    "    image_path = f\"WhatsappWindowDataset/WhatsappWindowDataset-Test/{filename}\"\n",
    "    im = plt.imread(image_path)\n",
    "    try:\n",
    "        b = model.predict(im)[0].boxes\n",
    "        predictions.append(filename)\n",
    "        predictions.append('window')\n",
    "        predictions.extend(list(map(int, b.xyxy[0].tolist())))\n",
    "    except: pass\n",
    "    prediction_annotation_test.append(predictions)"
   ]
  },
  {
   "cell_type": "code",
   "execution_count": 12,
   "metadata": {},
   "outputs": [
    {
     "data": {
      "text/html": [
       "<div>\n",
       "<style scoped>\n",
       "    .dataframe tbody tr th:only-of-type {\n",
       "        vertical-align: middle;\n",
       "    }\n",
       "\n",
       "    .dataframe tbody tr th {\n",
       "        vertical-align: top;\n",
       "    }\n",
       "\n",
       "    .dataframe thead th {\n",
       "        text-align: right;\n",
       "    }\n",
       "</style>\n",
       "<table border=\"1\" class=\"dataframe\">\n",
       "  <thead>\n",
       "    <tr style=\"text-align: right;\">\n",
       "      <th></th>\n",
       "      <th>filename</th>\n",
       "      <th>class</th>\n",
       "      <th>xmin</th>\n",
       "      <th>ymin</th>\n",
       "      <th>xmax</th>\n",
       "      <th>ymax</th>\n",
       "    </tr>\n",
       "  </thead>\n",
       "  <tbody>\n",
       "    <tr>\n",
       "      <th>0</th>\n",
       "      <td>WhatsApp-Image-2024-06-14-at-20-21-04_jpeg.rf....</td>\n",
       "      <td>window</td>\n",
       "      <td>212</td>\n",
       "      <td>68</td>\n",
       "      <td>1123</td>\n",
       "      <td>602</td>\n",
       "    </tr>\n",
       "    <tr>\n",
       "      <th>1</th>\n",
       "      <td>Screenshot-2024-06-15-at-5-42-31-PM_png.rf.abc...</td>\n",
       "      <td>window</td>\n",
       "      <td>134</td>\n",
       "      <td>48</td>\n",
       "      <td>1961</td>\n",
       "      <td>1276</td>\n",
       "    </tr>\n",
       "    <tr>\n",
       "      <th>2</th>\n",
       "      <td>WhatsApp-Image-2024-06-14-at-20-41-55_jpeg.rf....</td>\n",
       "      <td>window</td>\n",
       "      <td>0</td>\n",
       "      <td>3</td>\n",
       "      <td>1110</td>\n",
       "      <td>681</td>\n",
       "    </tr>\n",
       "    <tr>\n",
       "      <th>3</th>\n",
       "      <td>8_png.rf.1c83f06a7ab340228660dca86eda5eb4.jpg</td>\n",
       "      <td>window</td>\n",
       "      <td>538</td>\n",
       "      <td>0</td>\n",
       "      <td>1346</td>\n",
       "      <td>648</td>\n",
       "    </tr>\n",
       "    <tr>\n",
       "      <th>4</th>\n",
       "      <td>Screenshot-2024-06-15-at-5-42-25-PM_png.rf.3b7...</td>\n",
       "      <td>window</td>\n",
       "      <td>223</td>\n",
       "      <td>45</td>\n",
       "      <td>2009</td>\n",
       "      <td>1255</td>\n",
       "    </tr>\n",
       "    <tr>\n",
       "      <th>5</th>\n",
       "      <td>Screenshot-2024-06-14-at-9-47-33-PM-10-01-54-P...</td>\n",
       "      <td>window</td>\n",
       "      <td>91</td>\n",
       "      <td>206</td>\n",
       "      <td>1280</td>\n",
       "      <td>1263</td>\n",
       "    </tr>\n",
       "    <tr>\n",
       "      <th>6</th>\n",
       "      <td>WhatsApp-Image-2024-06-14-at-21-12-47_jpeg.rf....</td>\n",
       "      <td>window</td>\n",
       "      <td>0</td>\n",
       "      <td>175</td>\n",
       "      <td>634</td>\n",
       "      <td>679</td>\n",
       "    </tr>\n",
       "    <tr>\n",
       "      <th>7</th>\n",
       "      <td>Screenshot-2024-06-14-at-9-45-59-PM_png.rf.0c4...</td>\n",
       "      <td>window</td>\n",
       "      <td>187</td>\n",
       "      <td>123</td>\n",
       "      <td>1261</td>\n",
       "      <td>1117</td>\n",
       "    </tr>\n",
       "    <tr>\n",
       "      <th>8</th>\n",
       "      <td>5_png.rf.31ae2142e9038f3a9d6b5a98a669a918.jpg</td>\n",
       "      <td>window</td>\n",
       "      <td>535</td>\n",
       "      <td>16</td>\n",
       "      <td>1366</td>\n",
       "      <td>661</td>\n",
       "    </tr>\n",
       "    <tr>\n",
       "      <th>9</th>\n",
       "      <td>WhatsApp-Image-2024-06-14-at-21-12-06_jpeg.rf....</td>\n",
       "      <td>window</td>\n",
       "      <td>633</td>\n",
       "      <td>6</td>\n",
       "      <td>1280</td>\n",
       "      <td>710</td>\n",
       "    </tr>\n",
       "    <tr>\n",
       "      <th>10</th>\n",
       "      <td>Screenshot-2024-06-15-at-5-42-09-PM_png.rf.545...</td>\n",
       "      <td>window</td>\n",
       "      <td>258</td>\n",
       "      <td>63</td>\n",
       "      <td>1322</td>\n",
       "      <td>1210</td>\n",
       "    </tr>\n",
       "    <tr>\n",
       "      <th>11</th>\n",
       "      <td>WhatsApp-Image-2024-06-14-at-21-06-45_jpeg.rf....</td>\n",
       "      <td>window</td>\n",
       "      <td>34</td>\n",
       "      <td>126</td>\n",
       "      <td>719</td>\n",
       "      <td>596</td>\n",
       "    </tr>\n",
       "    <tr>\n",
       "      <th>12</th>\n",
       "      <td>WhatsApp-Image-2024-06-14-at-20-20-32_jpeg.rf....</td>\n",
       "      <td>window</td>\n",
       "      <td>214</td>\n",
       "      <td>71</td>\n",
       "      <td>618</td>\n",
       "      <td>598</td>\n",
       "    </tr>\n",
       "    <tr>\n",
       "      <th>13</th>\n",
       "      <td>Screenshot-2024-06-14-at-6-31-54-PM_png.rf.2cc...</td>\n",
       "      <td>window</td>\n",
       "      <td>313</td>\n",
       "      <td>193</td>\n",
       "      <td>1049</td>\n",
       "      <td>1131</td>\n",
       "    </tr>\n",
       "    <tr>\n",
       "      <th>14</th>\n",
       "      <td>Screenshot-2024-06-15-at-5-41-16-PM_png.rf.ad4...</td>\n",
       "      <td>window</td>\n",
       "      <td>97</td>\n",
       "      <td>127</td>\n",
       "      <td>1288</td>\n",
       "      <td>1193</td>\n",
       "    </tr>\n",
       "    <tr>\n",
       "      <th>15</th>\n",
       "      <td>WhatsApp-Image-2024-06-14-at-20-25-23_jpeg.rf....</td>\n",
       "      <td>window</td>\n",
       "      <td>206</td>\n",
       "      <td>71</td>\n",
       "      <td>1192</td>\n",
       "      <td>669</td>\n",
       "    </tr>\n",
       "    <tr>\n",
       "      <th>16</th>\n",
       "      <td>WhatsApp-Image-2024-06-14-at-20-31-01_jpeg.rf....</td>\n",
       "      <td>window</td>\n",
       "      <td>211</td>\n",
       "      <td>71</td>\n",
       "      <td>758</td>\n",
       "      <td>656</td>\n",
       "    </tr>\n",
       "    <tr>\n",
       "      <th>17</th>\n",
       "      <td>WhatsApp-Image-2024-06-14-at-20-22-01_jpeg.rf....</td>\n",
       "      <td>window</td>\n",
       "      <td>197</td>\n",
       "      <td>70</td>\n",
       "      <td>1105</td>\n",
       "      <td>600</td>\n",
       "    </tr>\n",
       "    <tr>\n",
       "      <th>18</th>\n",
       "      <td>Screenshot-2024-06-14-at-9-47-27-PM_png.rf.751...</td>\n",
       "      <td>window</td>\n",
       "      <td>301</td>\n",
       "      <td>125</td>\n",
       "      <td>1440</td>\n",
       "      <td>1196</td>\n",
       "    </tr>\n",
       "    <tr>\n",
       "      <th>19</th>\n",
       "      <td>Screenshot-2024-06-14-at-6-32-33-PM_png.rf.022...</td>\n",
       "      <td>window</td>\n",
       "      <td>288</td>\n",
       "      <td>167</td>\n",
       "      <td>1110</td>\n",
       "      <td>1254</td>\n",
       "    </tr>\n",
       "    <tr>\n",
       "      <th>20</th>\n",
       "      <td>WhatsApp-Image-2024-06-14-at-21-15-12_jpeg.rf....</td>\n",
       "      <td>window</td>\n",
       "      <td>330</td>\n",
       "      <td>0</td>\n",
       "      <td>1280</td>\n",
       "      <td>696</td>\n",
       "    </tr>\n",
       "    <tr>\n",
       "      <th>21</th>\n",
       "      <td>Screenshot-2024-06-14-at-9-47-45-PM-10-01-54-P...</td>\n",
       "      <td>window</td>\n",
       "      <td>262</td>\n",
       "      <td>153</td>\n",
       "      <td>1910</td>\n",
       "      <td>1234</td>\n",
       "    </tr>\n",
       "    <tr>\n",
       "      <th>22</th>\n",
       "      <td>10_png.rf.cf2143b6d14afd93e8a04b223f9a42e9.jpg</td>\n",
       "      <td>window</td>\n",
       "      <td>31</td>\n",
       "      <td>170</td>\n",
       "      <td>866</td>\n",
       "      <td>682</td>\n",
       "    </tr>\n",
       "    <tr>\n",
       "      <th>23</th>\n",
       "      <td>ss-10-22-12-PM_jpg.rf.e528e1180fcca4f185d62a29...</td>\n",
       "      <td>window</td>\n",
       "      <td>328</td>\n",
       "      <td>325</td>\n",
       "      <td>1564</td>\n",
       "      <td>1266</td>\n",
       "    </tr>\n",
       "    <tr>\n",
       "      <th>24</th>\n",
       "      <td>Screenshot-2024-06-14-at-9-46-04-PM-10-01-54-P...</td>\n",
       "      <td>window</td>\n",
       "      <td>190</td>\n",
       "      <td>121</td>\n",
       "      <td>1446</td>\n",
       "      <td>1182</td>\n",
       "    </tr>\n",
       "    <tr>\n",
       "      <th>25</th>\n",
       "      <td>Screenshot-2024-06-14-at-9-46-56-PM_png.rf.ce2...</td>\n",
       "      <td>window</td>\n",
       "      <td>802</td>\n",
       "      <td>62</td>\n",
       "      <td>1737</td>\n",
       "      <td>1099</td>\n",
       "    </tr>\n",
       "  </tbody>\n",
       "</table>\n",
       "</div>"
      ],
      "text/plain": [
       "                                             filename   class  xmin  ymin  \\\n",
       "0   WhatsApp-Image-2024-06-14-at-20-21-04_jpeg.rf....  window   212    68   \n",
       "1   Screenshot-2024-06-15-at-5-42-31-PM_png.rf.abc...  window   134    48   \n",
       "2   WhatsApp-Image-2024-06-14-at-20-41-55_jpeg.rf....  window     0     3   \n",
       "3       8_png.rf.1c83f06a7ab340228660dca86eda5eb4.jpg  window   538     0   \n",
       "4   Screenshot-2024-06-15-at-5-42-25-PM_png.rf.3b7...  window   223    45   \n",
       "5   Screenshot-2024-06-14-at-9-47-33-PM-10-01-54-P...  window    91   206   \n",
       "6   WhatsApp-Image-2024-06-14-at-21-12-47_jpeg.rf....  window     0   175   \n",
       "7   Screenshot-2024-06-14-at-9-45-59-PM_png.rf.0c4...  window   187   123   \n",
       "8       5_png.rf.31ae2142e9038f3a9d6b5a98a669a918.jpg  window   535    16   \n",
       "9   WhatsApp-Image-2024-06-14-at-21-12-06_jpeg.rf....  window   633     6   \n",
       "10  Screenshot-2024-06-15-at-5-42-09-PM_png.rf.545...  window   258    63   \n",
       "11  WhatsApp-Image-2024-06-14-at-21-06-45_jpeg.rf....  window    34   126   \n",
       "12  WhatsApp-Image-2024-06-14-at-20-20-32_jpeg.rf....  window   214    71   \n",
       "13  Screenshot-2024-06-14-at-6-31-54-PM_png.rf.2cc...  window   313   193   \n",
       "14  Screenshot-2024-06-15-at-5-41-16-PM_png.rf.ad4...  window    97   127   \n",
       "15  WhatsApp-Image-2024-06-14-at-20-25-23_jpeg.rf....  window   206    71   \n",
       "16  WhatsApp-Image-2024-06-14-at-20-31-01_jpeg.rf....  window   211    71   \n",
       "17  WhatsApp-Image-2024-06-14-at-20-22-01_jpeg.rf....  window   197    70   \n",
       "18  Screenshot-2024-06-14-at-9-47-27-PM_png.rf.751...  window   301   125   \n",
       "19  Screenshot-2024-06-14-at-6-32-33-PM_png.rf.022...  window   288   167   \n",
       "20  WhatsApp-Image-2024-06-14-at-21-15-12_jpeg.rf....  window   330     0   \n",
       "21  Screenshot-2024-06-14-at-9-47-45-PM-10-01-54-P...  window   262   153   \n",
       "22     10_png.rf.cf2143b6d14afd93e8a04b223f9a42e9.jpg  window    31   170   \n",
       "23  ss-10-22-12-PM_jpg.rf.e528e1180fcca4f185d62a29...  window   328   325   \n",
       "24  Screenshot-2024-06-14-at-9-46-04-PM-10-01-54-P...  window   190   121   \n",
       "25  Screenshot-2024-06-14-at-9-46-56-PM_png.rf.ce2...  window   802    62   \n",
       "\n",
       "    xmax  ymax  \n",
       "0   1123   602  \n",
       "1   1961  1276  \n",
       "2   1110   681  \n",
       "3   1346   648  \n",
       "4   2009  1255  \n",
       "5   1280  1263  \n",
       "6    634   679  \n",
       "7   1261  1117  \n",
       "8   1366   661  \n",
       "9   1280   710  \n",
       "10  1322  1210  \n",
       "11   719   596  \n",
       "12   618   598  \n",
       "13  1049  1131  \n",
       "14  1288  1193  \n",
       "15  1192   669  \n",
       "16   758   656  \n",
       "17  1105   600  \n",
       "18  1440  1196  \n",
       "19  1110  1254  \n",
       "20  1280   696  \n",
       "21  1910  1234  \n",
       "22   866   682  \n",
       "23  1564  1266  \n",
       "24  1446  1182  \n",
       "25  1737  1099  "
      ]
     },
     "execution_count": 12,
     "metadata": {},
     "output_type": "execute_result"
    }
   ],
   "source": [
    "df = pd.DataFrame(prediction_annotation_test).rename(columns={0:\"filename\", 1:\"class\", 2:\"xmin\", 3:\"ymin\", 4:\"xmax\", 5:\"ymax\"})\n",
    "df"
   ]
  },
  {
   "cell_type": "code",
   "execution_count": 13,
   "metadata": {},
   "outputs": [],
   "source": [
    "df.to_csv(\"IOUcalc/WindowModel/YOLOv9/NO PADDING/Test/Prediction.csv\")\n",
    "annotations_bbox_test.to_csv(\"IOUcalc/WindowModel/YOLOv9/NO PADDING/Test/GroundTruth.csv\")"
   ]
  },
  {
   "cell_type": "code",
   "execution_count": null,
   "metadata": {},
   "outputs": [],
   "source": []
  },
  {
   "cell_type": "code",
   "execution_count": 14,
   "metadata": {},
   "outputs": [
    {
     "data": {
      "text/html": [
       "<div>\n",
       "<style scoped>\n",
       "    .dataframe tbody tr th:only-of-type {\n",
       "        vertical-align: middle;\n",
       "    }\n",
       "\n",
       "    .dataframe tbody tr th {\n",
       "        vertical-align: top;\n",
       "    }\n",
       "\n",
       "    .dataframe thead th {\n",
       "        text-align: right;\n",
       "    }\n",
       "</style>\n",
       "<table border=\"1\" class=\"dataframe\">\n",
       "  <thead>\n",
       "    <tr style=\"text-align: right;\">\n",
       "      <th></th>\n",
       "      <th>filename</th>\n",
       "      <th>class</th>\n",
       "      <th>xmin</th>\n",
       "      <th>ymin</th>\n",
       "      <th>xmax</th>\n",
       "      <th>ymax</th>\n",
       "    </tr>\n",
       "  </thead>\n",
       "  <tbody>\n",
       "    <tr>\n",
       "      <th>0</th>\n",
       "      <td>WhatsApp-Image-2024-06-14-at-20-35-19_jpeg.rf....</td>\n",
       "      <td>window</td>\n",
       "      <td>0</td>\n",
       "      <td>208</td>\n",
       "      <td>871</td>\n",
       "      <td>677</td>\n",
       "    </tr>\n",
       "    <tr>\n",
       "      <th>1</th>\n",
       "      <td>WhatsApp-Image-2024-06-14-at-20-35-19_jpeg.rf....</td>\n",
       "      <td>window</td>\n",
       "      <td>0</td>\n",
       "      <td>208</td>\n",
       "      <td>871</td>\n",
       "      <td>677</td>\n",
       "    </tr>\n",
       "    <tr>\n",
       "      <th>2</th>\n",
       "      <td>WhatsApp-Image-2024-06-14-at-20-25-53_jpeg.rf....</td>\n",
       "      <td>window</td>\n",
       "      <td>206</td>\n",
       "      <td>74</td>\n",
       "      <td>1112</td>\n",
       "      <td>638</td>\n",
       "    </tr>\n",
       "    <tr>\n",
       "      <th>3</th>\n",
       "      <td>WhatsApp-Image-2024-06-14-at-20-25-53_jpeg.rf....</td>\n",
       "      <td>window</td>\n",
       "      <td>202</td>\n",
       "      <td>76</td>\n",
       "      <td>1114</td>\n",
       "      <td>656</td>\n",
       "    </tr>\n",
       "    <tr>\n",
       "      <th>4</th>\n",
       "      <td>Screenshot-2024-06-15-at-5-41-59-PM_png.rf.072...</td>\n",
       "      <td>window</td>\n",
       "      <td>761</td>\n",
       "      <td>64</td>\n",
       "      <td>1958</td>\n",
       "      <td>935</td>\n",
       "    </tr>\n",
       "    <tr>\n",
       "      <th>...</th>\n",
       "      <td>...</td>\n",
       "      <td>...</td>\n",
       "      <td>...</td>\n",
       "      <td>...</td>\n",
       "      <td>...</td>\n",
       "      <td>...</td>\n",
       "    </tr>\n",
       "    <tr>\n",
       "      <th>180</th>\n",
       "      <td>17_png.rf.f565de9a2a62653529aa75c32bb5c661.jpg</td>\n",
       "      <td>window</td>\n",
       "      <td>388</td>\n",
       "      <td>86</td>\n",
       "      <td>1192</td>\n",
       "      <td>590</td>\n",
       "    </tr>\n",
       "    <tr>\n",
       "      <th>181</th>\n",
       "      <td>Screenshot-2024-06-14-at-9-47-50-PM-10-01-54-P...</td>\n",
       "      <td>window</td>\n",
       "      <td>207</td>\n",
       "      <td>97</td>\n",
       "      <td>1988</td>\n",
       "      <td>1222</td>\n",
       "    </tr>\n",
       "    <tr>\n",
       "      <th>182</th>\n",
       "      <td>7_png.rf.fa8a748f1092f7a9d089a3167de91d06.jpg</td>\n",
       "      <td>window</td>\n",
       "      <td>6</td>\n",
       "      <td>2</td>\n",
       "      <td>808</td>\n",
       "      <td>634</td>\n",
       "    </tr>\n",
       "    <tr>\n",
       "      <th>183</th>\n",
       "      <td>WhatsApp-Image-2024-06-14-at-20-35-07_jpeg.rf....</td>\n",
       "      <td>window</td>\n",
       "      <td>432</td>\n",
       "      <td>0</td>\n",
       "      <td>1280</td>\n",
       "      <td>472</td>\n",
       "    </tr>\n",
       "    <tr>\n",
       "      <th>184</th>\n",
       "      <td>WhatsApp-Image-2024-06-14-at-21-16-28_jpeg.rf....</td>\n",
       "      <td>window</td>\n",
       "      <td>1</td>\n",
       "      <td>0</td>\n",
       "      <td>1280</td>\n",
       "      <td>682</td>\n",
       "    </tr>\n",
       "  </tbody>\n",
       "</table>\n",
       "<p>185 rows × 6 columns</p>\n",
       "</div>"
      ],
      "text/plain": [
       "                                              filename   class  xmin  ymin  \\\n",
       "0    WhatsApp-Image-2024-06-14-at-20-35-19_jpeg.rf....  window     0   208   \n",
       "1    WhatsApp-Image-2024-06-14-at-20-35-19_jpeg.rf....  window     0   208   \n",
       "2    WhatsApp-Image-2024-06-14-at-20-25-53_jpeg.rf....  window   206    74   \n",
       "3    WhatsApp-Image-2024-06-14-at-20-25-53_jpeg.rf....  window   202    76   \n",
       "4    Screenshot-2024-06-15-at-5-41-59-PM_png.rf.072...  window   761    64   \n",
       "..                                                 ...     ...   ...   ...   \n",
       "180     17_png.rf.f565de9a2a62653529aa75c32bb5c661.jpg  window   388    86   \n",
       "181  Screenshot-2024-06-14-at-9-47-50-PM-10-01-54-P...  window   207    97   \n",
       "182      7_png.rf.fa8a748f1092f7a9d089a3167de91d06.jpg  window     6     2   \n",
       "183  WhatsApp-Image-2024-06-14-at-20-35-07_jpeg.rf....  window   432     0   \n",
       "184  WhatsApp-Image-2024-06-14-at-21-16-28_jpeg.rf....  window     1     0   \n",
       "\n",
       "     xmax  ymax  \n",
       "0     871   677  \n",
       "1     871   677  \n",
       "2    1112   638  \n",
       "3    1114   656  \n",
       "4    1958   935  \n",
       "..    ...   ...  \n",
       "180  1192   590  \n",
       "181  1988  1222  \n",
       "182   808   634  \n",
       "183  1280   472  \n",
       "184  1280   682  \n",
       "\n",
       "[185 rows x 6 columns]"
      ]
     },
     "execution_count": 14,
     "metadata": {},
     "output_type": "execute_result"
    }
   ],
   "source": [
    "annotations_bbox_train = pd.read_csv(\"WhatsappWindowDataset/WhatsappWindowDataset-Train/_annotations.csv\")\n",
    "annotations_bbox_train = annotations_bbox_train.drop(columns=['width','height'], axis=0)\n",
    "annotations_bbox_train"
   ]
  },
  {
   "cell_type": "code",
   "execution_count": 15,
   "metadata": {},
   "outputs": [
    {
     "name": "stderr",
     "output_type": "stream",
     "text": [
      "  0%|          | 0/185 [00:00<?, ?it/s]"
     ]
    },
    {
     "name": "stdout",
     "output_type": "stream",
     "text": [
      "\n",
      "0: 576x1024 1 window, 1268.2ms\n",
      "Speed: 4.8ms preprocess, 1268.2ms inference, 1.0ms postprocess per image at shape (1, 3, 576, 1024)\n"
     ]
    },
    {
     "name": "stderr",
     "output_type": "stream",
     "text": [
      "  1%|          | 1/185 [00:01<04:04,  1.33s/it]"
     ]
    },
    {
     "name": "stdout",
     "output_type": "stream",
     "text": [
      "\n",
      "0: 576x1024 1 window, 1254.7ms\n",
      "Speed: 5.1ms preprocess, 1254.7ms inference, 0.5ms postprocess per image at shape (1, 3, 576, 1024)\n"
     ]
    },
    {
     "name": "stderr",
     "output_type": "stream",
     "text": [
      "  1%|          | 2/185 [00:02<03:56,  1.29s/it]"
     ]
    },
    {
     "name": "stdout",
     "output_type": "stream",
     "text": [
      "\n",
      "0: 576x1024 1 window, 1248.4ms\n",
      "Speed: 4.3ms preprocess, 1248.4ms inference, 0.6ms postprocess per image at shape (1, 3, 576, 1024)\n"
     ]
    },
    {
     "name": "stderr",
     "output_type": "stream",
     "text": [
      "  2%|▏         | 3/185 [00:03<03:53,  1.28s/it]"
     ]
    },
    {
     "name": "stdout",
     "output_type": "stream",
     "text": [
      "\n",
      "0: 576x1024 1 window, 1248.1ms\n",
      "Speed: 4.8ms preprocess, 1248.1ms inference, 0.6ms postprocess per image at shape (1, 3, 576, 1024)\n"
     ]
    },
    {
     "name": "stderr",
     "output_type": "stream",
     "text": [
      "  2%|▏         | 4/185 [00:05<03:50,  1.28s/it]"
     ]
    },
    {
     "name": "stdout",
     "output_type": "stream",
     "text": [
      "\n",
      "0: 672x1024 1 window, 1435.6ms\n",
      "Speed: 5.7ms preprocess, 1435.6ms inference, 0.7ms postprocess per image at shape (1, 3, 672, 1024)\n"
     ]
    },
    {
     "name": "stderr",
     "output_type": "stream",
     "text": [
      "  3%|▎         | 5/185 [00:06<04:02,  1.35s/it]"
     ]
    },
    {
     "name": "stdout",
     "output_type": "stream",
     "text": [
      "\n",
      "0: 576x1024 1 window, 1250.8ms\n",
      "Speed: 5.2ms preprocess, 1250.8ms inference, 0.7ms postprocess per image at shape (1, 3, 576, 1024)\n"
     ]
    },
    {
     "name": "stderr",
     "output_type": "stream",
     "text": [
      "  3%|▎         | 6/185 [00:07<03:56,  1.32s/it]"
     ]
    },
    {
     "name": "stdout",
     "output_type": "stream",
     "text": [
      "\n",
      "0: 576x1024 2 windows, 1257.0ms\n",
      "Speed: 5.3ms preprocess, 1257.0ms inference, 0.4ms postprocess per image at shape (1, 3, 576, 1024)\n"
     ]
    },
    {
     "name": "stderr",
     "output_type": "stream",
     "text": [
      "  4%|▍         | 7/185 [00:09<03:52,  1.31s/it]"
     ]
    },
    {
     "name": "stdout",
     "output_type": "stream",
     "text": [
      "\n",
      "0: 576x1024 1 window, 1252.9ms\n",
      "Speed: 4.6ms preprocess, 1252.9ms inference, 0.8ms postprocess per image at shape (1, 3, 576, 1024)\n"
     ]
    },
    {
     "name": "stderr",
     "output_type": "stream",
     "text": [
      "  4%|▍         | 8/185 [00:10<03:49,  1.29s/it]"
     ]
    },
    {
     "name": "stdout",
     "output_type": "stream",
     "text": [
      "\n",
      "0: 672x1024 1 window, 1429.5ms\n",
      "Speed: 6.8ms preprocess, 1429.5ms inference, 0.8ms postprocess per image at shape (1, 3, 672, 1024)\n"
     ]
    },
    {
     "name": "stderr",
     "output_type": "stream",
     "text": [
      "  5%|▍         | 9/185 [00:11<03:57,  1.35s/it]"
     ]
    },
    {
     "name": "stdout",
     "output_type": "stream",
     "text": [
      "\n",
      "0: 576x1024 2 windows, 1259.9ms\n",
      "Speed: 4.5ms preprocess, 1259.9ms inference, 0.5ms postprocess per image at shape (1, 3, 576, 1024)\n"
     ]
    },
    {
     "name": "stderr",
     "output_type": "stream",
     "text": [
      "  5%|▌         | 10/185 [00:13<03:52,  1.33s/it]"
     ]
    },
    {
     "name": "stdout",
     "output_type": "stream",
     "text": [
      "\n",
      "0: 672x1024 1 window, 1418.3ms\n",
      "Speed: 5.8ms preprocess, 1418.3ms inference, 0.6ms postprocess per image at shape (1, 3, 672, 1024)\n"
     ]
    },
    {
     "name": "stderr",
     "output_type": "stream",
     "text": [
      "  6%|▌         | 11/185 [00:14<03:59,  1.38s/it]"
     ]
    },
    {
     "name": "stdout",
     "output_type": "stream",
     "text": [
      "\n",
      "0: 576x1024 2 windows, 1257.9ms\n",
      "Speed: 4.6ms preprocess, 1257.9ms inference, 0.9ms postprocess per image at shape (1, 3, 576, 1024)\n"
     ]
    },
    {
     "name": "stderr",
     "output_type": "stream",
     "text": [
      "  6%|▋         | 12/185 [00:15<03:52,  1.35s/it]"
     ]
    },
    {
     "name": "stdout",
     "output_type": "stream",
     "text": [
      "\n",
      "0: 672x1024 1 window, 1425.3ms\n",
      "Speed: 6.6ms preprocess, 1425.3ms inference, 0.8ms postprocess per image at shape (1, 3, 672, 1024)\n"
     ]
    },
    {
     "name": "stderr",
     "output_type": "stream",
     "text": [
      "  7%|▋         | 13/185 [00:17<03:57,  1.38s/it]"
     ]
    },
    {
     "name": "stdout",
     "output_type": "stream",
     "text": [
      "\n",
      "0: 672x1024 1 window, 1437.9ms\n",
      "Speed: 5.7ms preprocess, 1437.9ms inference, 1.0ms postprocess per image at shape (1, 3, 672, 1024)\n"
     ]
    },
    {
     "name": "stderr",
     "output_type": "stream",
     "text": [
      "  8%|▊         | 14/185 [00:18<04:01,  1.41s/it]"
     ]
    },
    {
     "name": "stdout",
     "output_type": "stream",
     "text": [
      "\n",
      "0: 672x1024 1 window, 1432.7ms\n",
      "Speed: 5.6ms preprocess, 1432.7ms inference, 0.8ms postprocess per image at shape (1, 3, 672, 1024)\n"
     ]
    },
    {
     "name": "stderr",
     "output_type": "stream",
     "text": [
      "  8%|▊         | 15/185 [00:20<04:02,  1.43s/it]"
     ]
    },
    {
     "name": "stdout",
     "output_type": "stream",
     "text": [
      "\n",
      "0: 672x1024 1 window, 1431.2ms\n",
      "Speed: 6.5ms preprocess, 1431.2ms inference, 0.9ms postprocess per image at shape (1, 3, 672, 1024)\n"
     ]
    },
    {
     "name": "stderr",
     "output_type": "stream",
     "text": [
      "  9%|▊         | 16/185 [00:21<04:03,  1.44s/it]"
     ]
    },
    {
     "name": "stdout",
     "output_type": "stream",
     "text": [
      "\n",
      "0: 576x1024 1 window, 1266.6ms\n",
      "Speed: 5.2ms preprocess, 1266.6ms inference, 0.5ms postprocess per image at shape (1, 3, 576, 1024)\n"
     ]
    },
    {
     "name": "stderr",
     "output_type": "stream",
     "text": [
      "  9%|▉         | 17/185 [00:23<03:54,  1.39s/it]"
     ]
    },
    {
     "name": "stdout",
     "output_type": "stream",
     "text": [
      "\n",
      "0: 576x1024 1 window, 1265.7ms\n",
      "Speed: 4.9ms preprocess, 1265.7ms inference, 0.7ms postprocess per image at shape (1, 3, 576, 1024)\n"
     ]
    },
    {
     "name": "stderr",
     "output_type": "stream",
     "text": [
      " 10%|▉         | 18/185 [00:24<03:47,  1.36s/it]"
     ]
    },
    {
     "name": "stdout",
     "output_type": "stream",
     "text": [
      "\n",
      "0: 672x1024 1 window, 1438.5ms\n",
      "Speed: 5.9ms preprocess, 1438.5ms inference, 0.7ms postprocess per image at shape (1, 3, 672, 1024)\n"
     ]
    },
    {
     "name": "stderr",
     "output_type": "stream",
     "text": [
      " 10%|█         | 19/185 [00:25<03:51,  1.39s/it]"
     ]
    },
    {
     "name": "stdout",
     "output_type": "stream",
     "text": [
      "\n",
      "0: 672x1024 1 window, 1442.6ms\n",
      "Speed: 5.6ms preprocess, 1442.6ms inference, 0.8ms postprocess per image at shape (1, 3, 672, 1024)\n"
     ]
    },
    {
     "name": "stderr",
     "output_type": "stream",
     "text": [
      " 11%|█         | 20/185 [00:27<03:54,  1.42s/it]"
     ]
    },
    {
     "name": "stdout",
     "output_type": "stream",
     "text": [
      "\n",
      "0: 576x1024 2 windows, 1276.0ms\n",
      "Speed: 20.3ms preprocess, 1276.0ms inference, 1.3ms postprocess per image at shape (1, 3, 576, 1024)\n"
     ]
    },
    {
     "name": "stderr",
     "output_type": "stream",
     "text": [
      " 11%|█▏        | 21/185 [00:28<03:47,  1.39s/it]"
     ]
    },
    {
     "name": "stdout",
     "output_type": "stream",
     "text": [
      "\n",
      "0: 672x1024 2 windows, 1433.8ms\n",
      "Speed: 5.8ms preprocess, 1433.8ms inference, 0.4ms postprocess per image at shape (1, 3, 672, 1024)\n"
     ]
    },
    {
     "name": "stderr",
     "output_type": "stream",
     "text": [
      " 12%|█▏        | 22/185 [00:30<03:50,  1.41s/it]"
     ]
    },
    {
     "name": "stdout",
     "output_type": "stream",
     "text": [
      "\n",
      "0: 672x1024 1 window, 1437.2ms\n",
      "Speed: 6.0ms preprocess, 1437.2ms inference, 0.7ms postprocess per image at shape (1, 3, 672, 1024)\n"
     ]
    },
    {
     "name": "stderr",
     "output_type": "stream",
     "text": [
      " 12%|█▏        | 23/185 [00:31<03:51,  1.43s/it]"
     ]
    },
    {
     "name": "stdout",
     "output_type": "stream",
     "text": [
      "\n",
      "0: 672x1024 2 windows, 1431.5ms\n",
      "Speed: 5.8ms preprocess, 1431.5ms inference, 0.9ms postprocess per image at shape (1, 3, 672, 1024)\n"
     ]
    },
    {
     "name": "stderr",
     "output_type": "stream",
     "text": [
      " 13%|█▎        | 24/185 [00:33<03:51,  1.44s/it]"
     ]
    },
    {
     "name": "stdout",
     "output_type": "stream",
     "text": [
      "\n",
      "0: 672x1024 1 window, 1419.8ms\n",
      "Speed: 5.7ms preprocess, 1419.8ms inference, 0.8ms postprocess per image at shape (1, 3, 672, 1024)\n"
     ]
    },
    {
     "name": "stderr",
     "output_type": "stream",
     "text": [
      " 14%|█▎        | 25/185 [00:34<03:51,  1.45s/it]"
     ]
    },
    {
     "name": "stdout",
     "output_type": "stream",
     "text": [
      "\n",
      "0: 576x1024 1 window, 1266.8ms\n",
      "Speed: 4.4ms preprocess, 1266.8ms inference, 0.7ms postprocess per image at shape (1, 3, 576, 1024)\n"
     ]
    },
    {
     "name": "stderr",
     "output_type": "stream",
     "text": [
      " 14%|█▍        | 26/185 [00:35<03:42,  1.40s/it]"
     ]
    },
    {
     "name": "stdout",
     "output_type": "stream",
     "text": [
      "\n",
      "0: 672x1024 1 window, 1448.3ms\n",
      "Speed: 6.0ms preprocess, 1448.3ms inference, 0.6ms postprocess per image at shape (1, 3, 672, 1024)\n"
     ]
    },
    {
     "name": "stderr",
     "output_type": "stream",
     "text": [
      " 15%|█▍        | 27/185 [00:37<03:44,  1.42s/it]"
     ]
    },
    {
     "name": "stdout",
     "output_type": "stream",
     "text": [
      "\n",
      "0: 672x1024 3 windows, 1439.1ms\n",
      "Speed: 5.6ms preprocess, 1439.1ms inference, 0.8ms postprocess per image at shape (1, 3, 672, 1024)\n"
     ]
    },
    {
     "name": "stderr",
     "output_type": "stream",
     "text": [
      " 15%|█▌        | 28/185 [00:38<03:45,  1.44s/it]"
     ]
    },
    {
     "name": "stdout",
     "output_type": "stream",
     "text": [
      "\n",
      "0: 672x1024 1 window, 1417.4ms\n",
      "Speed: 5.5ms preprocess, 1417.4ms inference, 1.2ms postprocess per image at shape (1, 3, 672, 1024)\n"
     ]
    },
    {
     "name": "stderr",
     "output_type": "stream",
     "text": [
      " 16%|█▌        | 29/185 [00:40<03:45,  1.44s/it]"
     ]
    },
    {
     "name": "stdout",
     "output_type": "stream",
     "text": [
      "\n",
      "0: 672x1024 1 window, 1603.4ms\n",
      "Speed: 5.8ms preprocess, 1603.4ms inference, 1.1ms postprocess per image at shape (1, 3, 672, 1024)\n"
     ]
    },
    {
     "name": "stderr",
     "output_type": "stream",
     "text": [
      " 16%|█▌        | 30/185 [00:41<03:54,  1.51s/it]"
     ]
    },
    {
     "name": "stdout",
     "output_type": "stream",
     "text": [
      "\n",
      "0: 672x1024 1 window, 1704.8ms\n",
      "Speed: 6.0ms preprocess, 1704.8ms inference, 1.3ms postprocess per image at shape (1, 3, 672, 1024)\n"
     ]
    },
    {
     "name": "stderr",
     "output_type": "stream",
     "text": [
      " 17%|█▋        | 31/185 [00:43<04:03,  1.58s/it]"
     ]
    },
    {
     "name": "stdout",
     "output_type": "stream",
     "text": [
      "\n",
      "0: 576x1024 2 windows, 1320.3ms\n",
      "Speed: 5.3ms preprocess, 1320.3ms inference, 1.1ms postprocess per image at shape (1, 3, 576, 1024)\n"
     ]
    },
    {
     "name": "stderr",
     "output_type": "stream",
     "text": [
      " 17%|█▋        | 32/185 [00:44<03:51,  1.51s/it]"
     ]
    },
    {
     "name": "stdout",
     "output_type": "stream",
     "text": [
      "\n",
      "0: 672x1024 1 window, 1507.4ms\n",
      "Speed: 6.0ms preprocess, 1507.4ms inference, 1.0ms postprocess per image at shape (1, 3, 672, 1024)\n"
     ]
    },
    {
     "name": "stderr",
     "output_type": "stream",
     "text": [
      " 18%|█▊        | 33/185 [00:46<03:51,  1.52s/it]"
     ]
    },
    {
     "name": "stdout",
     "output_type": "stream",
     "text": [
      "\n",
      "0: 672x1024 3 windows, 1503.4ms\n",
      "Speed: 6.5ms preprocess, 1503.4ms inference, 0.6ms postprocess per image at shape (1, 3, 672, 1024)\n"
     ]
    },
    {
     "name": "stderr",
     "output_type": "stream",
     "text": [
      " 18%|█▊        | 34/185 [00:48<03:50,  1.53s/it]"
     ]
    },
    {
     "name": "stdout",
     "output_type": "stream",
     "text": [
      "\n",
      "0: 672x1024 1 window, 1514.1ms\n",
      "Speed: 5.8ms preprocess, 1514.1ms inference, 1.3ms postprocess per image at shape (1, 3, 672, 1024)\n"
     ]
    },
    {
     "name": "stderr",
     "output_type": "stream",
     "text": [
      " 19%|█▉        | 35/185 [00:49<03:50,  1.54s/it]"
     ]
    },
    {
     "name": "stdout",
     "output_type": "stream",
     "text": [
      "\n",
      "0: 576x1024 1 window, 1500.5ms\n",
      "Speed: 5.4ms preprocess, 1500.5ms inference, 1.2ms postprocess per image at shape (1, 3, 576, 1024)\n"
     ]
    },
    {
     "name": "stderr",
     "output_type": "stream",
     "text": [
      " 19%|█▉        | 36/185 [00:51<03:48,  1.53s/it]"
     ]
    },
    {
     "name": "stdout",
     "output_type": "stream",
     "text": [
      "\n",
      "0: 576x1024 2 windows, 1361.2ms\n",
      "Speed: 5.4ms preprocess, 1361.2ms inference, 0.7ms postprocess per image at shape (1, 3, 576, 1024)\n"
     ]
    },
    {
     "name": "stderr",
     "output_type": "stream",
     "text": [
      " 20%|██        | 37/185 [00:52<03:40,  1.49s/it]"
     ]
    },
    {
     "name": "stdout",
     "output_type": "stream",
     "text": [
      "\n",
      "0: 576x1024 2 windows, 1351.0ms\n",
      "Speed: 5.0ms preprocess, 1351.0ms inference, 1.1ms postprocess per image at shape (1, 3, 576, 1024)\n"
     ]
    },
    {
     "name": "stderr",
     "output_type": "stream",
     "text": [
      " 21%|██        | 38/185 [00:53<03:33,  1.45s/it]"
     ]
    },
    {
     "name": "stdout",
     "output_type": "stream",
     "text": [
      "\n",
      "0: 576x1024 2 windows, 1375.3ms\n",
      "Speed: 4.8ms preprocess, 1375.3ms inference, 0.7ms postprocess per image at shape (1, 3, 576, 1024)\n"
     ]
    },
    {
     "name": "stderr",
     "output_type": "stream",
     "text": [
      " 21%|██        | 39/185 [00:55<03:29,  1.43s/it]"
     ]
    },
    {
     "name": "stdout",
     "output_type": "stream",
     "text": [
      "\n",
      "0: 576x1024 1 window, 1315.6ms\n",
      "Speed: 4.9ms preprocess, 1315.6ms inference, 0.5ms postprocess per image at shape (1, 3, 576, 1024)\n"
     ]
    },
    {
     "name": "stderr",
     "output_type": "stream",
     "text": [
      " 22%|██▏       | 40/185 [00:56<03:23,  1.41s/it]"
     ]
    },
    {
     "name": "stdout",
     "output_type": "stream",
     "text": [
      "\n",
      "0: 576x1024 1 window, 1316.8ms\n",
      "Speed: 4.7ms preprocess, 1316.8ms inference, 1.2ms postprocess per image at shape (1, 3, 576, 1024)\n"
     ]
    },
    {
     "name": "stderr",
     "output_type": "stream",
     "text": [
      " 22%|██▏       | 41/185 [00:57<03:19,  1.39s/it]"
     ]
    },
    {
     "name": "stdout",
     "output_type": "stream",
     "text": [
      "\n",
      "0: 672x1024 1 window, 1628.0ms\n",
      "Speed: 5.8ms preprocess, 1628.0ms inference, 2.9ms postprocess per image at shape (1, 3, 672, 1024)\n"
     ]
    },
    {
     "name": "stderr",
     "output_type": "stream",
     "text": [
      " 23%|██▎       | 42/185 [00:59<03:30,  1.47s/it]"
     ]
    },
    {
     "name": "stdout",
     "output_type": "stream",
     "text": [
      "\n",
      "0: 672x1024 1 window, 1590.0ms\n",
      "Speed: 6.0ms preprocess, 1590.0ms inference, 0.7ms postprocess per image at shape (1, 3, 672, 1024)\n"
     ]
    },
    {
     "name": "stderr",
     "output_type": "stream",
     "text": [
      " 23%|██▎       | 43/185 [01:01<03:35,  1.52s/it]"
     ]
    },
    {
     "name": "stdout",
     "output_type": "stream",
     "text": [
      "\n",
      "0: 576x1024 1 window, 1356.6ms\n",
      "Speed: 5.6ms preprocess, 1356.6ms inference, 0.6ms postprocess per image at shape (1, 3, 576, 1024)\n"
     ]
    },
    {
     "name": "stderr",
     "output_type": "stream",
     "text": [
      " 24%|██▍       | 44/185 [01:02<03:28,  1.48s/it]"
     ]
    },
    {
     "name": "stdout",
     "output_type": "stream",
     "text": [
      "\n",
      "0: 672x1024 2 windows, 1650.7ms\n",
      "Speed: 6.6ms preprocess, 1650.7ms inference, 0.6ms postprocess per image at shape (1, 3, 672, 1024)\n"
     ]
    },
    {
     "name": "stderr",
     "output_type": "stream",
     "text": [
      " 24%|██▍       | 45/185 [01:04<03:35,  1.54s/it]"
     ]
    },
    {
     "name": "stdout",
     "output_type": "stream",
     "text": [
      "\n",
      "0: 576x1024 1 window, 1406.9ms\n",
      "Speed: 5.6ms preprocess, 1406.9ms inference, 1.0ms postprocess per image at shape (1, 3, 576, 1024)\n"
     ]
    },
    {
     "name": "stderr",
     "output_type": "stream",
     "text": [
      " 25%|██▍       | 46/185 [01:05<03:29,  1.51s/it]"
     ]
    },
    {
     "name": "stdout",
     "output_type": "stream",
     "text": [
      "\n",
      "0: 576x1024 1 window, 1382.6ms\n",
      "Speed: 4.8ms preprocess, 1382.6ms inference, 0.8ms postprocess per image at shape (1, 3, 576, 1024)\n"
     ]
    },
    {
     "name": "stderr",
     "output_type": "stream",
     "text": [
      " 25%|██▌       | 47/185 [01:07<03:23,  1.47s/it]"
     ]
    },
    {
     "name": "stdout",
     "output_type": "stream",
     "text": [
      "\n",
      "0: 672x1024 1 window, 1579.1ms\n",
      "Speed: 6.0ms preprocess, 1579.1ms inference, 0.6ms postprocess per image at shape (1, 3, 672, 1024)\n"
     ]
    },
    {
     "name": "stderr",
     "output_type": "stream",
     "text": [
      " 26%|██▌       | 48/185 [01:08<03:28,  1.52s/it]"
     ]
    },
    {
     "name": "stdout",
     "output_type": "stream",
     "text": [
      "\n",
      "0: 576x1024 1 window, 1329.5ms\n",
      "Speed: 5.0ms preprocess, 1329.5ms inference, 0.8ms postprocess per image at shape (1, 3, 576, 1024)\n"
     ]
    },
    {
     "name": "stderr",
     "output_type": "stream",
     "text": [
      " 26%|██▋       | 49/185 [01:10<03:19,  1.47s/it]"
     ]
    },
    {
     "name": "stdout",
     "output_type": "stream",
     "text": [
      "\n",
      "0: 576x1024 2 windows, 1319.6ms\n",
      "Speed: 5.3ms preprocess, 1319.6ms inference, 0.7ms postprocess per image at shape (1, 3, 576, 1024)\n"
     ]
    },
    {
     "name": "stderr",
     "output_type": "stream",
     "text": [
      " 27%|██▋       | 50/185 [01:11<03:12,  1.43s/it]"
     ]
    },
    {
     "name": "stdout",
     "output_type": "stream",
     "text": [
      "\n",
      "0: 672x1024 1 window, 1527.6ms\n",
      "Speed: 6.2ms preprocess, 1527.6ms inference, 0.7ms postprocess per image at shape (1, 3, 672, 1024)\n"
     ]
    },
    {
     "name": "stderr",
     "output_type": "stream",
     "text": [
      " 28%|██▊       | 51/185 [01:13<03:16,  1.47s/it]"
     ]
    },
    {
     "name": "stdout",
     "output_type": "stream",
     "text": [
      "\n",
      "0: 576x1024 1 window, 1320.6ms\n",
      "Speed: 5.0ms preprocess, 1320.6ms inference, 0.9ms postprocess per image at shape (1, 3, 576, 1024)\n"
     ]
    },
    {
     "name": "stderr",
     "output_type": "stream",
     "text": [
      " 28%|██▊       | 52/185 [01:14<03:10,  1.43s/it]"
     ]
    },
    {
     "name": "stdout",
     "output_type": "stream",
     "text": [
      "\n",
      "0: 672x1024 1 window, 1534.7ms\n",
      "Speed: 6.2ms preprocess, 1534.7ms inference, 0.9ms postprocess per image at shape (1, 3, 672, 1024)\n"
     ]
    },
    {
     "name": "stderr",
     "output_type": "stream",
     "text": [
      " 29%|██▊       | 53/185 [01:15<03:14,  1.47s/it]"
     ]
    },
    {
     "name": "stdout",
     "output_type": "stream",
     "text": [
      "\n",
      "0: 576x1024 1 window, 1294.7ms\n",
      "Speed: 4.8ms preprocess, 1294.7ms inference, 0.9ms postprocess per image at shape (1, 3, 576, 1024)\n"
     ]
    },
    {
     "name": "stderr",
     "output_type": "stream",
     "text": [
      " 29%|██▉       | 54/185 [01:17<03:06,  1.43s/it]"
     ]
    },
    {
     "name": "stdout",
     "output_type": "stream",
     "text": [
      "\n",
      "0: 576x1024 1 window, 1318.7ms\n",
      "Speed: 4.4ms preprocess, 1318.7ms inference, 0.7ms postprocess per image at shape (1, 3, 576, 1024)\n"
     ]
    },
    {
     "name": "stderr",
     "output_type": "stream",
     "text": [
      " 30%|██▉       | 55/185 [01:18<03:01,  1.40s/it]"
     ]
    },
    {
     "name": "stdout",
     "output_type": "stream",
     "text": [
      "\n",
      "0: 672x1024 1 window, 1482.2ms\n",
      "Speed: 6.0ms preprocess, 1482.2ms inference, 0.7ms postprocess per image at shape (1, 3, 672, 1024)\n"
     ]
    },
    {
     "name": "stderr",
     "output_type": "stream",
     "text": [
      " 30%|███       | 56/185 [01:20<03:05,  1.44s/it]"
     ]
    },
    {
     "name": "stdout",
     "output_type": "stream",
     "text": [
      "\n",
      "0: 672x1024 1 window, 1514.7ms\n",
      "Speed: 5.8ms preprocess, 1514.7ms inference, 0.8ms postprocess per image at shape (1, 3, 672, 1024)\n"
     ]
    },
    {
     "name": "stderr",
     "output_type": "stream",
     "text": [
      " 31%|███       | 57/185 [01:21<03:08,  1.47s/it]"
     ]
    },
    {
     "name": "stdout",
     "output_type": "stream",
     "text": [
      "\n",
      "0: 672x1024 3 windows, 1478.6ms\n",
      "Speed: 6.1ms preprocess, 1478.6ms inference, 1.0ms postprocess per image at shape (1, 3, 672, 1024)\n"
     ]
    },
    {
     "name": "stderr",
     "output_type": "stream",
     "text": [
      " 31%|███▏      | 58/185 [01:23<03:08,  1.48s/it]"
     ]
    },
    {
     "name": "stdout",
     "output_type": "stream",
     "text": [
      "\n",
      "0: 576x1024 1 window, 1310.2ms\n",
      "Speed: 4.9ms preprocess, 1310.2ms inference, 0.8ms postprocess per image at shape (1, 3, 576, 1024)\n"
     ]
    },
    {
     "name": "stderr",
     "output_type": "stream",
     "text": [
      " 32%|███▏      | 59/185 [01:24<03:01,  1.44s/it]"
     ]
    },
    {
     "name": "stdout",
     "output_type": "stream",
     "text": [
      "\n",
      "0: 576x1024 1 window, 1298.4ms\n",
      "Speed: 5.1ms preprocess, 1298.4ms inference, 0.7ms postprocess per image at shape (1, 3, 576, 1024)\n"
     ]
    },
    {
     "name": "stderr",
     "output_type": "stream",
     "text": [
      " 32%|███▏      | 60/185 [01:25<02:55,  1.40s/it]"
     ]
    },
    {
     "name": "stdout",
     "output_type": "stream",
     "text": [
      "\n",
      "0: 672x1024 2 windows, 1511.6ms\n",
      "Speed: 5.9ms preprocess, 1511.6ms inference, 0.9ms postprocess per image at shape (1, 3, 672, 1024)\n"
     ]
    },
    {
     "name": "stderr",
     "output_type": "stream",
     "text": [
      " 33%|███▎      | 61/185 [01:27<02:59,  1.45s/it]"
     ]
    },
    {
     "name": "stdout",
     "output_type": "stream",
     "text": [
      "\n",
      "0: 672x1024 1 window, 1576.7ms\n",
      "Speed: 6.9ms preprocess, 1576.7ms inference, 1.1ms postprocess per image at shape (1, 3, 672, 1024)\n"
     ]
    },
    {
     "name": "stderr",
     "output_type": "stream",
     "text": [
      " 34%|███▎      | 62/185 [01:28<03:04,  1.50s/it]"
     ]
    },
    {
     "name": "stdout",
     "output_type": "stream",
     "text": [
      "\n",
      "0: 672x1024 1 window, 1529.6ms\n",
      "Speed: 5.9ms preprocess, 1529.6ms inference, 0.8ms postprocess per image at shape (1, 3, 672, 1024)\n"
     ]
    },
    {
     "name": "stderr",
     "output_type": "stream",
     "text": [
      " 34%|███▍      | 63/185 [01:30<03:05,  1.52s/it]"
     ]
    },
    {
     "name": "stdout",
     "output_type": "stream",
     "text": [
      "\n",
      "0: 576x1024 1 window, 1327.7ms\n",
      "Speed: 4.8ms preprocess, 1327.7ms inference, 0.9ms postprocess per image at shape (1, 3, 576, 1024)\n"
     ]
    },
    {
     "name": "stderr",
     "output_type": "stream",
     "text": [
      " 35%|███▍      | 64/185 [01:31<02:57,  1.47s/it]"
     ]
    },
    {
     "name": "stdout",
     "output_type": "stream",
     "text": [
      "\n",
      "0: 576x1024 1 window, 1302.5ms\n",
      "Speed: 5.6ms preprocess, 1302.5ms inference, 0.6ms postprocess per image at shape (1, 3, 576, 1024)\n"
     ]
    },
    {
     "name": "stderr",
     "output_type": "stream",
     "text": [
      " 35%|███▌      | 65/185 [01:33<02:50,  1.42s/it]"
     ]
    },
    {
     "name": "stdout",
     "output_type": "stream",
     "text": [
      "\n",
      "0: 672x1024 2 windows, 1491.5ms\n",
      "Speed: 5.8ms preprocess, 1491.5ms inference, 0.5ms postprocess per image at shape (1, 3, 672, 1024)\n"
     ]
    },
    {
     "name": "stderr",
     "output_type": "stream",
     "text": [
      " 36%|███▌      | 66/185 [01:34<02:53,  1.45s/it]"
     ]
    },
    {
     "name": "stdout",
     "output_type": "stream",
     "text": [
      "\n",
      "0: 672x1024 1 window, 1479.0ms\n",
      "Speed: 6.0ms preprocess, 1479.0ms inference, 0.9ms postprocess per image at shape (1, 3, 672, 1024)\n"
     ]
    },
    {
     "name": "stderr",
     "output_type": "stream",
     "text": [
      " 36%|███▌      | 67/185 [01:36<02:53,  1.47s/it]"
     ]
    },
    {
     "name": "stdout",
     "output_type": "stream",
     "text": [
      "\n",
      "0: 672x1024 1 window, 1492.5ms\n",
      "Speed: 5.8ms preprocess, 1492.5ms inference, 0.6ms postprocess per image at shape (1, 3, 672, 1024)\n"
     ]
    },
    {
     "name": "stderr",
     "output_type": "stream",
     "text": [
      " 37%|███▋      | 68/185 [01:37<02:54,  1.49s/it]"
     ]
    },
    {
     "name": "stdout",
     "output_type": "stream",
     "text": [
      "\n",
      "0: 576x1024 1 window, 1337.4ms\n",
      "Speed: 4.5ms preprocess, 1337.4ms inference, 0.6ms postprocess per image at shape (1, 3, 576, 1024)\n"
     ]
    },
    {
     "name": "stderr",
     "output_type": "stream",
     "text": [
      " 37%|███▋      | 69/185 [01:39<02:48,  1.45s/it]"
     ]
    },
    {
     "name": "stdout",
     "output_type": "stream",
     "text": [
      "\n",
      "0: 672x1024 1 window, 1488.9ms\n",
      "Speed: 5.9ms preprocess, 1488.9ms inference, 0.7ms postprocess per image at shape (1, 3, 672, 1024)\n"
     ]
    },
    {
     "name": "stderr",
     "output_type": "stream",
     "text": [
      " 38%|███▊      | 70/185 [01:40<02:49,  1.47s/it]"
     ]
    },
    {
     "name": "stdout",
     "output_type": "stream",
     "text": [
      "\n",
      "0: 672x1024 2 windows, 1475.5ms\n",
      "Speed: 5.9ms preprocess, 1475.5ms inference, 0.7ms postprocess per image at shape (1, 3, 672, 1024)\n"
     ]
    },
    {
     "name": "stderr",
     "output_type": "stream",
     "text": [
      " 38%|███▊      | 71/185 [01:42<02:49,  1.48s/it]"
     ]
    },
    {
     "name": "stdout",
     "output_type": "stream",
     "text": [
      "\n",
      "0: 576x1024 1 window, 1296.7ms\n",
      "Speed: 4.6ms preprocess, 1296.7ms inference, 0.9ms postprocess per image at shape (1, 3, 576, 1024)\n"
     ]
    },
    {
     "name": "stderr",
     "output_type": "stream",
     "text": [
      " 39%|███▉      | 72/185 [01:43<02:42,  1.43s/it]"
     ]
    },
    {
     "name": "stdout",
     "output_type": "stream",
     "text": [
      "\n",
      "0: 672x1024 1 window, 1470.6ms\n",
      "Speed: 6.2ms preprocess, 1470.6ms inference, 0.5ms postprocess per image at shape (1, 3, 672, 1024)\n"
     ]
    },
    {
     "name": "stderr",
     "output_type": "stream",
     "text": [
      " 39%|███▉      | 73/185 [01:45<02:43,  1.46s/it]"
     ]
    },
    {
     "name": "stdout",
     "output_type": "stream",
     "text": [
      "\n",
      "0: 672x1024 1 window, 1471.0ms\n",
      "Speed: 5.5ms preprocess, 1471.0ms inference, 0.7ms postprocess per image at shape (1, 3, 672, 1024)\n"
     ]
    },
    {
     "name": "stderr",
     "output_type": "stream",
     "text": [
      " 40%|████      | 74/185 [01:46<02:43,  1.47s/it]"
     ]
    },
    {
     "name": "stdout",
     "output_type": "stream",
     "text": [
      "\n",
      "0: 672x1024 1 window, 1512.1ms\n",
      "Speed: 6.1ms preprocess, 1512.1ms inference, 0.6ms postprocess per image at shape (1, 3, 672, 1024)\n"
     ]
    },
    {
     "name": "stderr",
     "output_type": "stream",
     "text": [
      " 41%|████      | 75/185 [01:48<02:44,  1.50s/it]"
     ]
    },
    {
     "name": "stdout",
     "output_type": "stream",
     "text": [
      "\n",
      "0: 576x1024 2 windows, 1294.8ms\n",
      "Speed: 4.8ms preprocess, 1294.8ms inference, 0.7ms postprocess per image at shape (1, 3, 576, 1024)\n"
     ]
    },
    {
     "name": "stderr",
     "output_type": "stream",
     "text": [
      " 41%|████      | 76/185 [01:49<02:37,  1.44s/it]"
     ]
    },
    {
     "name": "stdout",
     "output_type": "stream",
     "text": [
      "\n",
      "0: 576x1024 2 windows, 1294.3ms\n",
      "Speed: 5.6ms preprocess, 1294.3ms inference, 0.6ms postprocess per image at shape (1, 3, 576, 1024)\n"
     ]
    },
    {
     "name": "stderr",
     "output_type": "stream",
     "text": [
      " 42%|████▏     | 77/185 [01:50<02:31,  1.40s/it]"
     ]
    },
    {
     "name": "stdout",
     "output_type": "stream",
     "text": [
      "\n",
      "0: 576x1024 1 window, 1295.7ms\n",
      "Speed: 4.8ms preprocess, 1295.7ms inference, 0.7ms postprocess per image at shape (1, 3, 576, 1024)\n"
     ]
    },
    {
     "name": "stderr",
     "output_type": "stream",
     "text": [
      " 42%|████▏     | 78/185 [01:52<02:27,  1.38s/it]"
     ]
    },
    {
     "name": "stdout",
     "output_type": "stream",
     "text": [
      "\n",
      "0: 672x1024 1 window, 1479.0ms\n",
      "Speed: 6.0ms preprocess, 1479.0ms inference, 0.7ms postprocess per image at shape (1, 3, 672, 1024)\n"
     ]
    },
    {
     "name": "stderr",
     "output_type": "stream",
     "text": [
      " 43%|████▎     | 79/185 [01:53<02:30,  1.42s/it]"
     ]
    },
    {
     "name": "stdout",
     "output_type": "stream",
     "text": [
      "\n",
      "0: 576x1024 2 windows, 1334.9ms\n",
      "Speed: 4.9ms preprocess, 1334.9ms inference, 0.8ms postprocess per image at shape (1, 3, 576, 1024)\n"
     ]
    },
    {
     "name": "stderr",
     "output_type": "stream",
     "text": [
      " 43%|████▎     | 80/185 [01:54<02:26,  1.40s/it]"
     ]
    },
    {
     "name": "stdout",
     "output_type": "stream",
     "text": [
      "\n",
      "0: 672x1024 1 window, 1475.3ms\n",
      "Speed: 5.8ms preprocess, 1475.3ms inference, 0.5ms postprocess per image at shape (1, 3, 672, 1024)\n"
     ]
    },
    {
     "name": "stderr",
     "output_type": "stream",
     "text": [
      " 44%|████▍     | 81/185 [01:56<02:29,  1.43s/it]"
     ]
    },
    {
     "name": "stdout",
     "output_type": "stream",
     "text": [
      "\n",
      "0: 576x1024 1 window, 1297.1ms\n",
      "Speed: 4.5ms preprocess, 1297.1ms inference, 0.6ms postprocess per image at shape (1, 3, 576, 1024)\n"
     ]
    },
    {
     "name": "stderr",
     "output_type": "stream",
     "text": [
      " 44%|████▍     | 82/185 [01:57<02:24,  1.40s/it]"
     ]
    },
    {
     "name": "stdout",
     "output_type": "stream",
     "text": [
      "\n",
      "0: 672x1024 1 window, 1480.3ms\n",
      "Speed: 5.7ms preprocess, 1480.3ms inference, 0.4ms postprocess per image at shape (1, 3, 672, 1024)\n"
     ]
    },
    {
     "name": "stderr",
     "output_type": "stream",
     "text": [
      " 45%|████▍     | 83/185 [01:59<02:26,  1.43s/it]"
     ]
    },
    {
     "name": "stdout",
     "output_type": "stream",
     "text": [
      "\n",
      "0: 576x1024 1 window, 1302.5ms\n",
      "Speed: 6.1ms preprocess, 1302.5ms inference, 1.0ms postprocess per image at shape (1, 3, 576, 1024)\n"
     ]
    },
    {
     "name": "stderr",
     "output_type": "stream",
     "text": [
      " 45%|████▌     | 84/185 [02:00<02:21,  1.40s/it]"
     ]
    },
    {
     "name": "stdout",
     "output_type": "stream",
     "text": [
      "\n",
      "0: 576x1024 1 window, 1296.4ms\n",
      "Speed: 4.7ms preprocess, 1296.4ms inference, 0.5ms postprocess per image at shape (1, 3, 576, 1024)\n"
     ]
    },
    {
     "name": "stderr",
     "output_type": "stream",
     "text": [
      " 46%|████▌     | 85/185 [02:01<02:17,  1.38s/it]"
     ]
    },
    {
     "name": "stdout",
     "output_type": "stream",
     "text": [
      "\n",
      "0: 672x1024 1 window, 1534.7ms\n",
      "Speed: 6.0ms preprocess, 1534.7ms inference, 0.4ms postprocess per image at shape (1, 3, 672, 1024)\n"
     ]
    },
    {
     "name": "stderr",
     "output_type": "stream",
     "text": [
      " 46%|████▋     | 86/185 [02:03<02:21,  1.43s/it]"
     ]
    },
    {
     "name": "stdout",
     "output_type": "stream",
     "text": [
      "\n",
      "0: 672x1024 1 window, 1497.2ms\n",
      "Speed: 5.7ms preprocess, 1497.2ms inference, 1.4ms postprocess per image at shape (1, 3, 672, 1024)\n"
     ]
    },
    {
     "name": "stderr",
     "output_type": "stream",
     "text": [
      " 47%|████▋     | 87/185 [02:04<02:23,  1.46s/it]"
     ]
    },
    {
     "name": "stdout",
     "output_type": "stream",
     "text": [
      "\n",
      "0: 672x1024 1 window, 1487.4ms\n",
      "Speed: 5.6ms preprocess, 1487.4ms inference, 0.9ms postprocess per image at shape (1, 3, 672, 1024)\n"
     ]
    },
    {
     "name": "stderr",
     "output_type": "stream",
     "text": [
      " 48%|████▊     | 88/185 [02:06<02:23,  1.48s/it]"
     ]
    },
    {
     "name": "stdout",
     "output_type": "stream",
     "text": [
      "\n",
      "0: 576x1024 1 window, 1312.0ms\n",
      "Speed: 4.6ms preprocess, 1312.0ms inference, 0.9ms postprocess per image at shape (1, 3, 576, 1024)\n"
     ]
    },
    {
     "name": "stderr",
     "output_type": "stream",
     "text": [
      " 48%|████▊     | 89/185 [02:07<02:17,  1.44s/it]"
     ]
    },
    {
     "name": "stdout",
     "output_type": "stream",
     "text": [
      "\n",
      "0: 672x1024 1 window, 1478.9ms\n",
      "Speed: 5.8ms preprocess, 1478.9ms inference, 0.4ms postprocess per image at shape (1, 3, 672, 1024)\n"
     ]
    },
    {
     "name": "stderr",
     "output_type": "stream",
     "text": [
      " 49%|████▊     | 90/185 [02:09<02:18,  1.46s/it]"
     ]
    },
    {
     "name": "stdout",
     "output_type": "stream",
     "text": [
      "\n",
      "0: 672x1024 1 window, 1473.8ms\n",
      "Speed: 5.6ms preprocess, 1473.8ms inference, 0.8ms postprocess per image at shape (1, 3, 672, 1024)\n"
     ]
    },
    {
     "name": "stderr",
     "output_type": "stream",
     "text": [
      " 49%|████▉     | 91/185 [02:10<02:18,  1.48s/it]"
     ]
    },
    {
     "name": "stdout",
     "output_type": "stream",
     "text": [
      "\n",
      "0: 672x1024 1 window, 1511.6ms\n",
      "Speed: 6.1ms preprocess, 1511.6ms inference, 0.6ms postprocess per image at shape (1, 3, 672, 1024)\n"
     ]
    },
    {
     "name": "stderr",
     "output_type": "stream",
     "text": [
      " 50%|████▉     | 92/185 [02:12<02:19,  1.50s/it]"
     ]
    },
    {
     "name": "stdout",
     "output_type": "stream",
     "text": [
      "\n",
      "0: 576x1024 2 windows, 1308.2ms\n",
      "Speed: 4.9ms preprocess, 1308.2ms inference, 0.6ms postprocess per image at shape (1, 3, 576, 1024)\n"
     ]
    },
    {
     "name": "stderr",
     "output_type": "stream",
     "text": [
      " 50%|█████     | 93/185 [02:13<02:13,  1.45s/it]"
     ]
    },
    {
     "name": "stdout",
     "output_type": "stream",
     "text": [
      "\n",
      "0: 576x1024 1 window, 1301.0ms\n",
      "Speed: 4.4ms preprocess, 1301.0ms inference, 0.8ms postprocess per image at shape (1, 3, 576, 1024)\n"
     ]
    },
    {
     "name": "stderr",
     "output_type": "stream",
     "text": [
      " 51%|█████     | 94/185 [02:15<02:08,  1.41s/it]"
     ]
    },
    {
     "name": "stdout",
     "output_type": "stream",
     "text": [
      "\n",
      "0: 576x1024 1 window, 1299.4ms\n",
      "Speed: 5.1ms preprocess, 1299.4ms inference, 0.7ms postprocess per image at shape (1, 3, 576, 1024)\n"
     ]
    },
    {
     "name": "stderr",
     "output_type": "stream",
     "text": [
      " 51%|█████▏    | 95/185 [02:16<02:04,  1.38s/it]"
     ]
    },
    {
     "name": "stdout",
     "output_type": "stream",
     "text": [
      "\n",
      "0: 672x1024 1 window, 1498.5ms\n",
      "Speed: 6.5ms preprocess, 1498.5ms inference, 0.7ms postprocess per image at shape (1, 3, 672, 1024)\n"
     ]
    },
    {
     "name": "stderr",
     "output_type": "stream",
     "text": [
      " 52%|█████▏    | 96/185 [02:17<02:07,  1.43s/it]"
     ]
    },
    {
     "name": "stdout",
     "output_type": "stream",
     "text": [
      "\n",
      "0: 576x1024 1 window, 1728.5ms\n",
      "Speed: 8.0ms preprocess, 1728.5ms inference, 1.5ms postprocess per image at shape (1, 3, 576, 1024)\n"
     ]
    },
    {
     "name": "stderr",
     "output_type": "stream",
     "text": [
      " 52%|█████▏    | 97/185 [02:19<02:14,  1.53s/it]"
     ]
    },
    {
     "name": "stdout",
     "output_type": "stream",
     "text": [
      "\n",
      "0: 576x1024 1 window, 1397.8ms\n",
      "Speed: 5.9ms preprocess, 1397.8ms inference, 0.7ms postprocess per image at shape (1, 3, 576, 1024)\n"
     ]
    },
    {
     "name": "stderr",
     "output_type": "stream",
     "text": [
      " 53%|█████▎    | 98/185 [02:21<02:10,  1.49s/it]"
     ]
    },
    {
     "name": "stdout",
     "output_type": "stream",
     "text": [
      "\n",
      "0: 576x1024 1 window, 1368.5ms\n",
      "Speed: 4.7ms preprocess, 1368.5ms inference, 1.2ms postprocess per image at shape (1, 3, 576, 1024)\n"
     ]
    },
    {
     "name": "stderr",
     "output_type": "stream",
     "text": [
      " 54%|█████▎    | 99/185 [02:22<02:05,  1.46s/it]"
     ]
    },
    {
     "name": "stdout",
     "output_type": "stream",
     "text": [
      "\n",
      "0: 672x1024 2 windows, 1587.9ms\n",
      "Speed: 6.0ms preprocess, 1587.9ms inference, 0.7ms postprocess per image at shape (1, 3, 672, 1024)\n"
     ]
    },
    {
     "name": "stderr",
     "output_type": "stream",
     "text": [
      " 54%|█████▍    | 100/185 [02:24<02:08,  1.51s/it]"
     ]
    },
    {
     "name": "stdout",
     "output_type": "stream",
     "text": [
      "\n",
      "0: 576x1024 1 window, 1426.0ms\n",
      "Speed: 5.5ms preprocess, 1426.0ms inference, 1.2ms postprocess per image at shape (1, 3, 576, 1024)\n"
     ]
    },
    {
     "name": "stderr",
     "output_type": "stream",
     "text": [
      " 55%|█████▍    | 101/185 [02:25<02:05,  1.49s/it]"
     ]
    },
    {
     "name": "stdout",
     "output_type": "stream",
     "text": [
      "\n",
      "0: 576x1024 2 windows, 1314.6ms\n",
      "Speed: 6.3ms preprocess, 1314.6ms inference, 1.0ms postprocess per image at shape (1, 3, 576, 1024)\n"
     ]
    },
    {
     "name": "stderr",
     "output_type": "stream",
     "text": [
      " 55%|█████▌    | 102/185 [02:26<02:00,  1.45s/it]"
     ]
    },
    {
     "name": "stdout",
     "output_type": "stream",
     "text": [
      "\n",
      "0: 576x1024 2 windows, 1377.3ms\n",
      "Speed: 7.8ms preprocess, 1377.3ms inference, 1.1ms postprocess per image at shape (1, 3, 576, 1024)\n"
     ]
    },
    {
     "name": "stderr",
     "output_type": "stream",
     "text": [
      " 56%|█████▌    | 103/185 [02:28<01:57,  1.43s/it]"
     ]
    },
    {
     "name": "stdout",
     "output_type": "stream",
     "text": [
      "\n",
      "0: 576x1024 1 window, 1346.0ms\n",
      "Speed: 7.4ms preprocess, 1346.0ms inference, 0.5ms postprocess per image at shape (1, 3, 576, 1024)\n"
     ]
    },
    {
     "name": "stderr",
     "output_type": "stream",
     "text": [
      " 56%|█████▌    | 104/185 [02:29<01:54,  1.41s/it]"
     ]
    },
    {
     "name": "stdout",
     "output_type": "stream",
     "text": [
      "\n",
      "0: 672x1024 1 window, 1509.3ms\n",
      "Speed: 5.7ms preprocess, 1509.3ms inference, 0.7ms postprocess per image at shape (1, 3, 672, 1024)\n"
     ]
    },
    {
     "name": "stderr",
     "output_type": "stream",
     "text": [
      " 57%|█████▋    | 105/185 [02:31<01:56,  1.45s/it]"
     ]
    },
    {
     "name": "stdout",
     "output_type": "stream",
     "text": [
      "\n",
      "0: 576x1024 1 window, 1340.1ms\n",
      "Speed: 5.3ms preprocess, 1340.1ms inference, 0.6ms postprocess per image at shape (1, 3, 576, 1024)\n"
     ]
    },
    {
     "name": "stderr",
     "output_type": "stream",
     "text": [
      " 57%|█████▋    | 106/185 [02:32<01:52,  1.43s/it]"
     ]
    },
    {
     "name": "stdout",
     "output_type": "stream",
     "text": [
      "\n",
      "0: 672x1024 1 window, 1545.5ms\n",
      "Speed: 6.1ms preprocess, 1545.5ms inference, 0.7ms postprocess per image at shape (1, 3, 672, 1024)\n"
     ]
    },
    {
     "name": "stderr",
     "output_type": "stream",
     "text": [
      " 58%|█████▊    | 107/185 [02:34<01:54,  1.47s/it]"
     ]
    },
    {
     "name": "stdout",
     "output_type": "stream",
     "text": [
      "\n",
      "0: 576x1024 1 window, 1366.2ms\n",
      "Speed: 5.3ms preprocess, 1366.2ms inference, 0.6ms postprocess per image at shape (1, 3, 576, 1024)\n"
     ]
    },
    {
     "name": "stderr",
     "output_type": "stream",
     "text": [
      " 58%|█████▊    | 108/185 [02:35<01:51,  1.45s/it]"
     ]
    },
    {
     "name": "stdout",
     "output_type": "stream",
     "text": [
      "\n",
      "0: 576x1024 1 window, 1357.6ms\n",
      "Speed: 6.4ms preprocess, 1357.6ms inference, 0.7ms postprocess per image at shape (1, 3, 576, 1024)\n"
     ]
    },
    {
     "name": "stderr",
     "output_type": "stream",
     "text": [
      " 59%|█████▉    | 109/185 [02:36<01:48,  1.43s/it]"
     ]
    },
    {
     "name": "stdout",
     "output_type": "stream",
     "text": [
      "\n",
      "0: 672x1024 1 window, 1616.1ms\n",
      "Speed: 7.0ms preprocess, 1616.1ms inference, 0.9ms postprocess per image at shape (1, 3, 672, 1024)\n"
     ]
    },
    {
     "name": "stderr",
     "output_type": "stream",
     "text": [
      " 59%|█████▉    | 110/185 [02:38<01:52,  1.50s/it]"
     ]
    },
    {
     "name": "stdout",
     "output_type": "stream",
     "text": [
      "\n",
      "0: 672x1024 1 window, 1577.3ms\n",
      "Speed: 6.4ms preprocess, 1577.3ms inference, 0.9ms postprocess per image at shape (1, 3, 672, 1024)\n"
     ]
    },
    {
     "name": "stderr",
     "output_type": "stream",
     "text": [
      " 60%|██████    | 111/185 [02:40<01:53,  1.53s/it]"
     ]
    },
    {
     "name": "stdout",
     "output_type": "stream",
     "text": [
      "\n",
      "0: 576x1024 2 windows, 1350.7ms\n",
      "Speed: 5.3ms preprocess, 1350.7ms inference, 0.8ms postprocess per image at shape (1, 3, 576, 1024)\n"
     ]
    },
    {
     "name": "stderr",
     "output_type": "stream",
     "text": [
      " 61%|██████    | 112/185 [02:41<01:48,  1.48s/it]"
     ]
    },
    {
     "name": "stdout",
     "output_type": "stream",
     "text": [
      "\n",
      "0: 672x1024 1 window, 1533.2ms\n",
      "Speed: 6.2ms preprocess, 1533.2ms inference, 0.7ms postprocess per image at shape (1, 3, 672, 1024)\n"
     ]
    },
    {
     "name": "stderr",
     "output_type": "stream",
     "text": [
      " 61%|██████    | 113/185 [02:43<01:48,  1.51s/it]"
     ]
    },
    {
     "name": "stdout",
     "output_type": "stream",
     "text": [
      "\n",
      "0: 576x1024 1 window, 1320.3ms\n",
      "Speed: 4.9ms preprocess, 1320.3ms inference, 0.9ms postprocess per image at shape (1, 3, 576, 1024)\n"
     ]
    },
    {
     "name": "stderr",
     "output_type": "stream",
     "text": [
      " 62%|██████▏   | 114/185 [02:44<01:43,  1.46s/it]"
     ]
    },
    {
     "name": "stdout",
     "output_type": "stream",
     "text": [
      "\n",
      "0: 672x1024 1 window, 1551.5ms\n",
      "Speed: 6.5ms preprocess, 1551.5ms inference, 0.8ms postprocess per image at shape (1, 3, 672, 1024)\n"
     ]
    },
    {
     "name": "stderr",
     "output_type": "stream",
     "text": [
      " 62%|██████▏   | 115/185 [02:46<01:45,  1.51s/it]"
     ]
    },
    {
     "name": "stdout",
     "output_type": "stream",
     "text": [
      "\n",
      "0: 576x1024 1 window, 1400.3ms\n",
      "Speed: 7.5ms preprocess, 1400.3ms inference, 0.7ms postprocess per image at shape (1, 3, 576, 1024)\n"
     ]
    },
    {
     "name": "stderr",
     "output_type": "stream",
     "text": [
      " 63%|██████▎   | 116/185 [02:47<01:42,  1.48s/it]"
     ]
    },
    {
     "name": "stdout",
     "output_type": "stream",
     "text": [
      "\n",
      "0: 672x1024 1 window, 1590.7ms\n",
      "Speed: 6.7ms preprocess, 1590.7ms inference, 1.4ms postprocess per image at shape (1, 3, 672, 1024)\n"
     ]
    },
    {
     "name": "stderr",
     "output_type": "stream",
     "text": [
      " 63%|██████▎   | 117/185 [02:49<01:43,  1.53s/it]"
     ]
    },
    {
     "name": "stdout",
     "output_type": "stream",
     "text": [
      "\n",
      "0: 672x1024 1 window, 1594.2ms\n",
      "Speed: 7.0ms preprocess, 1594.2ms inference, 1.0ms postprocess per image at shape (1, 3, 672, 1024)\n"
     ]
    },
    {
     "name": "stderr",
     "output_type": "stream",
     "text": [
      " 64%|██████▍   | 118/185 [02:50<01:44,  1.56s/it]"
     ]
    },
    {
     "name": "stdout",
     "output_type": "stream",
     "text": [
      "\n",
      "0: 576x1024 2 windows, 1462.3ms\n",
      "Speed: 5.8ms preprocess, 1462.3ms inference, 1.2ms postprocess per image at shape (1, 3, 576, 1024)\n"
     ]
    },
    {
     "name": "stderr",
     "output_type": "stream",
     "text": [
      " 64%|██████▍   | 119/185 [02:52<01:41,  1.54s/it]"
     ]
    },
    {
     "name": "stdout",
     "output_type": "stream",
     "text": [
      "\n",
      "0: 672x1024 1 window, 1547.4ms\n",
      "Speed: 6.4ms preprocess, 1547.4ms inference, 0.5ms postprocess per image at shape (1, 3, 672, 1024)\n"
     ]
    },
    {
     "name": "stderr",
     "output_type": "stream",
     "text": [
      " 65%|██████▍   | 120/185 [02:53<01:41,  1.55s/it]"
     ]
    },
    {
     "name": "stdout",
     "output_type": "stream",
     "text": [
      "\n",
      "0: 576x1024 1 window, 1374.3ms\n",
      "Speed: 7.0ms preprocess, 1374.3ms inference, 0.9ms postprocess per image at shape (1, 3, 576, 1024)\n"
     ]
    },
    {
     "name": "stderr",
     "output_type": "stream",
     "text": [
      " 65%|██████▌   | 121/185 [02:55<01:36,  1.51s/it]"
     ]
    },
    {
     "name": "stdout",
     "output_type": "stream",
     "text": [
      "\n",
      "0: 576x1024 1 window, 1390.0ms\n",
      "Speed: 17.8ms preprocess, 1390.0ms inference, 0.9ms postprocess per image at shape (1, 3, 576, 1024)\n"
     ]
    },
    {
     "name": "stderr",
     "output_type": "stream",
     "text": [
      " 66%|██████▌   | 122/185 [02:56<01:33,  1.48s/it]"
     ]
    },
    {
     "name": "stdout",
     "output_type": "stream",
     "text": [
      "\n",
      "0: 576x1024 1 window, 1377.1ms\n",
      "Speed: 7.3ms preprocess, 1377.1ms inference, 0.8ms postprocess per image at shape (1, 3, 576, 1024)\n"
     ]
    },
    {
     "name": "stderr",
     "output_type": "stream",
     "text": [
      " 66%|██████▋   | 123/185 [02:58<01:30,  1.46s/it]"
     ]
    },
    {
     "name": "stdout",
     "output_type": "stream",
     "text": [
      "\n",
      "0: 576x1024 1 window, 1583.0ms\n",
      "Speed: 7.6ms preprocess, 1583.0ms inference, 1.1ms postprocess per image at shape (1, 3, 576, 1024)\n"
     ]
    },
    {
     "name": "stderr",
     "output_type": "stream",
     "text": [
      " 67%|██████▋   | 124/185 [02:59<01:31,  1.50s/it]"
     ]
    },
    {
     "name": "stdout",
     "output_type": "stream",
     "text": [
      "\n",
      "0: 672x1024 1 window, 1770.8ms\n",
      "Speed: 6.7ms preprocess, 1770.8ms inference, 0.8ms postprocess per image at shape (1, 3, 672, 1024)\n"
     ]
    },
    {
     "name": "stderr",
     "output_type": "stream",
     "text": [
      " 68%|██████▊   | 125/185 [03:01<01:35,  1.60s/it]"
     ]
    },
    {
     "name": "stdout",
     "output_type": "stream",
     "text": [
      "\n",
      "0: 576x1024 1 window, 1507.8ms\n",
      "Speed: 7.1ms preprocess, 1507.8ms inference, 0.9ms postprocess per image at shape (1, 3, 576, 1024)\n"
     ]
    },
    {
     "name": "stderr",
     "output_type": "stream",
     "text": [
      " 68%|██████▊   | 126/185 [03:03<01:33,  1.58s/it]"
     ]
    },
    {
     "name": "stdout",
     "output_type": "stream",
     "text": [
      "\n",
      "0: 672x1024 1 window, 1710.4ms\n",
      "Speed: 8.3ms preprocess, 1710.4ms inference, 0.5ms postprocess per image at shape (1, 3, 672, 1024)\n"
     ]
    },
    {
     "name": "stderr",
     "output_type": "stream",
     "text": [
      " 69%|██████▊   | 127/185 [03:04<01:35,  1.64s/it]"
     ]
    },
    {
     "name": "stdout",
     "output_type": "stream",
     "text": [
      "\n",
      "0: 576x1024 1 window, 1928.5ms\n",
      "Speed: 7.3ms preprocess, 1928.5ms inference, 3.4ms postprocess per image at shape (1, 3, 576, 1024)\n"
     ]
    },
    {
     "name": "stderr",
     "output_type": "stream",
     "text": [
      " 69%|██████▉   | 128/185 [03:06<01:39,  1.74s/it]"
     ]
    },
    {
     "name": "stdout",
     "output_type": "stream",
     "text": [
      "\n",
      "0: 576x1024 1 window, 1824.5ms\n",
      "Speed: 9.6ms preprocess, 1824.5ms inference, 1.8ms postprocess per image at shape (1, 3, 576, 1024)\n"
     ]
    },
    {
     "name": "stderr",
     "output_type": "stream",
     "text": [
      " 70%|██████▉   | 129/185 [03:08<01:39,  1.78s/it]"
     ]
    },
    {
     "name": "stdout",
     "output_type": "stream",
     "text": [
      "\n",
      "0: 672x1024 1 window, 1633.4ms\n",
      "Speed: 6.0ms preprocess, 1633.4ms inference, 1.6ms postprocess per image at shape (1, 3, 672, 1024)\n"
     ]
    },
    {
     "name": "stderr",
     "output_type": "stream",
     "text": [
      " 70%|███████   | 130/185 [03:10<01:35,  1.74s/it]"
     ]
    },
    {
     "name": "stdout",
     "output_type": "stream",
     "text": [
      "\n",
      "0: 672x1024 1 window, 1483.0ms\n",
      "Speed: 6.2ms preprocess, 1483.0ms inference, 0.9ms postprocess per image at shape (1, 3, 672, 1024)\n"
     ]
    },
    {
     "name": "stderr",
     "output_type": "stream",
     "text": [
      " 71%|███████   | 131/185 [03:11<01:30,  1.68s/it]"
     ]
    },
    {
     "name": "stdout",
     "output_type": "stream",
     "text": [
      "\n",
      "0: 576x1024 1 window, 1328.3ms\n",
      "Speed: 5.6ms preprocess, 1328.3ms inference, 0.6ms postprocess per image at shape (1, 3, 576, 1024)\n"
     ]
    },
    {
     "name": "stderr",
     "output_type": "stream",
     "text": [
      " 71%|███████▏  | 132/185 [03:13<01:23,  1.58s/it]"
     ]
    },
    {
     "name": "stdout",
     "output_type": "stream",
     "text": [
      "\n",
      "0: 576x1024 1 window, 1324.4ms\n",
      "Speed: 6.6ms preprocess, 1324.4ms inference, 1.2ms postprocess per image at shape (1, 3, 576, 1024)\n"
     ]
    },
    {
     "name": "stderr",
     "output_type": "stream",
     "text": [
      " 72%|███████▏  | 133/185 [03:14<01:18,  1.51s/it]"
     ]
    },
    {
     "name": "stdout",
     "output_type": "stream",
     "text": [
      "\n",
      "0: 672x1024 1 window, 1595.3ms\n",
      "Speed: 6.1ms preprocess, 1595.3ms inference, 0.5ms postprocess per image at shape (1, 3, 672, 1024)\n"
     ]
    },
    {
     "name": "stderr",
     "output_type": "stream",
     "text": [
      " 72%|███████▏  | 134/185 [03:16<01:18,  1.55s/it]"
     ]
    },
    {
     "name": "stdout",
     "output_type": "stream",
     "text": [
      "\n",
      "0: 672x1024 1 window, 1534.2ms\n",
      "Speed: 6.8ms preprocess, 1534.2ms inference, 0.6ms postprocess per image at shape (1, 3, 672, 1024)\n"
     ]
    },
    {
     "name": "stderr",
     "output_type": "stream",
     "text": [
      " 73%|███████▎  | 135/185 [03:17<01:17,  1.56s/it]"
     ]
    },
    {
     "name": "stdout",
     "output_type": "stream",
     "text": [
      "\n",
      "0: 672x1024 1 window, 1548.9ms\n",
      "Speed: 5.9ms preprocess, 1548.9ms inference, 0.9ms postprocess per image at shape (1, 3, 672, 1024)\n"
     ]
    },
    {
     "name": "stderr",
     "output_type": "stream",
     "text": [
      " 74%|███████▎  | 136/185 [03:19<01:16,  1.56s/it]"
     ]
    },
    {
     "name": "stdout",
     "output_type": "stream",
     "text": [
      "\n",
      "0: 672x1024 1 window, 1520.5ms\n",
      "Speed: 6.7ms preprocess, 1520.5ms inference, 0.7ms postprocess per image at shape (1, 3, 672, 1024)\n"
     ]
    },
    {
     "name": "stderr",
     "output_type": "stream",
     "text": [
      " 74%|███████▍  | 137/185 [03:20<01:15,  1.56s/it]"
     ]
    },
    {
     "name": "stdout",
     "output_type": "stream",
     "text": [
      "\n",
      "0: 672x1024 2 windows, 1616.8ms\n",
      "Speed: 6.8ms preprocess, 1616.8ms inference, 0.8ms postprocess per image at shape (1, 3, 672, 1024)\n"
     ]
    },
    {
     "name": "stderr",
     "output_type": "stream",
     "text": [
      " 75%|███████▍  | 138/185 [03:22<01:14,  1.59s/it]"
     ]
    },
    {
     "name": "stdout",
     "output_type": "stream",
     "text": [
      "\n",
      "0: 672x1024 2 windows, 1512.9ms\n",
      "Speed: 6.5ms preprocess, 1512.9ms inference, 0.8ms postprocess per image at shape (1, 3, 672, 1024)\n"
     ]
    },
    {
     "name": "stderr",
     "output_type": "stream",
     "text": [
      " 75%|███████▌  | 139/185 [03:24<01:12,  1.58s/it]"
     ]
    },
    {
     "name": "stdout",
     "output_type": "stream",
     "text": [
      "\n",
      "0: 672x1024 1 window, 1532.2ms\n",
      "Speed: 6.3ms preprocess, 1532.2ms inference, 0.9ms postprocess per image at shape (1, 3, 672, 1024)\n"
     ]
    },
    {
     "name": "stderr",
     "output_type": "stream",
     "text": [
      " 76%|███████▌  | 140/185 [03:25<01:11,  1.58s/it]"
     ]
    },
    {
     "name": "stdout",
     "output_type": "stream",
     "text": [
      "\n",
      "0: 576x1024 1 window, 1402.2ms\n",
      "Speed: 7.0ms preprocess, 1402.2ms inference, 1.1ms postprocess per image at shape (1, 3, 576, 1024)\n"
     ]
    },
    {
     "name": "stderr",
     "output_type": "stream",
     "text": [
      " 76%|███████▌  | 141/185 [03:27<01:07,  1.53s/it]"
     ]
    },
    {
     "name": "stdout",
     "output_type": "stream",
     "text": [
      "\n",
      "0: 576x1024 1 window, 1406.6ms\n",
      "Speed: 47.9ms preprocess, 1406.6ms inference, 0.8ms postprocess per image at shape (1, 3, 576, 1024)\n"
     ]
    },
    {
     "name": "stderr",
     "output_type": "stream",
     "text": [
      " 77%|███████▋  | 142/185 [03:28<01:05,  1.51s/it]"
     ]
    },
    {
     "name": "stdout",
     "output_type": "stream",
     "text": [
      "\n",
      "0: 576x1024 1 window, 1335.5ms\n",
      "Speed: 6.4ms preprocess, 1335.5ms inference, 1.0ms postprocess per image at shape (1, 3, 576, 1024)\n"
     ]
    },
    {
     "name": "stderr",
     "output_type": "stream",
     "text": [
      " 77%|███████▋  | 143/185 [03:29<01:01,  1.47s/it]"
     ]
    },
    {
     "name": "stdout",
     "output_type": "stream",
     "text": [
      "\n",
      "0: 672x1024 1 window, 1533.6ms\n",
      "Speed: 7.0ms preprocess, 1533.6ms inference, 0.7ms postprocess per image at shape (1, 3, 672, 1024)\n"
     ]
    },
    {
     "name": "stderr",
     "output_type": "stream",
     "text": [
      " 78%|███████▊  | 144/185 [03:31<01:01,  1.50s/it]"
     ]
    },
    {
     "name": "stdout",
     "output_type": "stream",
     "text": [
      "\n",
      "0: 672x1024 1 window, 1525.0ms\n",
      "Speed: 6.9ms preprocess, 1525.0ms inference, 1.0ms postprocess per image at shape (1, 3, 672, 1024)\n"
     ]
    },
    {
     "name": "stderr",
     "output_type": "stream",
     "text": [
      " 78%|███████▊  | 145/185 [03:33<01:00,  1.52s/it]"
     ]
    },
    {
     "name": "stdout",
     "output_type": "stream",
     "text": [
      "\n",
      "0: 672x1024 2 windows, 1685.1ms\n",
      "Speed: 6.4ms preprocess, 1685.1ms inference, 0.6ms postprocess per image at shape (1, 3, 672, 1024)\n"
     ]
    },
    {
     "name": "stderr",
     "output_type": "stream",
     "text": [
      " 79%|███████▉  | 146/185 [03:34<01:01,  1.58s/it]"
     ]
    },
    {
     "name": "stdout",
     "output_type": "stream",
     "text": [
      "\n",
      "0: 672x1024 1 window, 1570.6ms\n",
      "Speed: 6.3ms preprocess, 1570.6ms inference, 1.2ms postprocess per image at shape (1, 3, 672, 1024)\n"
     ]
    },
    {
     "name": "stderr",
     "output_type": "stream",
     "text": [
      " 79%|███████▉  | 147/185 [03:36<01:00,  1.59s/it]"
     ]
    },
    {
     "name": "stdout",
     "output_type": "stream",
     "text": [
      "\n",
      "0: 672x1024 1 window, 1562.7ms\n",
      "Speed: 6.6ms preprocess, 1562.7ms inference, 0.7ms postprocess per image at shape (1, 3, 672, 1024)\n"
     ]
    },
    {
     "name": "stderr",
     "output_type": "stream",
     "text": [
      " 80%|████████  | 148/185 [03:38<00:58,  1.59s/it]"
     ]
    },
    {
     "name": "stdout",
     "output_type": "stream",
     "text": [
      "\n",
      "0: 672x1024 1 window, 1567.2ms\n",
      "Speed: 6.8ms preprocess, 1567.2ms inference, 1.0ms postprocess per image at shape (1, 3, 672, 1024)\n"
     ]
    },
    {
     "name": "stderr",
     "output_type": "stream",
     "text": [
      " 81%|████████  | 149/185 [03:39<00:57,  1.60s/it]"
     ]
    },
    {
     "name": "stdout",
     "output_type": "stream",
     "text": [
      "\n",
      "0: 672x1024 1 window, 1858.7ms\n",
      "Speed: 7.2ms preprocess, 1858.7ms inference, 1.6ms postprocess per image at shape (1, 3, 672, 1024)\n"
     ]
    },
    {
     "name": "stderr",
     "output_type": "stream",
     "text": [
      " 81%|████████  | 150/185 [03:41<00:59,  1.69s/it]"
     ]
    },
    {
     "name": "stdout",
     "output_type": "stream",
     "text": [
      "\n",
      "0: 672x1024 1 window, 1531.9ms\n",
      "Speed: 6.4ms preprocess, 1531.9ms inference, 0.6ms postprocess per image at shape (1, 3, 672, 1024)\n"
     ]
    },
    {
     "name": "stderr",
     "output_type": "stream",
     "text": [
      " 82%|████████▏ | 151/185 [03:43<00:56,  1.66s/it]"
     ]
    },
    {
     "name": "stdout",
     "output_type": "stream",
     "text": [
      "\n",
      "0: 576x1024 1 window, 1388.2ms\n",
      "Speed: 5.4ms preprocess, 1388.2ms inference, 1.1ms postprocess per image at shape (1, 3, 576, 1024)\n"
     ]
    },
    {
     "name": "stderr",
     "output_type": "stream",
     "text": [
      " 82%|████████▏ | 152/185 [03:44<00:52,  1.58s/it]"
     ]
    },
    {
     "name": "stdout",
     "output_type": "stream",
     "text": [
      "\n",
      "0: 672x1024 1 window, 1580.9ms\n",
      "Speed: 7.3ms preprocess, 1580.9ms inference, 0.6ms postprocess per image at shape (1, 3, 672, 1024)\n"
     ]
    },
    {
     "name": "stderr",
     "output_type": "stream",
     "text": [
      " 83%|████████▎ | 153/185 [03:46<00:51,  1.59s/it]"
     ]
    },
    {
     "name": "stdout",
     "output_type": "stream",
     "text": [
      "\n",
      "0: 576x1024 1 window, 1667.9ms\n",
      "Speed: 12.6ms preprocess, 1667.9ms inference, 0.9ms postprocess per image at shape (1, 3, 576, 1024)\n"
     ]
    },
    {
     "name": "stderr",
     "output_type": "stream",
     "text": [
      " 83%|████████▎ | 154/185 [03:47<00:50,  1.64s/it]"
     ]
    },
    {
     "name": "stdout",
     "output_type": "stream",
     "text": [
      "\n",
      "0: 576x1024 1 window, 1590.0ms\n",
      "Speed: 7.0ms preprocess, 1590.0ms inference, 0.7ms postprocess per image at shape (1, 3, 576, 1024)\n"
     ]
    },
    {
     "name": "stderr",
     "output_type": "stream",
     "text": [
      " 84%|████████▍ | 155/185 [03:49<00:48,  1.63s/it]"
     ]
    },
    {
     "name": "stdout",
     "output_type": "stream",
     "text": [
      "\n",
      "0: 672x1024 1 window, 1641.6ms\n",
      "Speed: 6.9ms preprocess, 1641.6ms inference, 0.8ms postprocess per image at shape (1, 3, 672, 1024)\n"
     ]
    },
    {
     "name": "stderr",
     "output_type": "stream",
     "text": [
      " 84%|████████▍ | 156/185 [03:51<00:47,  1.65s/it]"
     ]
    },
    {
     "name": "stdout",
     "output_type": "stream",
     "text": [
      "\n",
      "0: 576x1024 1 window, 1354.1ms\n",
      "Speed: 5.7ms preprocess, 1354.1ms inference, 0.6ms postprocess per image at shape (1, 3, 576, 1024)\n"
     ]
    },
    {
     "name": "stderr",
     "output_type": "stream",
     "text": [
      " 85%|████████▍ | 157/185 [03:52<00:43,  1.57s/it]"
     ]
    },
    {
     "name": "stdout",
     "output_type": "stream",
     "text": [
      "\n",
      "0: 576x1024 1 window, 1604.0ms\n",
      "Speed: 5.2ms preprocess, 1604.0ms inference, 1.1ms postprocess per image at shape (1, 3, 576, 1024)\n"
     ]
    },
    {
     "name": "stderr",
     "output_type": "stream",
     "text": [
      " 85%|████████▌ | 158/185 [03:54<00:42,  1.58s/it]"
     ]
    },
    {
     "name": "stdout",
     "output_type": "stream",
     "text": [
      "\n",
      "0: 576x1024 1 window, 1404.3ms\n",
      "Speed: 6.6ms preprocess, 1404.3ms inference, 0.5ms postprocess per image at shape (1, 3, 576, 1024)\n"
     ]
    },
    {
     "name": "stderr",
     "output_type": "stream",
     "text": [
      " 86%|████████▌ | 159/185 [03:55<00:39,  1.54s/it]"
     ]
    },
    {
     "name": "stdout",
     "output_type": "stream",
     "text": [
      "\n",
      "0: 672x1024 2 windows, 1700.1ms\n",
      "Speed: 7.7ms preprocess, 1700.1ms inference, 1.0ms postprocess per image at shape (1, 3, 672, 1024)\n"
     ]
    },
    {
     "name": "stderr",
     "output_type": "stream",
     "text": [
      " 86%|████████▋ | 160/185 [03:57<00:39,  1.60s/it]"
     ]
    },
    {
     "name": "stdout",
     "output_type": "stream",
     "text": [
      "\n",
      "0: 672x1024 1 window, 1648.6ms\n",
      "Speed: 6.5ms preprocess, 1648.6ms inference, 0.8ms postprocess per image at shape (1, 3, 672, 1024)\n"
     ]
    },
    {
     "name": "stderr",
     "output_type": "stream",
     "text": [
      " 87%|████████▋ | 161/185 [03:59<00:39,  1.63s/it]"
     ]
    },
    {
     "name": "stdout",
     "output_type": "stream",
     "text": [
      "\n",
      "0: 576x1024 1 window, 1513.7ms\n",
      "Speed: 16.9ms preprocess, 1513.7ms inference, 0.7ms postprocess per image at shape (1, 3, 576, 1024)\n"
     ]
    },
    {
     "name": "stderr",
     "output_type": "stream",
     "text": [
      " 88%|████████▊ | 162/185 [04:00<00:37,  1.62s/it]"
     ]
    },
    {
     "name": "stdout",
     "output_type": "stream",
     "text": [
      "\n",
      "0: 672x1024 1 window, 1552.9ms\n",
      "Speed: 6.4ms preprocess, 1552.9ms inference, 0.7ms postprocess per image at shape (1, 3, 672, 1024)\n"
     ]
    },
    {
     "name": "stderr",
     "output_type": "stream",
     "text": [
      " 88%|████████▊ | 163/185 [04:02<00:35,  1.61s/it]"
     ]
    },
    {
     "name": "stdout",
     "output_type": "stream",
     "text": [
      "\n",
      "0: 672x1024 2 windows, 1528.4ms\n",
      "Speed: 6.5ms preprocess, 1528.4ms inference, 0.9ms postprocess per image at shape (1, 3, 672, 1024)\n"
     ]
    },
    {
     "name": "stderr",
     "output_type": "stream",
     "text": [
      " 89%|████████▊ | 164/185 [04:03<00:33,  1.60s/it]"
     ]
    },
    {
     "name": "stdout",
     "output_type": "stream",
     "text": [
      "\n",
      "0: 672x1024 3 windows, 1615.3ms\n",
      "Speed: 5.8ms preprocess, 1615.3ms inference, 0.8ms postprocess per image at shape (1, 3, 672, 1024)\n"
     ]
    },
    {
     "name": "stderr",
     "output_type": "stream",
     "text": [
      " 89%|████████▉ | 165/185 [04:05<00:32,  1.61s/it]"
     ]
    },
    {
     "name": "stdout",
     "output_type": "stream",
     "text": [
      "\n",
      "0: 576x1024 1 window, 1568.1ms\n",
      "Speed: 6.3ms preprocess, 1568.1ms inference, 0.8ms postprocess per image at shape (1, 3, 576, 1024)\n"
     ]
    },
    {
     "name": "stderr",
     "output_type": "stream",
     "text": [
      " 90%|████████▉ | 166/185 [04:07<00:30,  1.62s/it]"
     ]
    },
    {
     "name": "stdout",
     "output_type": "stream",
     "text": [
      "\n",
      "0: 672x1024 1 window, 1658.0ms\n",
      "Speed: 6.0ms preprocess, 1658.0ms inference, 1.4ms postprocess per image at shape (1, 3, 672, 1024)\n"
     ]
    },
    {
     "name": "stderr",
     "output_type": "stream",
     "text": [
      " 90%|█████████ | 167/185 [04:08<00:29,  1.65s/it]"
     ]
    },
    {
     "name": "stdout",
     "output_type": "stream",
     "text": [
      "\n",
      "0: 576x1024 1 window, 1449.3ms\n",
      "Speed: 6.3ms preprocess, 1449.3ms inference, 1.0ms postprocess per image at shape (1, 3, 576, 1024)\n"
     ]
    },
    {
     "name": "stderr",
     "output_type": "stream",
     "text": [
      " 91%|█████████ | 168/185 [04:10<00:27,  1.59s/it]"
     ]
    },
    {
     "name": "stdout",
     "output_type": "stream",
     "text": [
      "\n",
      "0: 576x1024 1 window, 1549.2ms\n",
      "Speed: 6.9ms preprocess, 1549.2ms inference, 0.5ms postprocess per image at shape (1, 3, 576, 1024)\n"
     ]
    },
    {
     "name": "stderr",
     "output_type": "stream",
     "text": [
      " 91%|█████████▏| 169/185 [04:11<00:25,  1.59s/it]"
     ]
    },
    {
     "name": "stdout",
     "output_type": "stream",
     "text": [
      "\n",
      "0: 672x1024 1 window, 1638.3ms\n",
      "Speed: 6.7ms preprocess, 1638.3ms inference, 1.0ms postprocess per image at shape (1, 3, 672, 1024)\n"
     ]
    },
    {
     "name": "stderr",
     "output_type": "stream",
     "text": [
      " 92%|█████████▏| 170/185 [04:13<00:24,  1.62s/it]"
     ]
    },
    {
     "name": "stdout",
     "output_type": "stream",
     "text": [
      "\n",
      "0: 672x1024 1 window, 1766.8ms\n",
      "Speed: 7.6ms preprocess, 1766.8ms inference, 1.0ms postprocess per image at shape (1, 3, 672, 1024)\n"
     ]
    },
    {
     "name": "stderr",
     "output_type": "stream",
     "text": [
      " 92%|█████████▏| 171/185 [04:15<00:23,  1.68s/it]"
     ]
    },
    {
     "name": "stdout",
     "output_type": "stream",
     "text": [
      "\n",
      "0: 672x1024 1 window, 1692.2ms\n",
      "Speed: 8.7ms preprocess, 1692.2ms inference, 1.2ms postprocess per image at shape (1, 3, 672, 1024)\n"
     ]
    },
    {
     "name": "stderr",
     "output_type": "stream",
     "text": [
      " 93%|█████████▎| 172/185 [04:17<00:22,  1.70s/it]"
     ]
    },
    {
     "name": "stdout",
     "output_type": "stream",
     "text": [
      "\n",
      "0: 576x1024 1 window, 1484.1ms\n",
      "Speed: 5.8ms preprocess, 1484.1ms inference, 1.0ms postprocess per image at shape (1, 3, 576, 1024)\n"
     ]
    },
    {
     "name": "stderr",
     "output_type": "stream",
     "text": [
      " 94%|█████████▎| 173/185 [04:18<00:19,  1.64s/it]"
     ]
    },
    {
     "name": "stdout",
     "output_type": "stream",
     "text": [
      "\n",
      "0: 576x1024 1 window, 1490.1ms\n",
      "Speed: 10.7ms preprocess, 1490.1ms inference, 1.3ms postprocess per image at shape (1, 3, 576, 1024)\n"
     ]
    },
    {
     "name": "stderr",
     "output_type": "stream",
     "text": [
      " 94%|█████████▍| 174/185 [04:20<00:17,  1.60s/it]"
     ]
    },
    {
     "name": "stdout",
     "output_type": "stream",
     "text": [
      "\n",
      "0: 576x1024 1 window, 1518.3ms\n",
      "Speed: 6.3ms preprocess, 1518.3ms inference, 0.8ms postprocess per image at shape (1, 3, 576, 1024)\n"
     ]
    },
    {
     "name": "stderr",
     "output_type": "stream",
     "text": [
      " 95%|█████████▍| 175/185 [04:21<00:15,  1.59s/it]"
     ]
    },
    {
     "name": "stdout",
     "output_type": "stream",
     "text": [
      "\n",
      "0: 672x1024 1 window, 1546.9ms\n",
      "Speed: 5.9ms preprocess, 1546.9ms inference, 0.6ms postprocess per image at shape (1, 3, 672, 1024)\n"
     ]
    },
    {
     "name": "stderr",
     "output_type": "stream",
     "text": [
      " 95%|█████████▌| 176/185 [04:23<00:14,  1.59s/it]"
     ]
    },
    {
     "name": "stdout",
     "output_type": "stream",
     "text": [
      "\n",
      "0: 672x1024 1 window, 1542.9ms\n",
      "Speed: 6.8ms preprocess, 1542.9ms inference, 1.3ms postprocess per image at shape (1, 3, 672, 1024)\n"
     ]
    },
    {
     "name": "stderr",
     "output_type": "stream",
     "text": [
      " 96%|█████████▌| 177/185 [04:24<00:12,  1.59s/it]"
     ]
    },
    {
     "name": "stdout",
     "output_type": "stream",
     "text": [
      "\n",
      "0: 672x1024 1 window, 1731.9ms\n",
      "Speed: 7.0ms preprocess, 1731.9ms inference, 1.0ms postprocess per image at shape (1, 3, 672, 1024)\n"
     ]
    },
    {
     "name": "stderr",
     "output_type": "stream",
     "text": [
      " 96%|█████████▌| 178/185 [04:26<00:11,  1.64s/it]"
     ]
    },
    {
     "name": "stdout",
     "output_type": "stream",
     "text": [
      "\n",
      "0: 576x1024 2 windows, 1539.5ms\n",
      "Speed: 9.9ms preprocess, 1539.5ms inference, 1.0ms postprocess per image at shape (1, 3, 576, 1024)\n"
     ]
    },
    {
     "name": "stderr",
     "output_type": "stream",
     "text": [
      " 97%|█████████▋| 179/185 [04:28<00:09,  1.62s/it]"
     ]
    },
    {
     "name": "stdout",
     "output_type": "stream",
     "text": [
      "\n",
      "0: 672x1024 1 window, 1551.1ms\n",
      "Speed: 7.3ms preprocess, 1551.1ms inference, 0.6ms postprocess per image at shape (1, 3, 672, 1024)\n"
     ]
    },
    {
     "name": "stderr",
     "output_type": "stream",
     "text": [
      " 97%|█████████▋| 180/185 [04:29<00:08,  1.61s/it]"
     ]
    },
    {
     "name": "stdout",
     "output_type": "stream",
     "text": [
      "\n",
      "0: 576x1024 1 window, 1359.4ms\n",
      "Speed: 6.0ms preprocess, 1359.4ms inference, 0.8ms postprocess per image at shape (1, 3, 576, 1024)\n"
     ]
    },
    {
     "name": "stderr",
     "output_type": "stream",
     "text": [
      " 98%|█████████▊| 181/185 [04:31<00:06,  1.54s/it]"
     ]
    },
    {
     "name": "stdout",
     "output_type": "stream",
     "text": [
      "\n",
      "0: 672x1024 1 window, 1490.2ms\n",
      "Speed: 6.5ms preprocess, 1490.2ms inference, 1.0ms postprocess per image at shape (1, 3, 672, 1024)\n"
     ]
    },
    {
     "name": "stderr",
     "output_type": "stream",
     "text": [
      " 98%|█████████▊| 182/185 [04:32<00:04,  1.54s/it]"
     ]
    },
    {
     "name": "stdout",
     "output_type": "stream",
     "text": [
      "\n",
      "0: 576x1024 1 window, 1323.6ms\n",
      "Speed: 6.2ms preprocess, 1323.6ms inference, 2.1ms postprocess per image at shape (1, 3, 576, 1024)\n"
     ]
    },
    {
     "name": "stderr",
     "output_type": "stream",
     "text": [
      " 99%|█████████▉| 183/185 [04:34<00:02,  1.48s/it]"
     ]
    },
    {
     "name": "stdout",
     "output_type": "stream",
     "text": [
      "\n",
      "0: 576x1024 1 window, 1310.8ms\n",
      "Speed: 5.3ms preprocess, 1310.8ms inference, 0.6ms postprocess per image at shape (1, 3, 576, 1024)\n"
     ]
    },
    {
     "name": "stderr",
     "output_type": "stream",
     "text": [
      " 99%|█████████▉| 184/185 [04:35<00:01,  1.44s/it]"
     ]
    },
    {
     "name": "stdout",
     "output_type": "stream",
     "text": [
      "\n",
      "0: 576x1024 2 windows, 1307.2ms\n",
      "Speed: 5.0ms preprocess, 1307.2ms inference, 0.5ms postprocess per image at shape (1, 3, 576, 1024)\n"
     ]
    },
    {
     "name": "stderr",
     "output_type": "stream",
     "text": [
      "100%|██████████| 185/185 [04:36<00:00,  1.50s/it]\n"
     ]
    }
   ],
   "source": [
    "prediction_annotation_train = []\n",
    "for i in tqdm(range(len(annotations_bbox_train))):\n",
    "    predictions = []\n",
    "    filename = annotations_bbox_train.iloc[i].filename\n",
    "    image_path = f\"WhatsappWindowDataset/WhatsappWindowDataset-Train/{filename}\"\n",
    "    im = plt.imread(image_path)\n",
    "    try:\n",
    "        b = model.predict(im)[0].boxes\n",
    "        predictions.append(filename)\n",
    "        predictions.append('window')\n",
    "        predictions.extend(list(map(int, b.xyxy[0].tolist())))\n",
    "    except: pass\n",
    "    prediction_annotation_train.append(predictions)"
   ]
  },
  {
   "cell_type": "code",
   "execution_count": 16,
   "metadata": {},
   "outputs": [
    {
     "data": {
      "text/html": [
       "<div>\n",
       "<style scoped>\n",
       "    .dataframe tbody tr th:only-of-type {\n",
       "        vertical-align: middle;\n",
       "    }\n",
       "\n",
       "    .dataframe tbody tr th {\n",
       "        vertical-align: top;\n",
       "    }\n",
       "\n",
       "    .dataframe thead th {\n",
       "        text-align: right;\n",
       "    }\n",
       "</style>\n",
       "<table border=\"1\" class=\"dataframe\">\n",
       "  <thead>\n",
       "    <tr style=\"text-align: right;\">\n",
       "      <th></th>\n",
       "      <th>filename</th>\n",
       "      <th>class</th>\n",
       "      <th>xmin</th>\n",
       "      <th>ymin</th>\n",
       "      <th>xmax</th>\n",
       "      <th>ymax</th>\n",
       "    </tr>\n",
       "  </thead>\n",
       "  <tbody>\n",
       "    <tr>\n",
       "      <th>0</th>\n",
       "      <td>WhatsApp-Image-2024-06-14-at-20-35-19_jpeg.rf....</td>\n",
       "      <td>window</td>\n",
       "      <td>0</td>\n",
       "      <td>209</td>\n",
       "      <td>875</td>\n",
       "      <td>676</td>\n",
       "    </tr>\n",
       "    <tr>\n",
       "      <th>1</th>\n",
       "      <td>WhatsApp-Image-2024-06-14-at-20-35-19_jpeg.rf....</td>\n",
       "      <td>window</td>\n",
       "      <td>0</td>\n",
       "      <td>208</td>\n",
       "      <td>872</td>\n",
       "      <td>676</td>\n",
       "    </tr>\n",
       "    <tr>\n",
       "      <th>2</th>\n",
       "      <td>WhatsApp-Image-2024-06-14-at-20-25-53_jpeg.rf....</td>\n",
       "      <td>window</td>\n",
       "      <td>218</td>\n",
       "      <td>67</td>\n",
       "      <td>1118</td>\n",
       "      <td>658</td>\n",
       "    </tr>\n",
       "    <tr>\n",
       "      <th>3</th>\n",
       "      <td>WhatsApp-Image-2024-06-14-at-20-25-53_jpeg.rf....</td>\n",
       "      <td>window</td>\n",
       "      <td>218</td>\n",
       "      <td>67</td>\n",
       "      <td>1118</td>\n",
       "      <td>658</td>\n",
       "    </tr>\n",
       "    <tr>\n",
       "      <th>4</th>\n",
       "      <td>Screenshot-2024-06-15-at-5-41-59-PM_png.rf.072...</td>\n",
       "      <td>window</td>\n",
       "      <td>755</td>\n",
       "      <td>60</td>\n",
       "      <td>1984</td>\n",
       "      <td>938</td>\n",
       "    </tr>\n",
       "    <tr>\n",
       "      <th>...</th>\n",
       "      <td>...</td>\n",
       "      <td>...</td>\n",
       "      <td>...</td>\n",
       "      <td>...</td>\n",
       "      <td>...</td>\n",
       "      <td>...</td>\n",
       "    </tr>\n",
       "    <tr>\n",
       "      <th>180</th>\n",
       "      <td>17_png.rf.f565de9a2a62653529aa75c32bb5c661.jpg</td>\n",
       "      <td>window</td>\n",
       "      <td>386</td>\n",
       "      <td>85</td>\n",
       "      <td>1196</td>\n",
       "      <td>589</td>\n",
       "    </tr>\n",
       "    <tr>\n",
       "      <th>181</th>\n",
       "      <td>Screenshot-2024-06-14-at-9-47-50-PM-10-01-54-P...</td>\n",
       "      <td>window</td>\n",
       "      <td>187</td>\n",
       "      <td>90</td>\n",
       "      <td>2048</td>\n",
       "      <td>1238</td>\n",
       "    </tr>\n",
       "    <tr>\n",
       "      <th>182</th>\n",
       "      <td>7_png.rf.fa8a748f1092f7a9d089a3167de91d06.jpg</td>\n",
       "      <td>window</td>\n",
       "      <td>1</td>\n",
       "      <td>0</td>\n",
       "      <td>836</td>\n",
       "      <td>638</td>\n",
       "    </tr>\n",
       "    <tr>\n",
       "      <th>183</th>\n",
       "      <td>WhatsApp-Image-2024-06-14-at-20-35-07_jpeg.rf....</td>\n",
       "      <td>window</td>\n",
       "      <td>408</td>\n",
       "      <td>0</td>\n",
       "      <td>1280</td>\n",
       "      <td>466</td>\n",
       "    </tr>\n",
       "    <tr>\n",
       "      <th>184</th>\n",
       "      <td>WhatsApp-Image-2024-06-14-at-21-16-28_jpeg.rf....</td>\n",
       "      <td>window</td>\n",
       "      <td>0</td>\n",
       "      <td>2</td>\n",
       "      <td>1054</td>\n",
       "      <td>683</td>\n",
       "    </tr>\n",
       "  </tbody>\n",
       "</table>\n",
       "<p>185 rows × 6 columns</p>\n",
       "</div>"
      ],
      "text/plain": [
       "                                              filename   class  xmin  ymin  \\\n",
       "0    WhatsApp-Image-2024-06-14-at-20-35-19_jpeg.rf....  window     0   209   \n",
       "1    WhatsApp-Image-2024-06-14-at-20-35-19_jpeg.rf....  window     0   208   \n",
       "2    WhatsApp-Image-2024-06-14-at-20-25-53_jpeg.rf....  window   218    67   \n",
       "3    WhatsApp-Image-2024-06-14-at-20-25-53_jpeg.rf....  window   218    67   \n",
       "4    Screenshot-2024-06-15-at-5-41-59-PM_png.rf.072...  window   755    60   \n",
       "..                                                 ...     ...   ...   ...   \n",
       "180     17_png.rf.f565de9a2a62653529aa75c32bb5c661.jpg  window   386    85   \n",
       "181  Screenshot-2024-06-14-at-9-47-50-PM-10-01-54-P...  window   187    90   \n",
       "182      7_png.rf.fa8a748f1092f7a9d089a3167de91d06.jpg  window     1     0   \n",
       "183  WhatsApp-Image-2024-06-14-at-20-35-07_jpeg.rf....  window   408     0   \n",
       "184  WhatsApp-Image-2024-06-14-at-21-16-28_jpeg.rf....  window     0     2   \n",
       "\n",
       "     xmax  ymax  \n",
       "0     875   676  \n",
       "1     872   676  \n",
       "2    1118   658  \n",
       "3    1118   658  \n",
       "4    1984   938  \n",
       "..    ...   ...  \n",
       "180  1196   589  \n",
       "181  2048  1238  \n",
       "182   836   638  \n",
       "183  1280   466  \n",
       "184  1054   683  \n",
       "\n",
       "[185 rows x 6 columns]"
      ]
     },
     "execution_count": 16,
     "metadata": {},
     "output_type": "execute_result"
    }
   ],
   "source": [
    "df = pd.DataFrame(prediction_annotation_train).rename(columns={0:\"filename\", 1:\"class\", 2:\"xmin\", 3:\"ymin\", 4:\"xmax\", 5:\"ymax\"})\n",
    "df"
   ]
  },
  {
   "cell_type": "code",
   "execution_count": 18,
   "metadata": {},
   "outputs": [],
   "source": [
    "df.to_csv(\"IOUcalc/WindowModel/YOLOv9/NO PADDING/Train/Prediction.csv\")\n",
    "annotations_bbox_train.to_csv(\"IOUcalc/WindowModel/YOLOv9/NO PADDING/Train/GroundTruth.csv\")"
   ]
  },
  {
   "cell_type": "code",
   "execution_count": null,
   "metadata": {},
   "outputs": [],
   "source": []
  },
  {
   "cell_type": "code",
   "execution_count": 23,
   "metadata": {},
   "outputs": [
    {
     "data": {
      "text/html": [
       "<div>\n",
       "<style scoped>\n",
       "    .dataframe tbody tr th:only-of-type {\n",
       "        vertical-align: middle;\n",
       "    }\n",
       "\n",
       "    .dataframe tbody tr th {\n",
       "        vertical-align: top;\n",
       "    }\n",
       "\n",
       "    .dataframe thead th {\n",
       "        text-align: right;\n",
       "    }\n",
       "</style>\n",
       "<table border=\"1\" class=\"dataframe\">\n",
       "  <thead>\n",
       "    <tr style=\"text-align: right;\">\n",
       "      <th></th>\n",
       "      <th>filename</th>\n",
       "      <th>class</th>\n",
       "      <th>xmin</th>\n",
       "      <th>ymin</th>\n",
       "      <th>xmax</th>\n",
       "      <th>ymax</th>\n",
       "    </tr>\n",
       "  </thead>\n",
       "  <tbody>\n",
       "    <tr>\n",
       "      <th>0</th>\n",
       "      <td>WhatsApp-Image-2024-06-14-at-20-21-04_jpeg.rf....</td>\n",
       "      <td>window</td>\n",
       "      <td>214</td>\n",
       "      <td>76</td>\n",
       "      <td>1116</td>\n",
       "      <td>610</td>\n",
       "    </tr>\n",
       "    <tr>\n",
       "      <th>1</th>\n",
       "      <td>Screenshot-2024-06-15-at-5-42-31-PM_png.rf.abc...</td>\n",
       "      <td>window</td>\n",
       "      <td>0</td>\n",
       "      <td>43</td>\n",
       "      <td>2048</td>\n",
       "      <td>1276</td>\n",
       "    </tr>\n",
       "    <tr>\n",
       "      <th>2</th>\n",
       "      <td>WhatsApp-Image-2024-06-14-at-20-41-55_jpeg.rf....</td>\n",
       "      <td>window</td>\n",
       "      <td>3</td>\n",
       "      <td>0</td>\n",
       "      <td>1280</td>\n",
       "      <td>680</td>\n",
       "    </tr>\n",
       "    <tr>\n",
       "      <th>3</th>\n",
       "      <td>8_png.rf.1c83f06a7ab340228660dca86eda5eb4.jpg</td>\n",
       "      <td>window</td>\n",
       "      <td>532</td>\n",
       "      <td>3</td>\n",
       "      <td>1332</td>\n",
       "      <td>644</td>\n",
       "    </tr>\n",
       "    <tr>\n",
       "      <th>4</th>\n",
       "      <td>Screenshot-2024-06-15-at-5-42-25-PM_png.rf.3b7...</td>\n",
       "      <td>window</td>\n",
       "      <td>0</td>\n",
       "      <td>42</td>\n",
       "      <td>2048</td>\n",
       "      <td>1272</td>\n",
       "    </tr>\n",
       "  </tbody>\n",
       "</table>\n",
       "</div>"
      ],
      "text/plain": [
       "                                            filename   class  xmin  ymin  \\\n",
       "0  WhatsApp-Image-2024-06-14-at-20-21-04_jpeg.rf....  window   214    76   \n",
       "1  Screenshot-2024-06-15-at-5-42-31-PM_png.rf.abc...  window     0    43   \n",
       "2  WhatsApp-Image-2024-06-14-at-20-41-55_jpeg.rf....  window     3     0   \n",
       "3      8_png.rf.1c83f06a7ab340228660dca86eda5eb4.jpg  window   532     3   \n",
       "4  Screenshot-2024-06-15-at-5-42-25-PM_png.rf.3b7...  window     0    42   \n",
       "\n",
       "   xmax  ymax  \n",
       "0  1116   610  \n",
       "1  2048  1276  \n",
       "2  1280   680  \n",
       "3  1332   644  \n",
       "4  2048  1272  "
      ]
     },
     "execution_count": 23,
     "metadata": {},
     "output_type": "execute_result"
    }
   ],
   "source": [
    "gt_no_padding_test_df = pd.read_csv(\"IOUcalc/WindowModel/YOLOv9/NO PADDING/Test/GroundTruth.csv\").drop(columns=\"Unnamed: 0\")\n",
    "gt_no_padding_test_df.head()"
   ]
  },
  {
   "cell_type": "code",
   "execution_count": 4,
   "metadata": {},
   "outputs": [],
   "source": [
    "import pandas as pd"
   ]
  },
  {
   "cell_type": "code",
   "execution_count": null,
   "metadata": {},
   "outputs": [],
   "source": [
    "def CalcIOU(ground_truth_cord, pred_cord):\n",
    "    x1truth, y1truth, x2truth, y2truth = ground_truth_cord\n",
    "    x1pred, y1pred, x2pred, y2pred = pred_cord\n",
    "\n",
    "    x1inter = max(x1truth, x1pred)\n",
    "    y1inter = max(y1truth, y1pred)\n",
    "    x2inter = min(x2truth, x2pred)\n",
    "    y2inter = min(y2truth, y2pred)\n",
    "\n",
    "    area_intersection = max(0, x2inter - x1inter) * max(0, y2inter - y1inter)\n",
    "    \n",
    "    area_truth = (x2truth - x1truth) * (y2truth - y1truth)\n",
    "    area_pred = (x2pred - x1pred) * (y2pred - y1pred)\n",
    "\n",
    "    area_union = area_truth + area_pred - area_intersection\n",
    "\n",
    "    IOU = round(area_intersection / area_union , 3)\n",
    "    return IOU"
   ]
  },
  {
   "cell_type": "code",
   "execution_count": 30,
   "metadata": {},
   "outputs": [],
   "source": [
    "gt_no_padding_test_df = pd.read_csv(\"IOUcalc/WindowModel/YOLOv9/NO PADDING/Test/GroundTruth.csv\").drop(columns=\"Unnamed: 0\")\n",
    "pred_no_padding_test_df = pd.read_csv(\"IOUcalc/WindowModel/YOLOv9/NO PADDING/Test/Prediction.csv\").drop(columns=\"Unnamed: 0\")"
   ]
  },
  {
   "cell_type": "code",
   "execution_count": 37,
   "metadata": {},
   "outputs": [
    {
     "data": {
      "text/plain": [
       "[0.961, 0.888, 0.86, 0.965, 0.858]"
      ]
     },
     "execution_count": 37,
     "metadata": {},
     "output_type": "execute_result"
    }
   ],
   "source": [
    "IOUs = []\n",
    "for i in range(len(gt_no_padding_test_df)):\n",
    "    IOU = CalcIOU(gt_no_padding_test_df.iloc[:, 2:].iloc[i].to_list(), pred_no_padding_test_df.iloc[:, 2:].iloc[i].to_list())\n",
    "    IOUs.append(IOU)\n",
    "IOUs[:5]"
   ]
  },
  {
   "cell_type": "code",
   "execution_count": 49,
   "metadata": {},
   "outputs": [],
   "source": [
    "fname = pred_no_padding_test_df.iloc[:,0].reset_index().drop(columns=\"index\")\n",
    "fname['IOU'] = IOUs\n",
    "fname.to_csv(\"IOUcalc/WindowModel/YOLOv9/NO PADDING/Test/IOU.csv\")"
   ]
  },
  {
   "cell_type": "code",
   "execution_count": null,
   "metadata": {},
   "outputs": [],
   "source": []
  },
  {
   "cell_type": "code",
   "execution_count": 50,
   "metadata": {},
   "outputs": [],
   "source": [
    "gt_no_padding_train_df = pd.read_csv(\"IOUcalc/WindowModel/YOLOv9/NO PADDING/Train/GroundTruth.csv\").drop(columns=\"Unnamed: 0\")\n",
    "pred_no_padding_train_df = pd.read_csv(\"IOUcalc/WindowModel/YOLOv9/NO PADDING/Train/Prediction.csv\").drop(columns=\"Unnamed: 0\")"
   ]
  },
  {
   "cell_type": "code",
   "execution_count": 51,
   "metadata": {},
   "outputs": [
    {
     "data": {
      "text/plain": [
       "[0.991, 0.997, 0.936, 0.96, 0.966]"
      ]
     },
     "execution_count": 51,
     "metadata": {},
     "output_type": "execute_result"
    }
   ],
   "source": [
    "IOUs = []\n",
    "for i in range(len(gt_no_padding_train_df)):\n",
    "    IOU = CalcIOU(gt_no_padding_train_df.iloc[:, 2:].iloc[i].to_list(), pred_no_padding_train_df.iloc[:, 2:].iloc[i].to_list())\n",
    "    IOUs.append(IOU)\n",
    "IOUs[:5]"
   ]
  },
  {
   "cell_type": "code",
   "execution_count": 52,
   "metadata": {},
   "outputs": [],
   "source": [
    "fname = gt_no_padding_train_df.iloc[:,0].reset_index().drop(columns=\"index\")\n",
    "fname['IOU'] = IOUs\n",
    "fname.to_csv(\"IOUcalc/WindowModel/YOLOv9/NO PADDING/Train/IOU.csv\")"
   ]
  },
  {
   "cell_type": "code",
   "execution_count": null,
   "metadata": {},
   "outputs": [],
   "source": []
  },
  {
   "cell_type": "code",
   "execution_count": 53,
   "metadata": {},
   "outputs": [],
   "source": [
    "gt_padding_test_df = pd.read_csv(\"IOUcalc/WindowModel/YOLOv9/PADDING/Test/GroundTruth.csv\").drop(columns=\"Unnamed: 0\")\n",
    "pred_padding_test_df = pd.read_csv(\"IOUcalc/WindowModel/YOLOv9/PADDING/Test/Prediction.csv\").drop(columns=\"Unnamed: 0\")"
   ]
  },
  {
   "cell_type": "code",
   "execution_count": 54,
   "metadata": {},
   "outputs": [
    {
     "data": {
      "text/plain": [
       "[0.942, 0.987, 0.722, 0.955, 0.512]"
      ]
     },
     "execution_count": 54,
     "metadata": {},
     "output_type": "execute_result"
    }
   ],
   "source": [
    "IOUs = []\n",
    "for i in range(len(gt_padding_test_df)):\n",
    "    IOU = CalcIOU(gt_padding_test_df.iloc[:, 2:].iloc[i].to_list(), pred_padding_test_df.iloc[:, 2:].iloc[i].to_list())\n",
    "    IOUs.append(IOU)\n",
    "IOUs[:5]"
   ]
  },
  {
   "cell_type": "code",
   "execution_count": 56,
   "metadata": {},
   "outputs": [],
   "source": [
    "fname = gt_padding_test_df.iloc[:,0].reset_index().drop(columns=\"index\")\n",
    "fname['IOU'] = IOUs\n",
    "fname.to_csv(\"IOUcalc/WindowModel/YOLOv9/PADDING/Test/IOU.csv\")"
   ]
  },
  {
   "cell_type": "code",
   "execution_count": null,
   "metadata": {},
   "outputs": [],
   "source": []
  },
  {
   "cell_type": "code",
   "execution_count": 57,
   "metadata": {},
   "outputs": [],
   "source": [
    "gt_padding_train_df = pd.read_csv(\"IOUcalc/WindowModel/YOLOv9/PADDING/Train/GroundTruth.csv\").drop(columns=\"Unnamed: 0\")\n",
    "pred_padding_train_df = pd.read_csv(\"IOUcalc/WindowModel/YOLOv9/PADDING/Train/Prediction.csv\").drop(columns=\"Unnamed: 0\")"
   ]
  },
  {
   "cell_type": "code",
   "execution_count": 58,
   "metadata": {},
   "outputs": [
    {
     "data": {
      "text/plain": [
       "[0.932, 0.956, 0.836, 0.996, 0.971]"
      ]
     },
     "execution_count": 58,
     "metadata": {},
     "output_type": "execute_result"
    }
   ],
   "source": [
    "IOUs = []\n",
    "for i in range(len(gt_padding_train_df)):\n",
    "    IOU = CalcIOU(gt_padding_train_df.iloc[:, 2:].iloc[i].to_list(), pred_padding_train_df.iloc[:, 2:].iloc[i].to_list())\n",
    "    IOUs.append(IOU)\n",
    "IOUs[:5]"
   ]
  },
  {
   "cell_type": "code",
   "execution_count": 59,
   "metadata": {},
   "outputs": [],
   "source": [
    "fname = gt_padding_train_df.iloc[:,0].reset_index().drop(columns=\"index\")\n",
    "fname['IOU'] = IOUs\n",
    "fname.to_csv(\"IOUcalc/WindowModel/YOLOv9/PADDING/Train/IOU.csv\")"
   ]
  },
  {
   "cell_type": "code",
   "execution_count": null,
   "metadata": {},
   "outputs": [],
   "source": []
  },
  {
   "cell_type": "code",
   "execution_count": 66,
   "metadata": {},
   "outputs": [],
   "source": [
    "IOU_no_padding_test = pd.read_csv(\"IOUcalc/WindowModel/YOLOv9/NO PADDING/Test/IOU.csv\").drop(columns=\"Unnamed: 0\")[\"IOU\"].to_list()\n",
    "IOU_no_padding_train = pd.read_csv(\"IOUcalc/WindowModel/YOLOv9/NO PADDING/Train/IOU.csv\").drop(columns=\"Unnamed: 0\")[\"IOU\"].to_list()\n",
    "\n",
    "IOU_padding_test = pd.read_csv(\"IOUcalc/WindowModel/YOLOv9/PADDING/Test/IOU.csv\").drop(columns=\"Unnamed: 0\")[\"IOU\"].to_list()\n",
    "IOU_padding_train = pd.read_csv(\"IOUcalc/WindowModel/YOLOv9/PADDING/Train/IOU.csv\").drop(columns=\"Unnamed: 0\")[\"IOU\"].to_list()\n"
   ]
  },
  {
   "cell_type": "code",
   "execution_count": 75,
   "metadata": {},
   "outputs": [
    {
     "data": {
      "text/plain": [
       "[0.961,\n",
       " 0.888,\n",
       " 0.86,\n",
       " 0.965,\n",
       " 0.858,\n",
       " 0.937,\n",
       " 0.729,\n",
       " 0.981,\n",
       " 0.955,\n",
       " 0.941,\n",
       " 0.942,\n",
       " 0.969,\n",
       " 0.436,\n",
       " 0.592,\n",
       " 0.981,\n",
       " 0.883,\n",
       " 0.593,\n",
       " 0.938,\n",
       " 0.984,\n",
       " 0.511,\n",
       " 0.721,\n",
       " 0.888,\n",
       " 0.92,\n",
       " 0.968,\n",
       " 0.972,\n",
       " 0.987]"
      ]
     },
     "execution_count": 75,
     "metadata": {},
     "output_type": "execute_result"
    }
   ],
   "source": [
    "IOU_no_padding_test"
   ]
  },
  {
   "cell_type": "code",
   "execution_count": 77,
   "metadata": {},
   "outputs": [
    {
     "data": {
      "text/plain": [
       "Text(0.5, 0, 'IOU Score')"
      ]
     },
     "execution_count": 77,
     "metadata": {},
     "output_type": "execute_result"
    },
    {
     "data": {
      "image/png": "[encoded data removed]",
      "text/plain": [
       "<Figure size 640x480 with 1 Axes>"
      ]
     },
     "metadata": {},
     "output_type": "display_data"
    }
   ],
   "source": [
    "import seaborn as sns\n",
    "plt.subplot(2, 2, 2)\n",
    "sns.boxplot(data=IOU_no_padding_test, orient='h')\n",
    "plt.title('Box Plot of IOU Scores')\n",
    "plt.xlabel('IOU Score')"
   ]
  },
  {
   "cell_type": "code",
   "execution_count": 69,
   "metadata": {},
   "outputs": [
    {
     "data": {
      "text/plain": [
       "(array([          3,           6,           3,           6,           4,           0,          12,          12,          28,         111]),\n",
       " array([      0.474,      0.5265,       0.579,      0.6315,       0.684,      0.7365,       0.789,      0.8415,       0.894,      0.9465,       0.999]),\n",
       " <BarContainer object of 10 artists>)"
      ]
     },
     "execution_count": 69,
     "metadata": {},
     "output_type": "execute_result"
    },
    {
     "data": {
      "image/png": "[encoded data removed]",
      "text/plain": [
       "<Figure size 640x480 with 1 Axes>"
      ]
     },
     "metadata": {},
     "output_type": "display_data"
    }
   ],
   "source": [
    "plt.hist(IOU_no_padding_train)"
   ]
  },
  {
   "cell_type": "code",
   "execution_count": 70,
   "metadata": {},
   "outputs": [
    {
     "data": {
      "text/plain": [
       "(array([          3,           6,           0,           9,           3,           2,          10,          10,          16,         125]),\n",
       " array([      0.471,      0.5236,      0.5762,      0.6288,      0.6814,       0.734,      0.7866,      0.8392,      0.8918,      0.9444,       0.997]),\n",
       " <BarContainer object of 10 artists>)"
      ]
     },
     "execution_count": 70,
     "metadata": {},
     "output_type": "execute_result"
    },
    {
     "data": {
      "image/png": "[encoded data removed]",
      "text/plain": [
       "<Figure size 640x480 with 1 Axes>"
      ]
     },
     "metadata": {},
     "output_type": "display_data"
    }
   ],
   "source": [
    "plt.hist(IOU_padding_train)"
   ]
  },
  {
   "cell_type": "code",
   "execution_count": 71,
   "metadata": {},
   "outputs": [
    {
     "data": {
      "text/plain": [
       "(array([          1,           2,           0,           0,           1,           0,           0,           4,           4,          14]),\n",
       " array([      0.512,      0.5601,      0.6082,      0.6563,      0.7044,      0.7525,      0.8006,      0.8487,      0.8968,      0.9449,       0.993]),\n",
       " <BarContainer object of 10 artists>)"
      ]
     },
     "execution_count": 71,
     "metadata": {},
     "output_type": "execute_result"
    },
    {
     "data": {
      "image/png": "[encoded data removed]",
      "text/plain": [
       "<Figure size 640x480 with 1 Axes>"
      ]
     },
     "metadata": {},
     "output_type": "display_data"
    }
   ],
   "source": [
    "plt.hist(IOU_padding_test)"
   ]
  },
  {
   "cell_type": "code",
   "execution_count": 83,
   "metadata": {},
   "outputs": [
    {
     "data": {
      "text/plain": [
       "26"
      ]
     },
     "execution_count": 83,
     "metadata": {},
     "output_type": "execute_result"
    }
   ],
   "source": [
    "len(IOU_padding_test)"
   ]
  },
  {
   "cell_type": "code",
   "execution_count": 103,
   "metadata": {},
   "outputs": [
    {
     "data": {
      "text/plain": [
       "<matplotlib.legend.Legend at 0x314409d50>"
      ]
     },
     "execution_count": 103,
     "metadata": {},
     "output_type": "execute_result"
    },
    {
     "data": {
      "image/png": "[encoded data removed]",
      "text/plain": [
       "<Figure size 640x480 with 1 Axes>"
      ]
     },
     "metadata": {},
     "output_type": "display_data"
    }
   ],
   "source": [
    "data_test = {\n",
    "    'IOU_no_padding_test': IOU_no_padding_test,\n",
    "    'IOU_padding_test': IOU_padding_test\n",
    "}\n",
    "\n",
    "df_test = pd.DataFrame(dict([(k, pd.Series(v)) for k,v in data_test.items()]))\n",
    "\n",
    "for col in df_test.columns:\n",
    "    sns.kdeplot(df_test[col].dropna(), fill=True, label=col)\n",
    "plt.title('KDE Plot of IOU Scores - TEST')\n",
    "plt.xlabel('IOU Score')\n",
    "plt.legend(loc='upper left')"
   ]
  },
  {
   "cell_type": "code",
   "execution_count": 104,
   "metadata": {},
   "outputs": [
    {
     "data": {
      "text/plain": [
       "<matplotlib.legend.Legend at 0x313c6d290>"
      ]
     },
     "execution_count": 104,
     "metadata": {},
     "output_type": "execute_result"
    },
    {
     "data": {
      "image/png": "[encoded data removed]",
      "text/plain": [
       "<Figure size 640x480 with 1 Axes>"
      ]
     },
     "metadata": {},
     "output_type": "display_data"
    }
   ],
   "source": [
    "data_train = {\n",
    "    'IOU_no_padding_train': IOU_no_padding_train,\n",
    "    'IOU_padding_train': IOU_padding_train\n",
    "}\n",
    "\n",
    "df_train = pd.DataFrame(dict([(k, pd.Series(v)) for k,v in data_train.items()]))\n",
    "\n",
    "for col in df_train.columns:\n",
    "    sns.kdeplot(df_train[col].dropna(), fill=True, label=col)\n",
    "plt.title('KDE Plot of IOU Scores - TRAIN')\n",
    "plt.xlabel('IOU Score')\n",
    "plt.legend(loc='upper left')"
   ]
  }
 ],
 "metadata": {
  "kernelspec": {
   "display_name": "Python 3",
   "language": "python",
   "name": "python3"
  },
  "language_info": {
   "codemirror_mode": {
    "name": "ipython",
    "version": 3
   },
   "file_extension": ".py",
   "mimetype": "text/x-python",
   "name": "python",
   "nbconvert_exporter": "python",
   "pygments_lexer": "ipython3",
   "version": "3.11.5"
  }
 },
 "nbformat": 4,
 "nbformat_minor": 2
}
